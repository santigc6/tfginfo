{
 "cells": [
  {
   "cell_type": "code",
   "execution_count": 6,
   "metadata": {},
   "outputs": [],
   "source": [
    "import tensorflow as tf"
   ]
  },
  {
   "cell_type": "code",
   "execution_count": 7,
   "metadata": {},
   "outputs": [
    {
     "name": "stdout",
     "output_type": "stream",
     "text": [
      "[name: \"/device:CPU:0\"\n",
      "device_type: \"CPU\"\n",
      "memory_limit: 268435456\n",
      "locality {\n",
      "}\n",
      "incarnation: 11805708641443709539\n",
      ", name: \"/device:GPU:0\"\n",
      "device_type: \"GPU\"\n",
      "memory_limit: 3141979340\n",
      "locality {\n",
      "  bus_id: 1\n",
      "  links {\n",
      "  }\n",
      "}\n",
      "incarnation: 12982603817863414098\n",
      "physical_device_desc: \"device: 0, name: GeForce GTX 1050 Ti, pci bus id: 0000:01:00.0, compute capability: 6.1\"\n",
      "]\n"
     ]
    }
   ],
   "source": [
    "from tensorflow.python.client import device_lib\n",
    "\n",
    "print(device_lib.list_local_devices())"
   ]
  },
  {
   "cell_type": "code",
   "execution_count": 8,
   "metadata": {},
   "outputs": [],
   "source": [
    "import keras\n",
    "\n",
    "config =  tf.compat.v1.ConfigProto()\n",
    "config.gpu_options.per_process_gpu_memory_fraction = 0.4\n",
    "sess = tf.compat.v1.Session(config=config) \n",
    "keras.backend.set_session(sess)"
   ]
  },
  {
   "cell_type": "code",
   "execution_count": 9,
   "metadata": {},
   "outputs": [
    {
     "name": "stdout",
     "output_type": "stream",
     "text": [
      "Requirement already satisfied: ktrain in c:\\users\\berna\\anaconda3\\envs\\tfginfo\\lib\\site-packages (0.9.2)\n",
      "Requirement already satisfied: joblib in c:\\users\\berna\\anaconda3\\envs\\tfginfo\\lib\\site-packages (from ktrain) (0.14.1)\n",
      "Requirement already satisfied: ipython in c:\\users\\berna\\anaconda3\\envs\\tfginfo\\lib\\site-packages (from ktrain) (7.12.0)\n",
      "Requirement already satisfied: packaging in c:\\users\\berna\\anaconda3\\envs\\tfginfo\\lib\\site-packages (from ktrain) (20.1)\n",
      "Requirement already satisfied: fastprogress>=0.1.21 in c:\\users\\berna\\anaconda3\\envs\\tfginfo\\lib\\site-packages (from ktrain) (0.2.2)\n",
      "Requirement already satisfied: matplotlib>=3.0.0 in c:\\users\\berna\\anaconda3\\envs\\tfginfo\\lib\\site-packages (from ktrain) (3.1.3)\n",
      "Requirement already satisfied: keras-bert in c:\\users\\berna\\anaconda3\\envs\\tfginfo\\lib\\site-packages (from ktrain) (0.81.0)\n",
      "Requirement already satisfied: jieba in c:\\users\\berna\\anaconda3\\envs\\tfginfo\\lib\\site-packages (from ktrain) (0.42.1)\n",
      "Requirement already satisfied: bokeh in c:\\users\\berna\\anaconda3\\envs\\tfginfo\\lib\\site-packages (from ktrain) (1.4.0)\n",
      "Requirement already satisfied: scikit-learn==0.21.3 in c:\\users\\berna\\anaconda3\\envs\\tfginfo\\lib\\site-packages (from ktrain) (0.21.3)\n",
      "Requirement already satisfied: pandas<1.0 in c:\\users\\berna\\anaconda3\\envs\\tfginfo\\lib\\site-packages (from ktrain) (0.25.3)\n",
      "Requirement already satisfied: seqeval in c:\\users\\berna\\anaconda3\\envs\\tfginfo\\lib\\site-packages (from ktrain) (0.0.12)\n",
      "Requirement already satisfied: cchardet in c:\\users\\berna\\anaconda3\\envs\\tfginfo\\lib\\site-packages (from ktrain) (2.1.5)\n",
      "Requirement already satisfied: networkx==2.3 in c:\\users\\berna\\anaconda3\\envs\\tfginfo\\lib\\site-packages (from ktrain) (2.3)\n",
      "Requirement already satisfied: tensorflow-datasets in c:\\users\\berna\\anaconda3\\envs\\tfginfo\\lib\\site-packages (from ktrain) (2.0.0)\n",
      "Requirement already satisfied: transformers in c:\\users\\berna\\anaconda3\\envs\\tfginfo\\lib\\site-packages (from ktrain) (2.4.1)\n",
      "Requirement already satisfied: langdetect in c:\\users\\berna\\anaconda3\\envs\\tfginfo\\lib\\site-packages (from ktrain) (1.0.7)\n",
      "Requirement already satisfied: requests in c:\\users\\berna\\anaconda3\\envs\\tfginfo\\lib\\site-packages (from ktrain) (2.22.0)\n",
      "Requirement already satisfied: traitlets>=4.2 in c:\\users\\berna\\anaconda3\\envs\\tfginfo\\lib\\site-packages (from ipython->ktrain) (4.3.3)\n",
      "Requirement already satisfied: colorama; sys_platform == \"win32\" in c:\\users\\berna\\anaconda3\\envs\\tfginfo\\lib\\site-packages (from ipython->ktrain) (0.4.3)\n",
      "Requirement already satisfied: jedi>=0.10 in c:\\users\\berna\\anaconda3\\envs\\tfginfo\\lib\\site-packages (from ipython->ktrain) (0.16.0)\n",
      "Requirement already satisfied: prompt-toolkit!=3.0.0,!=3.0.1,<3.1.0,>=2.0.0 in c:\\users\\berna\\anaconda3\\envs\\tfginfo\\lib\\site-packages (from ipython->ktrain) (3.0.3)\n",
      "Requirement already satisfied: backcall in c:\\users\\berna\\anaconda3\\envs\\tfginfo\\lib\\site-packages (from ipython->ktrain) (0.1.0)\n",
      "Requirement already satisfied: pickleshare in c:\\users\\berna\\anaconda3\\envs\\tfginfo\\lib\\site-packages (from ipython->ktrain) (0.7.5)\n",
      "Requirement already satisfied: setuptools>=18.5 in c:\\users\\berna\\anaconda3\\envs\\tfginfo\\lib\\site-packages (from ipython->ktrain) (45.2.0.post20200210)\n",
      "Requirement already satisfied: pygments in c:\\users\\berna\\anaconda3\\envs\\tfginfo\\lib\\site-packages (from ipython->ktrain) (2.5.2)\n",
      "Requirement already satisfied: decorator in c:\\users\\berna\\anaconda3\\envs\\tfginfo\\lib\\site-packages (from ipython->ktrain) (4.4.1)\n",
      "Requirement already satisfied: six in c:\\users\\berna\\anaconda3\\envs\\tfginfo\\lib\\site-packages (from packaging->ktrain) (1.14.0)\n",
      "Requirement already satisfied: pyparsing>=2.0.2 in c:\\users\\berna\\anaconda3\\envs\\tfginfo\\lib\\site-packages (from packaging->ktrain) (2.4.6)\n",
      "Requirement already satisfied: numpy>=1.11 in c:\\users\\berna\\anaconda3\\envs\\tfginfo\\lib\\site-packages (from matplotlib>=3.0.0->ktrain) (1.18.1)\n",
      "Requirement already satisfied: python-dateutil>=2.1 in c:\\users\\berna\\anaconda3\\envs\\tfginfo\\lib\\site-packages (from matplotlib>=3.0.0->ktrain) (2.8.1)\n",
      "Requirement already satisfied: kiwisolver>=1.0.1 in c:\\users\\berna\\anaconda3\\envs\\tfginfo\\lib\\site-packages (from matplotlib>=3.0.0->ktrain) (1.1.0)\n",
      "Requirement already satisfied: cycler>=0.10 in c:\\users\\berna\\anaconda3\\envs\\tfginfo\\lib\\site-packages (from matplotlib>=3.0.0->ktrain) (0.10.0)\n",
      "Requirement already satisfied: keras-transformer>=0.30.0 in c:\\users\\berna\\anaconda3\\envs\\tfginfo\\lib\\site-packages (from keras-bert->ktrain) (0.32.0)\n",
      "Requirement already satisfied: Keras in c:\\users\\berna\\anaconda3\\envs\\tfginfo\\lib\\site-packages (from keras-bert->ktrain) (2.2.4)\n",
      "Requirement already satisfied: Jinja2>=2.7 in c:\\users\\berna\\anaconda3\\envs\\tfginfo\\lib\\site-packages (from bokeh->ktrain) (2.11.1)\n",
      "Requirement already satisfied: PyYAML>=3.10 in c:\\users\\berna\\anaconda3\\envs\\tfginfo\\lib\\site-packages (from bokeh->ktrain) (5.3)\n",
      "Requirement already satisfied: tornado>=4.3 in c:\\users\\berna\\anaconda3\\envs\\tfginfo\\lib\\site-packages (from bokeh->ktrain) (6.0.3)\n",
      "Requirement already satisfied: pillow>=4.0 in c:\\users\\berna\\anaconda3\\envs\\tfginfo\\lib\\site-packages (from bokeh->ktrain) (7.0.0)\n",
      "Requirement already satisfied: scipy>=0.17.0 in c:\\users\\berna\\anaconda3\\envs\\tfginfo\\lib\\site-packages (from scikit-learn==0.21.3->ktrain) (1.4.1)\n",
      "Requirement already satisfied: pytz>=2017.2 in c:\\users\\berna\\anaconda3\\envs\\tfginfo\\lib\\site-packages (from pandas<1.0->ktrain) (2019.3)\n",
      "Requirement already satisfied: attrs>=18.1.0 in c:\\users\\berna\\anaconda3\\envs\\tfginfo\\lib\\site-packages (from tensorflow-datasets->ktrain) (19.3.0)\n",
      "Requirement already satisfied: termcolor in c:\\users\\berna\\anaconda3\\envs\\tfginfo\\lib\\site-packages (from tensorflow-datasets->ktrain) (1.1.0)\n",
      "Requirement already satisfied: absl-py in c:\\users\\berna\\anaconda3\\envs\\tfginfo\\lib\\site-packages (from tensorflow-datasets->ktrain) (0.8.1)\n",
      "Requirement already satisfied: dill in c:\\users\\berna\\anaconda3\\envs\\tfginfo\\lib\\site-packages (from tensorflow-datasets->ktrain) (0.3.1.1)\n",
      "Requirement already satisfied: tqdm in c:\\users\\berna\\anaconda3\\envs\\tfginfo\\lib\\site-packages (from tensorflow-datasets->ktrain) (4.42.1)\n",
      "Requirement already satisfied: protobuf>=3.6.1 in c:\\users\\berna\\anaconda3\\envs\\tfginfo\\lib\\site-packages (from tensorflow-datasets->ktrain) (3.11.2)\n",
      "Requirement already satisfied: tensorflow-metadata in c:\\users\\berna\\anaconda3\\envs\\tfginfo\\lib\\site-packages (from tensorflow-datasets->ktrain) (0.21.1)\n",
      "Requirement already satisfied: promise in c:\\users\\berna\\anaconda3\\envs\\tfginfo\\lib\\site-packages (from tensorflow-datasets->ktrain) (2.3)\n",
      "Requirement already satisfied: future in c:\\users\\berna\\anaconda3\\envs\\tfginfo\\lib\\site-packages (from tensorflow-datasets->ktrain) (0.18.2)\n",
      "Requirement already satisfied: wrapt in c:\\users\\berna\\anaconda3\\envs\\tfginfo\\lib\\site-packages (from tensorflow-datasets->ktrain) (1.11.2)\n",
      "Requirement already satisfied: boto3 in c:\\users\\berna\\anaconda3\\envs\\tfginfo\\lib\\site-packages (from transformers->ktrain) (1.11.14)\n",
      "Requirement already satisfied: sentencepiece in c:\\users\\berna\\anaconda3\\envs\\tfginfo\\lib\\site-packages (from transformers->ktrain) (0.1.85)\n",
      "Requirement already satisfied: tokenizers==0.0.11 in c:\\users\\berna\\anaconda3\\envs\\tfginfo\\lib\\site-packages (from transformers->ktrain) (0.0.11)\n",
      "Requirement already satisfied: regex!=2019.12.17 in c:\\users\\berna\\anaconda3\\envs\\tfginfo\\lib\\site-packages (from transformers->ktrain) (2020.1.8)\n",
      "Requirement already satisfied: filelock in c:\\users\\berna\\anaconda3\\envs\\tfginfo\\lib\\site-packages (from transformers->ktrain) (3.0.12)\n",
      "Requirement already satisfied: sacremoses in c:\\users\\berna\\anaconda3\\envs\\tfginfo\\lib\\site-packages (from transformers->ktrain) (0.0.38)\n",
      "Requirement already satisfied: chardet<3.1.0,>=3.0.2 in c:\\users\\berna\\anaconda3\\envs\\tfginfo\\lib\\site-packages (from requests->ktrain) (3.0.4)\n",
      "Requirement already satisfied: certifi>=2017.4.17 in c:\\users\\berna\\anaconda3\\envs\\tfginfo\\lib\\site-packages (from requests->ktrain) (2019.11.28)\n",
      "Requirement already satisfied: idna<2.9,>=2.5 in c:\\users\\berna\\anaconda3\\envs\\tfginfo\\lib\\site-packages (from requests->ktrain) (2.8)\n",
      "Requirement already satisfied: urllib3!=1.25.0,!=1.25.1,<1.26,>=1.21.1 in c:\\users\\berna\\anaconda3\\envs\\tfginfo\\lib\\site-packages (from requests->ktrain) (1.25.8)\n",
      "Requirement already satisfied: ipython-genutils in c:\\users\\berna\\anaconda3\\envs\\tfginfo\\lib\\site-packages (from traitlets>=4.2->ipython->ktrain) (0.2.0)\n",
      "Requirement already satisfied: parso>=0.5.2 in c:\\users\\berna\\anaconda3\\envs\\tfginfo\\lib\\site-packages (from jedi>=0.10->ipython->ktrain) (0.6.1)\n",
      "Requirement already satisfied: wcwidth in c:\\users\\berna\\anaconda3\\envs\\tfginfo\\lib\\site-packages (from prompt-toolkit!=3.0.0,!=3.0.1,<3.1.0,>=2.0.0->ipython->ktrain) (0.1.8)\n",
      "Requirement already satisfied: keras-multi-head>=0.22.0 in c:\\users\\berna\\anaconda3\\envs\\tfginfo\\lib\\site-packages (from keras-transformer>=0.30.0->keras-bert->ktrain) (0.22.0)\n",
      "Requirement already satisfied: keras-embed-sim>=0.7.0 in c:\\users\\berna\\anaconda3\\envs\\tfginfo\\lib\\site-packages (from keras-transformer>=0.30.0->keras-bert->ktrain) (0.7.0)\n",
      "Requirement already satisfied: keras-position-wise-feed-forward>=0.5.0 in c:\\users\\berna\\anaconda3\\envs\\tfginfo\\lib\\site-packages (from keras-transformer>=0.30.0->keras-bert->ktrain) (0.6.0)\n",
      "Requirement already satisfied: keras-pos-embd>=0.10.0 in c:\\users\\berna\\anaconda3\\envs\\tfginfo\\lib\\site-packages (from keras-transformer>=0.30.0->keras-bert->ktrain) (0.11.0)\n",
      "Requirement already satisfied: keras-layer-normalization>=0.12.0 in c:\\users\\berna\\anaconda3\\envs\\tfginfo\\lib\\site-packages (from keras-transformer>=0.30.0->keras-bert->ktrain) (0.14.0)\n",
      "Requirement already satisfied: h5py in c:\\users\\berna\\anaconda3\\envs\\tfginfo\\lib\\site-packages (from Keras->keras-bert->ktrain) (2.10.0)\n",
      "Requirement already satisfied: keras_applications>=1.0.6 in c:\\users\\berna\\anaconda3\\envs\\tfginfo\\lib\\site-packages (from Keras->keras-bert->ktrain) (1.0.8)\n",
      "Requirement already satisfied: keras_preprocessing>=1.0.5 in c:\\users\\berna\\anaconda3\\envs\\tfginfo\\lib\\site-packages (from Keras->keras-bert->ktrain) (1.1.0)\n",
      "Requirement already satisfied: MarkupSafe>=0.23 in c:\\users\\berna\\anaconda3\\envs\\tfginfo\\lib\\site-packages (from Jinja2>=2.7->bokeh->ktrain) (1.1.1)\n",
      "Requirement already satisfied: googleapis-common-protos in c:\\users\\berna\\anaconda3\\envs\\tfginfo\\lib\\site-packages (from tensorflow-metadata->tensorflow-datasets->ktrain) (1.51.0)\n",
      "Requirement already satisfied: s3transfer<0.4.0,>=0.3.0 in c:\\users\\berna\\anaconda3\\envs\\tfginfo\\lib\\site-packages (from boto3->transformers->ktrain) (0.3.3)\n",
      "Requirement already satisfied: botocore<1.15.0,>=1.14.14 in c:\\users\\berna\\anaconda3\\envs\\tfginfo\\lib\\site-packages (from boto3->transformers->ktrain) (1.14.14)\n",
      "Requirement already satisfied: jmespath<1.0.0,>=0.7.1 in c:\\users\\berna\\anaconda3\\envs\\tfginfo\\lib\\site-packages (from boto3->transformers->ktrain) (0.9.4)\n",
      "Requirement already satisfied: click in c:\\users\\berna\\anaconda3\\envs\\tfginfo\\lib\\site-packages (from sacremoses->transformers->ktrain) (7.0)\n",
      "Requirement already satisfied: keras-self-attention==0.41.0 in c:\\users\\berna\\anaconda3\\envs\\tfginfo\\lib\\site-packages (from keras-multi-head>=0.22.0->keras-transformer>=0.30.0->keras-bert->ktrain) (0.41.0)\n",
      "Requirement already satisfied: docutils<0.16,>=0.10 in c:\\users\\berna\\anaconda3\\envs\\tfginfo\\lib\\site-packages (from botocore<1.15.0,>=1.14.14->boto3->transformers->ktrain) (0.15.2)\n"
     ]
    }
   ],
   "source": [
    "!pip install ktrain"
   ]
  },
  {
   "cell_type": "code",
   "execution_count": 1,
   "metadata": {},
   "outputs": [
    {
     "name": "stdout",
     "output_type": "stream",
     "text": [
      "using Keras version: 2.2.4-tf\n"
     ]
    }
   ],
   "source": [
    "import ktrain\n",
    "from ktrain import text"
   ]
  },
  {
   "cell_type": "code",
   "execution_count": null,
   "metadata": {},
   "outputs": [],
   "source": [
    "(x_train, y_train), (x_test, y_test), preproc = text.texts_from_folder(\"aclImdb\",\n",
    "                                                                        maxlen=500,\n",
    "                                                                        preprocess_mode=\"bert\",\n",
    "                                                                        classes=[\"pos\", \"neg\"])"
   ]
  },
  {
   "cell_type": "code",
   "execution_count": 11,
   "metadata": {
    "scrolled": true
   },
   "outputs": [
    {
     "name": "stdout",
     "output_type": "stream",
     "text": [
      "Is Multi-Label? False\n",
      "maxlen is 500\n",
      "done.\n"
     ]
    }
   ],
   "source": [
    "learner = ktrain.get_learner(text.text_classifier(\"bert\", (x_train, y_train), preproc=preproc),\n",
    "                            train_data = (x_train, y_train),\n",
    "                            val_data = (x_test, y_test),\n",
    "                            batch_size = 6)"
   ]
  },
  {
   "cell_type": "code",
   "execution_count": null,
   "metadata": {},
   "outputs": [
    {
     "name": "stdout",
     "output_type": "stream",
     "text": [
      "\n",
      "\n",
      "begin training using onecycle policy with max lr of 2e-05...\n",
      "Train on 25000 samples, validate on 25000 samples\n"
     ]
    }
   ],
   "source": [
    "learner.fit_onecycle(2e-5, 1)"
   ]
  },
  {
   "cell_type": "code",
   "execution_count": null,
   "metadata": {},
   "outputs": [],
   "source": [
    "predictor = ktrain.get_predictor(learner.model, preproc)"
   ]
  },
  {
   "cell_type": "code",
   "execution_count": null,
   "metadata": {},
   "outputs": [],
   "source": [
    "data = ['This movie was horrible! The plot was boring. Acting was okay, though.',\n",
    "        'The film really sucked. I want my money back.',\n",
    "        'The plot had too many holes.',\n",
    "        'What a beautiful romantic comedy. 10/10 would see again!',\n",
    "        ]\n",
    "predictor.predict(data)"
   ]
  },
  {
   "cell_type": "code",
   "execution_count": null,
   "metadata": {},
   "outputs": [],
   "source": []
  }
 ],
 "metadata": {
  "kernelspec": {
   "display_name": "Python 3",
   "language": "python",
   "name": "python3"
  }
 },
 "nbformat": 4,
 "nbformat_minor": 4
}
