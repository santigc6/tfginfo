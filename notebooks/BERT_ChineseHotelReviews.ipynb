{
 "cells": [
  {
   "cell_type": "code",
   "execution_count": 2,
   "metadata": {},
   "outputs": [],
   "source": [
    "import ktrain\n",
    "from ktrain import text\n",
    "import os\n",
    "os.environ['CUDA_VISIBLE_DEVICES'] = '-1' #To ignore GPU"
   ]
  },
  {
   "cell_type": "code",
   "execution_count": 4,
   "metadata": {},
   "outputs": [
    {
     "name": "stdout",
     "output_type": "stream",
     "text": [
      "detected encoding: GB18030\n",
      "Decoding with GB18030 failed 1st attempt - using GB18030 with skips\n",
      "skipped 104 lines (0.3%) due to character decoding errors\n",
      "skipped 14 lines (0.2%) due to character decoding errors\n",
      "downloading pretrained BERT model (chinese_L-12_H-768_A-12.zip)...\n",
      "[██████████████████████████████████████████████████]\n",
      "extracting pretrained BERT model...\n",
      "done.\n",
      "\n",
      "cleanup downloaded zip...\n",
      "done.\n",
      "\n",
      "preprocessing train...\n",
      "language: zh-cn\n"
     ]
    },
    {
     "data": {
      "text/html": [
       "done."
      ],
      "text/plain": [
       "<IPython.core.display.HTML object>"
      ]
     },
     "metadata": {},
     "output_type": "display_data"
    },
    {
     "name": "stdout",
     "output_type": "stream",
     "text": [
      "preprocessing test...\n",
      "language: zh-cn\n"
     ]
    },
    {
     "data": {
      "text/html": [
       "done."
      ],
      "text/plain": [
       "<IPython.core.display.HTML object>"
      ]
     },
     "metadata": {},
     "output_type": "display_data"
    }
   ],
   "source": [
    "#We use 15% of the train data for validation\n",
    "train, val, preproc = text.texts_from_folder('../datasets/ChnSentiCorp_htl_ba_6000', \n",
    "                                            maxlen=75, \n",
    "                                            max_features=30000,\n",
    "                                            preprocess_mode='bert',\n",
    "                                            train_test_names=['train'],\n",
    "                                            val_pct=0.15,\n",
    "                                            classes=['pos', 'neg'])"
   ]
  },
  {
   "cell_type": "code",
   "execution_count": 5,
   "metadata": {},
   "outputs": [
    {
     "name": "stdout",
     "output_type": "stream",
     "text": [
      "Is Multi-Label? False\n",
      "maxlen is 75\n",
      "done.\n"
     ]
    }
   ],
   "source": [
    "model = text.text_classifier('bert', train, preproc=preproc)\n",
    "learner = ktrain.get_learner(model, \n",
    "                             train_data=train, \n",
    "                             val_data=val, \n",
    "                             batch_size=32)"
   ]
  },
  {
   "cell_type": "code",
   "execution_count": 6,
   "metadata": {},
   "outputs": [
    {
     "name": "stdout",
     "output_type": "stream",
     "text": [
      "\n",
      "\n",
      "begin training using onecycle policy with max lr of 2e-05...\n",
      "Train on 5028 samples, validate on 888 samples\n",
      "Epoch 1/4\n",
      "5028/5028 [==============================] - 1010s 201ms/sample - loss: 0.4415 - accuracy: 0.7969 - val_loss: 0.2450 - val_accuracy: 0.8953\n",
      "Epoch 2/4\n",
      "5028/5028 [==============================] - 997s 198ms/sample - loss: 0.2371 - accuracy: 0.9053 - val_loss: 0.2068 - val_accuracy: 0.9110\n",
      "Epoch 3/4\n",
      "5028/5028 [==============================] - 1095s 218ms/sample - loss: 0.1260 - accuracy: 0.9525 - val_loss: 0.2286 - val_accuracy: 0.9212\n",
      "Epoch 4/4\n",
      "5028/5028 [==============================] - 1067s 212ms/sample - loss: 0.0441 - accuracy: 0.9855 - val_loss: 0.2181 - val_accuracy: 0.9381\n"
     ]
    },
    {
     "data": {
      "text/plain": [
       "<tensorflow.python.keras.callbacks.History at 0x22b806f2f08>"
      ]
     },
     "execution_count": 6,
     "metadata": {},
     "output_type": "execute_result"
    }
   ],
   "source": [
    "learner.fit_onecycle(2e-5, 4, checkpoint_folder='/tmp/saved_weights')"
   ]
  },
  {
   "cell_type": "code",
   "execution_count": 7,
   "metadata": {},
   "outputs": [
    {
     "name": "stdout",
     "output_type": "stream",
     "text": [
      "----------\n",
      "id:170 | loss:8.75 | true:pos | pred:neg)\n",
      "\n",
      "[CLS]设施陈旧，衣柜的推拉门是坏的，电视机较小，碰巧酒店在对有线电视网路整改，所以只能收到4，5个频道，晕！房间隔音效果很差。优点是交通还算方便，到金街[SEP]\n"
     ]
    }
   ],
   "source": [
    "learner.view_top_losses(n=1, preproc=preproc)"
   ]
  },
  {
   "cell_type": "code",
   "execution_count": 8,
   "metadata": {},
   "outputs": [],
   "source": [
    "predictor = ktrain.get_predictor(learner.model, preproc)"
   ]
  },
  {
   "cell_type": "code",
   "execution_count": 9,
   "metadata": {},
   "outputs": [
    {
     "data": {
      "text/html": [],
      "text/plain": [
       "<IPython.core.display.HTML object>"
      ]
     },
     "metadata": {},
     "output_type": "display_data"
    },
    {
     "data": {
      "text/plain": [
       "'neg'"
      ]
     },
     "execution_count": 9,
     "metadata": {},
     "output_type": "execute_result"
    }
   ],
   "source": [
    "predictor.predict(\"这家酒店的风景和服务都非常糟糕\") #The view and service of this hotel are very bad"
   ]
  },
  {
   "cell_type": "code",
   "execution_count": 10,
   "metadata": {},
   "outputs": [
    {
     "data": {
      "text/html": [],
      "text/plain": [
       "<IPython.core.display.HTML object>"
      ]
     },
     "metadata": {},
     "output_type": "display_data"
    },
    {
     "data": {
      "text/plain": [
       "'pos'"
      ]
     },
     "execution_count": 10,
     "metadata": {},
     "output_type": "execute_result"
    }
   ],
   "source": [
    "predictor.predict(\"我喜欢这家酒店的服务\") #I like the service of this hotel"
   ]
  },
  {
   "cell_type": "code",
   "execution_count": 11,
   "metadata": {},
   "outputs": [
    {
     "data": {
      "text/html": [],
      "text/plain": [
       "<IPython.core.display.HTML object>"
      ]
     },
     "metadata": {},
     "output_type": "display_data"
    },
    {
     "data": {
      "text/plain": [
       "'pos'"
      ]
     },
     "execution_count": 11,
     "metadata": {},
     "output_type": "execute_result"
    }
   ],
   "source": [
    "predictor.save('/tmp/mypred')\n",
    "predictor = ktrain.load_predictor('/tmp/mypred')\n",
    "predictor.predict('我喜欢这家酒店的服务') #I like the service of this hotel"
   ]
  },
  {
   "cell_type": "code",
   "execution_count": null,
   "metadata": {},
   "outputs": [],
   "source": []
  }
 ],
 "metadata": {
  "kernelspec": {
   "display_name": "Python 3",
   "language": "python",
   "name": "python3"
  },
  "language_info": {
   "codemirror_mode": {
    "name": "ipython",
    "version": 3
   },
   "file_extension": ".py",
   "mimetype": "text/x-python",
   "name": "python",
   "nbconvert_exporter": "python",
   "pygments_lexer": "ipython3",
   "version": "3.7.6"
  }
 },
 "nbformat": 4,
 "nbformat_minor": 4
}
