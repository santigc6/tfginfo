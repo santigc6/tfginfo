{
 "cells": [
  {
   "cell_type": "code",
   "execution_count": 1,
   "metadata": {
    "_cell_guid": "79c7e3d0-c299-4dcb-8224-4455121ee9b0",
    "_uuid": "d629ff2d2480ee46fbb7e2d37f6b5fab8052498a"
   },
   "outputs": [],
   "source": [
    "import pandas as pd"
   ]
  },
  {
   "cell_type": "code",
   "execution_count": 23,
   "metadata": {},
   "outputs": [],
   "source": [
    "import pandas as pd\n",
    "\n",
    "train = pd.read_csv('../kaggle_datasets/FASAM/train.csv')\n",
    "data_to_predict = pd.read_csv('../kaggle_datasets/FASAM/test.csv')\n",
    "submission = pd.read_csv('../kaggle_datasets/FASAM/sample_submission.csv')"
   ]
  },
  {
   "cell_type": "code",
   "execution_count": 3,
   "metadata": {},
   "outputs": [
    {
     "data": {
      "text/html": [
       "<div>\n",
       "<style scoped>\n",
       "    .dataframe tbody tr th:only-of-type {\n",
       "        vertical-align: middle;\n",
       "    }\n",
       "\n",
       "    .dataframe tbody tr th {\n",
       "        vertical-align: top;\n",
       "    }\n",
       "\n",
       "    .dataframe thead th {\n",
       "        text-align: right;\n",
       "    }\n",
       "</style>\n",
       "<table border=\"1\" class=\"dataframe\">\n",
       "  <thead>\n",
       "    <tr style=\"text-align: right;\">\n",
       "      <th></th>\n",
       "      <th>article_id</th>\n",
       "      <th>title</th>\n",
       "      <th>text</th>\n",
       "      <th>category</th>\n",
       "    </tr>\n",
       "  </thead>\n",
       "  <tbody>\n",
       "    <tr>\n",
       "      <th>0</th>\n",
       "      <td>8409</td>\n",
       "      <td>Muralha de Lisboa é rota arqueológica com mais...</td>\n",
       "      <td>O urbanismo anárquico dos bairros mais antigos...</td>\n",
       "      <td>turismo</td>\n",
       "    </tr>\n",
       "    <tr>\n",
       "      <th>1</th>\n",
       "      <td>5714</td>\n",
       "      <td>Endeavor lança mapa inédito sobre negócios soc...</td>\n",
       "      <td>As empresas sociais mostraram que é possível u...</td>\n",
       "      <td>empreendedorsocial</td>\n",
       "    </tr>\n",
       "    <tr>\n",
       "      <th>2</th>\n",
       "      <td>9263</td>\n",
       "      <td>Falta de neve no Chile atrasa abertura de esta...</td>\n",
       "      <td>Ao menos quatro estações de esqui no centro do...</td>\n",
       "      <td>turismo</td>\n",
       "    </tr>\n",
       "    <tr>\n",
       "      <th>3</th>\n",
       "      <td>2649</td>\n",
       "      <td>Gravidez causa mudanças no cérebro das mulheres</td>\n",
       "      <td>A gravidez provoca mudanças físicas \"duradoura...</td>\n",
       "      <td>ciencia</td>\n",
       "    </tr>\n",
       "    <tr>\n",
       "      <th>4</th>\n",
       "      <td>6698</td>\n",
       "      <td>Facebook provoca erros em aplicativo para test...</td>\n",
       "      <td>Alguma vez você já ouviu a frase \"o Facebook e...</td>\n",
       "      <td>tec</td>\n",
       "    </tr>\n",
       "  </tbody>\n",
       "</table>\n",
       "</div>"
      ],
      "text/plain": [
       "   article_id                                              title  \\\n",
       "0        8409  Muralha de Lisboa é rota arqueológica com mais...   \n",
       "1        5714  Endeavor lança mapa inédito sobre negócios soc...   \n",
       "2        9263  Falta de neve no Chile atrasa abertura de esta...   \n",
       "3        2649    Gravidez causa mudanças no cérebro das mulheres   \n",
       "4        6698  Facebook provoca erros em aplicativo para test...   \n",
       "\n",
       "                                                text            category  \n",
       "0  O urbanismo anárquico dos bairros mais antigos...             turismo  \n",
       "1  As empresas sociais mostraram que é possível u...  empreendedorsocial  \n",
       "2  Ao menos quatro estações de esqui no centro do...             turismo  \n",
       "3  A gravidez provoca mudanças físicas \"duradoura...             ciencia  \n",
       "4  Alguma vez você já ouviu a frase \"o Facebook e...                 tec  "
      ]
     },
     "execution_count": 3,
     "metadata": {},
     "output_type": "execute_result"
    }
   ],
   "source": [
    "train.head(5)"
   ]
  },
  {
   "cell_type": "code",
   "execution_count": 4,
   "metadata": {},
   "outputs": [
    {
     "data": {
      "text/html": [
       "<div>\n",
       "<style scoped>\n",
       "    .dataframe tbody tr th:only-of-type {\n",
       "        vertical-align: middle;\n",
       "    }\n",
       "\n",
       "    .dataframe tbody tr th {\n",
       "        vertical-align: top;\n",
       "    }\n",
       "\n",
       "    .dataframe thead th {\n",
       "        text-align: right;\n",
       "    }\n",
       "</style>\n",
       "<table border=\"1\" class=\"dataframe\">\n",
       "  <thead>\n",
       "    <tr style=\"text-align: right;\">\n",
       "      <th></th>\n",
       "      <th>article_id</th>\n",
       "      <th>title</th>\n",
       "      <th>text</th>\n",
       "    </tr>\n",
       "  </thead>\n",
       "  <tbody>\n",
       "    <tr>\n",
       "      <th>0</th>\n",
       "      <td>4763</td>\n",
       "      <td>Enem 2016 aumenta 46% o uso do nome social por...</td>\n",
       "      <td>O número de travestis e transexuais que usará ...</td>\n",
       "    </tr>\n",
       "    <tr>\n",
       "      <th>1</th>\n",
       "      <td>52</td>\n",
       "      <td>'Viagem ao Japão é aula de cultura e tradição'...</td>\n",
       "      <td>O ator Jayme Matarazzo, 31, aproveita os inter...</td>\n",
       "    </tr>\n",
       "    <tr>\n",
       "      <th>2</th>\n",
       "      <td>7682</td>\n",
       "      <td>Fotógrafo registra a beleza natural de países ...</td>\n",
       "      <td>O fotógrafo Vitor Schietti, 29, passou quase u...</td>\n",
       "    </tr>\n",
       "    <tr>\n",
       "      <th>3</th>\n",
       "      <td>10292</td>\n",
       "      <td>Azar genético explica preferência do Aedes aeg...</td>\n",
       "      <td>Enquanto alguns sofrem, outros escapam incólum...</td>\n",
       "    </tr>\n",
       "    <tr>\n",
       "      <th>4</th>\n",
       "      <td>7435</td>\n",
       "      <td>Parto humanizado e capital humano ganham apoio...</td>\n",
       "      <td>A Womanity Foundation anunciou no início do mê...</td>\n",
       "    </tr>\n",
       "  </tbody>\n",
       "</table>\n",
       "</div>"
      ],
      "text/plain": [
       "   article_id                                              title  \\\n",
       "0        4763  Enem 2016 aumenta 46% o uso do nome social por...   \n",
       "1          52  'Viagem ao Japão é aula de cultura e tradição'...   \n",
       "2        7682  Fotógrafo registra a beleza natural de países ...   \n",
       "3       10292  Azar genético explica preferência do Aedes aeg...   \n",
       "4        7435  Parto humanizado e capital humano ganham apoio...   \n",
       "\n",
       "                                                text  \n",
       "0  O número de travestis e transexuais que usará ...  \n",
       "1  O ator Jayme Matarazzo, 31, aproveita os inter...  \n",
       "2  O fotógrafo Vitor Schietti, 29, passou quase u...  \n",
       "3  Enquanto alguns sofrem, outros escapam incólum...  \n",
       "4  A Womanity Foundation anunciou no início do mê...  "
      ]
     },
     "execution_count": 4,
     "metadata": {},
     "output_type": "execute_result"
    }
   ],
   "source": [
    "data_to_predict.head(5)"
   ]
  },
  {
   "cell_type": "code",
   "execution_count": 5,
   "metadata": {},
   "outputs": [
    {
     "data": {
      "text/html": [
       "<div>\n",
       "<style scoped>\n",
       "    .dataframe tbody tr th:only-of-type {\n",
       "        vertical-align: middle;\n",
       "    }\n",
       "\n",
       "    .dataframe tbody tr th {\n",
       "        vertical-align: top;\n",
       "    }\n",
       "\n",
       "    .dataframe thead th {\n",
       "        text-align: right;\n",
       "    }\n",
       "</style>\n",
       "<table border=\"1\" class=\"dataframe\">\n",
       "  <thead>\n",
       "    <tr style=\"text-align: right;\">\n",
       "      <th></th>\n",
       "      <th>article_id</th>\n",
       "      <th>category</th>\n",
       "    </tr>\n",
       "  </thead>\n",
       "  <tbody>\n",
       "    <tr>\n",
       "      <th>0</th>\n",
       "      <td>4763</td>\n",
       "      <td>equilibrioesaude</td>\n",
       "    </tr>\n",
       "    <tr>\n",
       "      <th>1</th>\n",
       "      <td>52</td>\n",
       "      <td>sobretudo</td>\n",
       "    </tr>\n",
       "    <tr>\n",
       "      <th>2</th>\n",
       "      <td>7682</td>\n",
       "      <td>sobretudo</td>\n",
       "    </tr>\n",
       "    <tr>\n",
       "      <th>3</th>\n",
       "      <td>10292</td>\n",
       "      <td>equilibrioesaude</td>\n",
       "    </tr>\n",
       "    <tr>\n",
       "      <th>4</th>\n",
       "      <td>7435</td>\n",
       "      <td>equilibrioesaude</td>\n",
       "    </tr>\n",
       "  </tbody>\n",
       "</table>\n",
       "</div>"
      ],
      "text/plain": [
       "   article_id          category\n",
       "0        4763  equilibrioesaude\n",
       "1          52         sobretudo\n",
       "2        7682         sobretudo\n",
       "3       10292  equilibrioesaude\n",
       "4        7435  equilibrioesaude"
      ]
     },
     "execution_count": 5,
     "metadata": {},
     "output_type": "execute_result"
    }
   ],
   "source": [
    "submission.head(5)"
   ]
  },
  {
   "cell_type": "code",
   "execution_count": 6,
   "metadata": {},
   "outputs": [],
   "source": [
    "train = train[['text', 'category']]\n",
    "data_to_predict = data_to_predict[['text']]"
   ]
  },
  {
   "cell_type": "code",
   "execution_count": 7,
   "metadata": {},
   "outputs": [],
   "source": [
    "import nltk\n",
    "# nltk.download('stopwords')\n",
    "stopwords = nltk.corpus.stopwords.words('portuguese')"
   ]
  },
  {
   "cell_type": "code",
   "execution_count": 8,
   "metadata": {},
   "outputs": [],
   "source": [
    "from sklearn.feature_extraction.text import TfidfVectorizer\n",
    "\n",
    "tfidf_vectorizer = TfidfVectorizer(stop_words = stopwords)\n",
    "\n",
    "X_train = train['text']\n",
    "y_train = train['category']\n",
    "X_train = tfidf_vectorizer.fit_transform(X_train)\n",
    "\n",
    "X_test = data_to_predict['text']\n",
    "X_test = tfidf_vectorizer.transform(X_test)"
   ]
  },
  {
   "cell_type": "code",
   "execution_count": 9,
   "metadata": {},
   "outputs": [],
   "source": [
    "df1 = pd.DataFrame(X_train.toarray(), columns=tfidf_vectorizer.get_feature_names())\n",
    "df1['clase']=list(y_train)\n",
    "\n",
    "df2 = pd.DataFrame(X_test.toarray(), columns=tfidf_vectorizer.get_feature_names())"
   ]
  },
  {
   "cell_type": "code",
   "execution_count": 14,
   "metadata": {},
   "outputs": [
    {
     "data": {
      "text/plain": [
       "(7894, 95186)"
      ]
     },
     "execution_count": 14,
     "metadata": {},
     "output_type": "execute_result"
    }
   ],
   "source": [
    "df1.shape"
   ]
  },
  {
   "cell_type": "code",
   "execution_count": 10,
   "metadata": {},
   "outputs": [],
   "source": [
    "from sklearn.model_selection import train_test_split\n",
    "\n",
    "X_train, X_val = train_test_split(df1, test_size=0.25)"
   ]
  },
  {
   "cell_type": "code",
   "execution_count": 11,
   "metadata": {},
   "outputs": [
    {
     "name": "stderr",
     "output_type": "stream",
     "text": [
      "C:\\Users\\berna\\Anaconda3\\envs\\tfginfo\\lib\\site-packages\\sklearn\\externals\\six.py:31: FutureWarning: The module is deprecated in version 0.21 and will be removed in version 0.23 since we've dropped support for Python 2.7. Please rely on the official version of six (https://pypi.org/project/six/).\n",
      "  \"(https://pypi.org/project/six/).\", FutureWarning)\n",
      "C:\\Users\\berna\\Anaconda3\\envs\\tfginfo\\lib\\site-packages\\sklearn\\utils\\deprecation.py:144: FutureWarning: The sklearn.metrics.scorer module is  deprecated in version 0.22 and will be removed in version 0.24. The corresponding classes / functions should instead be imported from sklearn.metrics. Anything that cannot be imported from sklearn.metrics is now part of the private API.\n",
      "  warnings.warn(message, FutureWarning)\n"
     ]
    }
   ],
   "source": [
    "from auto_ml import Predictor\n",
    "\n",
    "column_descriptions = {\n",
    "  'clase': 'output',\n",
    "}\n",
    "\n",
    "ml_predictor = Predictor(type_of_estimator='classifier', column_descriptions=column_descriptions)"
   ]
  },
  {
   "cell_type": "code",
   "execution_count": 12,
   "metadata": {},
   "outputs": [
    {
     "name": "stdout",
     "output_type": "stream",
     "text": [
      "Welcome to auto_ml! We're about to go through and make sense of your data using machine learning, and give you a production-ready pipeline to get predictions with.\n",
      "\n",
      "If you have any issues, or new feature ideas, let us know at http://auto.ml\n",
      "You are running on version 2.9.10\n",
      "Now using the model training_params that you passed in:\n",
      "{}\n",
      "After overwriting our defaults with your values, here are the final params that will be used to initialize the model:\n",
      "{'presort': False, 'learning_rate': 0.1, 'warm_start': True}\n"
     ]
    },
    {
     "name": "stderr",
     "output_type": "stream",
     "text": [
      "C:\\Users\\berna\\Anaconda3\\envs\\tfginfo\\lib\\site-packages\\sklearn\\base.py:197: FutureWarning: From version 0.24, get_params will raise an AttributeError if a parameter cannot be retrieved as an instance attribute. Previously it would return None.\n",
      "  FutureWarning)\n"
     ]
    },
    {
     "name": "stdout",
     "output_type": "stream",
     "text": [
      "Running basic data cleaning\n",
      "Fitting DataFrameVectorizer\n",
      "Now using the model training_params that you passed in:\n",
      "{}\n",
      "After overwriting our defaults with your values, here are the final params that will be used to initialize the model:\n",
      "{'presort': False, 'learning_rate': 0.1, 'warm_start': True}\n",
      "\n",
      "\n",
      "********************************************************************************************\n",
      "About to fit the pipeline for the model GradientBoostingClassifier to predict clase\n",
      "Started at:\n",
      "2020-03-26 21:53:57\n"
     ]
    },
    {
     "name": "stderr",
     "output_type": "stream",
     "text": [
      "C:\\Users\\berna\\Anaconda3\\envs\\tfginfo\\lib\\site-packages\\sklearn\\ensemble\\_gb.py:1342: FutureWarning: The parameter 'presort' is deprecated and has no effect. It will be removed in v0.24. You can suppress this warning by not passing any value to the 'presort' parameter. We also recommend using HistGradientBoosting models instead.\n",
      "  FutureWarning)\n"
     ]
    },
    {
     "name": "stdout",
     "output_type": "stream",
     "text": [
      "[1] random_holdout_set_from_training_data's score is: 0.599\n"
     ]
    },
    {
     "name": "stderr",
     "output_type": "stream",
     "text": [
      "C:\\Users\\berna\\Anaconda3\\envs\\tfginfo\\lib\\site-packages\\sklearn\\ensemble\\_gb.py:1342: FutureWarning: The parameter 'presort' is deprecated and has no effect. It will be removed in v0.24. You can suppress this warning by not passing any value to the 'presort' parameter. We also recommend using HistGradientBoosting models instead.\n",
      "  FutureWarning)\n"
     ]
    },
    {
     "name": "stdout",
     "output_type": "stream",
     "text": [
      "[2] random_holdout_set_from_training_data's score is: 0.709\n"
     ]
    },
    {
     "name": "stderr",
     "output_type": "stream",
     "text": [
      "C:\\Users\\berna\\Anaconda3\\envs\\tfginfo\\lib\\site-packages\\sklearn\\ensemble\\_gb.py:1342: FutureWarning: The parameter 'presort' is deprecated and has no effect. It will be removed in v0.24. You can suppress this warning by not passing any value to the 'presort' parameter. We also recommend using HistGradientBoosting models instead.\n",
      "  FutureWarning)\n"
     ]
    },
    {
     "name": "stdout",
     "output_type": "stream",
     "text": [
      "[3] random_holdout_set_from_training_data's score is: 0.743\n"
     ]
    },
    {
     "name": "stderr",
     "output_type": "stream",
     "text": [
      "C:\\Users\\berna\\Anaconda3\\envs\\tfginfo\\lib\\site-packages\\sklearn\\ensemble\\_gb.py:1342: FutureWarning: The parameter 'presort' is deprecated and has no effect. It will be removed in v0.24. You can suppress this warning by not passing any value to the 'presort' parameter. We also recommend using HistGradientBoosting models instead.\n",
      "  FutureWarning)\n"
     ]
    },
    {
     "name": "stdout",
     "output_type": "stream",
     "text": [
      "[4] random_holdout_set_from_training_data's score is: 0.753\n"
     ]
    },
    {
     "name": "stderr",
     "output_type": "stream",
     "text": [
      "C:\\Users\\berna\\Anaconda3\\envs\\tfginfo\\lib\\site-packages\\sklearn\\ensemble\\_gb.py:1342: FutureWarning: The parameter 'presort' is deprecated and has no effect. It will be removed in v0.24. You can suppress this warning by not passing any value to the 'presort' parameter. We also recommend using HistGradientBoosting models instead.\n",
      "  FutureWarning)\n"
     ]
    },
    {
     "name": "stdout",
     "output_type": "stream",
     "text": [
      "[5] random_holdout_set_from_training_data's score is: 0.759\n"
     ]
    },
    {
     "name": "stderr",
     "output_type": "stream",
     "text": [
      "C:\\Users\\berna\\Anaconda3\\envs\\tfginfo\\lib\\site-packages\\sklearn\\ensemble\\_gb.py:1342: FutureWarning: The parameter 'presort' is deprecated and has no effect. It will be removed in v0.24. You can suppress this warning by not passing any value to the 'presort' parameter. We also recommend using HistGradientBoosting models instead.\n",
      "  FutureWarning)\n"
     ]
    },
    {
     "name": "stdout",
     "output_type": "stream",
     "text": [
      "[6] random_holdout_set_from_training_data's score is: 0.777\n"
     ]
    },
    {
     "name": "stderr",
     "output_type": "stream",
     "text": [
      "C:\\Users\\berna\\Anaconda3\\envs\\tfginfo\\lib\\site-packages\\sklearn\\ensemble\\_gb.py:1342: FutureWarning: The parameter 'presort' is deprecated and has no effect. It will be removed in v0.24. You can suppress this warning by not passing any value to the 'presort' parameter. We also recommend using HistGradientBoosting models instead.\n",
      "  FutureWarning)\n"
     ]
    },
    {
     "name": "stdout",
     "output_type": "stream",
     "text": [
      "[7] random_holdout_set_from_training_data's score is: 0.785\n"
     ]
    },
    {
     "name": "stderr",
     "output_type": "stream",
     "text": [
      "C:\\Users\\berna\\Anaconda3\\envs\\tfginfo\\lib\\site-packages\\sklearn\\ensemble\\_gb.py:1342: FutureWarning: The parameter 'presort' is deprecated and has no effect. It will be removed in v0.24. You can suppress this warning by not passing any value to the 'presort' parameter. We also recommend using HistGradientBoosting models instead.\n",
      "  FutureWarning)\n"
     ]
    },
    {
     "name": "stdout",
     "output_type": "stream",
     "text": [
      "[8] random_holdout_set_from_training_data's score is: 0.792\n"
     ]
    },
    {
     "name": "stderr",
     "output_type": "stream",
     "text": [
      "C:\\Users\\berna\\Anaconda3\\envs\\tfginfo\\lib\\site-packages\\sklearn\\ensemble\\_gb.py:1342: FutureWarning: The parameter 'presort' is deprecated and has no effect. It will be removed in v0.24. You can suppress this warning by not passing any value to the 'presort' parameter. We also recommend using HistGradientBoosting models instead.\n",
      "  FutureWarning)\n"
     ]
    },
    {
     "name": "stdout",
     "output_type": "stream",
     "text": [
      "[9] random_holdout_set_from_training_data's score is: 0.796\n"
     ]
    },
    {
     "name": "stderr",
     "output_type": "stream",
     "text": [
      "C:\\Users\\berna\\Anaconda3\\envs\\tfginfo\\lib\\site-packages\\sklearn\\ensemble\\_gb.py:1342: FutureWarning: The parameter 'presort' is deprecated and has no effect. It will be removed in v0.24. You can suppress this warning by not passing any value to the 'presort' parameter. We also recommend using HistGradientBoosting models instead.\n",
      "  FutureWarning)\n"
     ]
    },
    {
     "name": "stdout",
     "output_type": "stream",
     "text": [
      "[10] random_holdout_set_from_training_data's score is: 0.792\n"
     ]
    },
    {
     "name": "stderr",
     "output_type": "stream",
     "text": [
      "C:\\Users\\berna\\Anaconda3\\envs\\tfginfo\\lib\\site-packages\\sklearn\\ensemble\\_gb.py:1342: FutureWarning: The parameter 'presort' is deprecated and has no effect. It will be removed in v0.24. You can suppress this warning by not passing any value to the 'presort' parameter. We also recommend using HistGradientBoosting models instead.\n",
      "  FutureWarning)\n"
     ]
    },
    {
     "name": "stdout",
     "output_type": "stream",
     "text": [
      "[11] random_holdout_set_from_training_data's score is: 0.796\n"
     ]
    },
    {
     "name": "stderr",
     "output_type": "stream",
     "text": [
      "C:\\Users\\berna\\Anaconda3\\envs\\tfginfo\\lib\\site-packages\\sklearn\\ensemble\\_gb.py:1342: FutureWarning: The parameter 'presort' is deprecated and has no effect. It will be removed in v0.24. You can suppress this warning by not passing any value to the 'presort' parameter. We also recommend using HistGradientBoosting models instead.\n",
      "  FutureWarning)\n"
     ]
    },
    {
     "name": "stdout",
     "output_type": "stream",
     "text": [
      "[12] random_holdout_set_from_training_data's score is: 0.804\n"
     ]
    },
    {
     "name": "stderr",
     "output_type": "stream",
     "text": [
      "C:\\Users\\berna\\Anaconda3\\envs\\tfginfo\\lib\\site-packages\\sklearn\\ensemble\\_gb.py:1342: FutureWarning: The parameter 'presort' is deprecated and has no effect. It will be removed in v0.24. You can suppress this warning by not passing any value to the 'presort' parameter. We also recommend using HistGradientBoosting models instead.\n",
      "  FutureWarning)\n"
     ]
    },
    {
     "name": "stdout",
     "output_type": "stream",
     "text": [
      "[13] random_holdout_set_from_training_data's score is: 0.809\n"
     ]
    },
    {
     "name": "stderr",
     "output_type": "stream",
     "text": [
      "C:\\Users\\berna\\Anaconda3\\envs\\tfginfo\\lib\\site-packages\\sklearn\\ensemble\\_gb.py:1342: FutureWarning: The parameter 'presort' is deprecated and has no effect. It will be removed in v0.24. You can suppress this warning by not passing any value to the 'presort' parameter. We also recommend using HistGradientBoosting models instead.\n",
      "  FutureWarning)\n"
     ]
    },
    {
     "name": "stdout",
     "output_type": "stream",
     "text": [
      "[14] random_holdout_set_from_training_data's score is: 0.811\n"
     ]
    },
    {
     "name": "stderr",
     "output_type": "stream",
     "text": [
      "C:\\Users\\berna\\Anaconda3\\envs\\tfginfo\\lib\\site-packages\\sklearn\\ensemble\\_gb.py:1342: FutureWarning: The parameter 'presort' is deprecated and has no effect. It will be removed in v0.24. You can suppress this warning by not passing any value to the 'presort' parameter. We also recommend using HistGradientBoosting models instead.\n",
      "  FutureWarning)\n"
     ]
    },
    {
     "name": "stdout",
     "output_type": "stream",
     "text": [
      "[15] random_holdout_set_from_training_data's score is: 0.813\n"
     ]
    },
    {
     "name": "stderr",
     "output_type": "stream",
     "text": [
      "C:\\Users\\berna\\Anaconda3\\envs\\tfginfo\\lib\\site-packages\\sklearn\\ensemble\\_gb.py:1342: FutureWarning: The parameter 'presort' is deprecated and has no effect. It will be removed in v0.24. You can suppress this warning by not passing any value to the 'presort' parameter. We also recommend using HistGradientBoosting models instead.\n",
      "  FutureWarning)\n"
     ]
    },
    {
     "name": "stdout",
     "output_type": "stream",
     "text": [
      "[16] random_holdout_set_from_training_data's score is: 0.813\n"
     ]
    },
    {
     "name": "stderr",
     "output_type": "stream",
     "text": [
      "C:\\Users\\berna\\Anaconda3\\envs\\tfginfo\\lib\\site-packages\\sklearn\\ensemble\\_gb.py:1342: FutureWarning: The parameter 'presort' is deprecated and has no effect. It will be removed in v0.24. You can suppress this warning by not passing any value to the 'presort' parameter. We also recommend using HistGradientBoosting models instead.\n",
      "  FutureWarning)\n"
     ]
    },
    {
     "name": "stdout",
     "output_type": "stream",
     "text": [
      "[17] random_holdout_set_from_training_data's score is: 0.814\n"
     ]
    },
    {
     "name": "stderr",
     "output_type": "stream",
     "text": [
      "C:\\Users\\berna\\Anaconda3\\envs\\tfginfo\\lib\\site-packages\\sklearn\\ensemble\\_gb.py:1342: FutureWarning: The parameter 'presort' is deprecated and has no effect. It will be removed in v0.24. You can suppress this warning by not passing any value to the 'presort' parameter. We also recommend using HistGradientBoosting models instead.\n",
      "  FutureWarning)\n"
     ]
    },
    {
     "name": "stdout",
     "output_type": "stream",
     "text": [
      "[18] random_holdout_set_from_training_data's score is: 0.82\n"
     ]
    },
    {
     "name": "stderr",
     "output_type": "stream",
     "text": [
      "C:\\Users\\berna\\Anaconda3\\envs\\tfginfo\\lib\\site-packages\\sklearn\\ensemble\\_gb.py:1342: FutureWarning: The parameter 'presort' is deprecated and has no effect. It will be removed in v0.24. You can suppress this warning by not passing any value to the 'presort' parameter. We also recommend using HistGradientBoosting models instead.\n",
      "  FutureWarning)\n"
     ]
    },
    {
     "name": "stdout",
     "output_type": "stream",
     "text": [
      "[19] random_holdout_set_from_training_data's score is: 0.823\n"
     ]
    },
    {
     "name": "stderr",
     "output_type": "stream",
     "text": [
      "C:\\Users\\berna\\Anaconda3\\envs\\tfginfo\\lib\\site-packages\\sklearn\\ensemble\\_gb.py:1342: FutureWarning: The parameter 'presort' is deprecated and has no effect. It will be removed in v0.24. You can suppress this warning by not passing any value to the 'presort' parameter. We also recommend using HistGradientBoosting models instead.\n",
      "  FutureWarning)\n"
     ]
    },
    {
     "name": "stdout",
     "output_type": "stream",
     "text": [
      "[20] random_holdout_set_from_training_data's score is: 0.823\n"
     ]
    },
    {
     "name": "stderr",
     "output_type": "stream",
     "text": [
      "C:\\Users\\berna\\Anaconda3\\envs\\tfginfo\\lib\\site-packages\\sklearn\\ensemble\\_gb.py:1342: FutureWarning: The parameter 'presort' is deprecated and has no effect. It will be removed in v0.24. You can suppress this warning by not passing any value to the 'presort' parameter. We also recommend using HistGradientBoosting models instead.\n",
      "  FutureWarning)\n"
     ]
    },
    {
     "name": "stdout",
     "output_type": "stream",
     "text": [
      "[21] random_holdout_set_from_training_data's score is: 0.825\n"
     ]
    },
    {
     "name": "stderr",
     "output_type": "stream",
     "text": [
      "C:\\Users\\berna\\Anaconda3\\envs\\tfginfo\\lib\\site-packages\\sklearn\\ensemble\\_gb.py:1342: FutureWarning: The parameter 'presort' is deprecated and has no effect. It will be removed in v0.24. You can suppress this warning by not passing any value to the 'presort' parameter. We also recommend using HistGradientBoosting models instead.\n",
      "  FutureWarning)\n"
     ]
    },
    {
     "name": "stdout",
     "output_type": "stream",
     "text": [
      "[22] random_holdout_set_from_training_data's score is: 0.825\n"
     ]
    },
    {
     "name": "stderr",
     "output_type": "stream",
     "text": [
      "C:\\Users\\berna\\Anaconda3\\envs\\tfginfo\\lib\\site-packages\\sklearn\\ensemble\\_gb.py:1342: FutureWarning: The parameter 'presort' is deprecated and has no effect. It will be removed in v0.24. You can suppress this warning by not passing any value to the 'presort' parameter. We also recommend using HistGradientBoosting models instead.\n",
      "  FutureWarning)\n"
     ]
    },
    {
     "name": "stdout",
     "output_type": "stream",
     "text": [
      "[23] random_holdout_set_from_training_data's score is: 0.827\n"
     ]
    },
    {
     "name": "stderr",
     "output_type": "stream",
     "text": [
      "C:\\Users\\berna\\Anaconda3\\envs\\tfginfo\\lib\\site-packages\\sklearn\\ensemble\\_gb.py:1342: FutureWarning: The parameter 'presort' is deprecated and has no effect. It will be removed in v0.24. You can suppress this warning by not passing any value to the 'presort' parameter. We also recommend using HistGradientBoosting models instead.\n",
      "  FutureWarning)\n"
     ]
    },
    {
     "name": "stdout",
     "output_type": "stream",
     "text": [
      "[24] random_holdout_set_from_training_data's score is: 0.832\n"
     ]
    },
    {
     "name": "stderr",
     "output_type": "stream",
     "text": [
      "C:\\Users\\berna\\Anaconda3\\envs\\tfginfo\\lib\\site-packages\\sklearn\\ensemble\\_gb.py:1342: FutureWarning: The parameter 'presort' is deprecated and has no effect. It will be removed in v0.24. You can suppress this warning by not passing any value to the 'presort' parameter. We also recommend using HistGradientBoosting models instead.\n",
      "  FutureWarning)\n"
     ]
    },
    {
     "name": "stdout",
     "output_type": "stream",
     "text": [
      "[25] random_holdout_set_from_training_data's score is: 0.834\n"
     ]
    },
    {
     "name": "stderr",
     "output_type": "stream",
     "text": [
      "C:\\Users\\berna\\Anaconda3\\envs\\tfginfo\\lib\\site-packages\\sklearn\\ensemble\\_gb.py:1342: FutureWarning: The parameter 'presort' is deprecated and has no effect. It will be removed in v0.24. You can suppress this warning by not passing any value to the 'presort' parameter. We also recommend using HistGradientBoosting models instead.\n",
      "  FutureWarning)\n"
     ]
    },
    {
     "name": "stdout",
     "output_type": "stream",
     "text": [
      "[26] random_holdout_set_from_training_data's score is: 0.834\n"
     ]
    },
    {
     "name": "stderr",
     "output_type": "stream",
     "text": [
      "C:\\Users\\berna\\Anaconda3\\envs\\tfginfo\\lib\\site-packages\\sklearn\\ensemble\\_gb.py:1342: FutureWarning: The parameter 'presort' is deprecated and has no effect. It will be removed in v0.24. You can suppress this warning by not passing any value to the 'presort' parameter. We also recommend using HistGradientBoosting models instead.\n",
      "  FutureWarning)\n"
     ]
    },
    {
     "name": "stdout",
     "output_type": "stream",
     "text": [
      "[27] random_holdout_set_from_training_data's score is: 0.84\n"
     ]
    },
    {
     "name": "stderr",
     "output_type": "stream",
     "text": [
      "C:\\Users\\berna\\Anaconda3\\envs\\tfginfo\\lib\\site-packages\\sklearn\\ensemble\\_gb.py:1342: FutureWarning: The parameter 'presort' is deprecated and has no effect. It will be removed in v0.24. You can suppress this warning by not passing any value to the 'presort' parameter. We also recommend using HistGradientBoosting models instead.\n",
      "  FutureWarning)\n"
     ]
    },
    {
     "name": "stdout",
     "output_type": "stream",
     "text": [
      "[28] random_holdout_set_from_training_data's score is: 0.841\n"
     ]
    },
    {
     "name": "stderr",
     "output_type": "stream",
     "text": [
      "C:\\Users\\berna\\Anaconda3\\envs\\tfginfo\\lib\\site-packages\\sklearn\\ensemble\\_gb.py:1342: FutureWarning: The parameter 'presort' is deprecated and has no effect. It will be removed in v0.24. You can suppress this warning by not passing any value to the 'presort' parameter. We also recommend using HistGradientBoosting models instead.\n",
      "  FutureWarning)\n"
     ]
    },
    {
     "name": "stdout",
     "output_type": "stream",
     "text": [
      "[29] random_holdout_set_from_training_data's score is: 0.841\n"
     ]
    },
    {
     "name": "stderr",
     "output_type": "stream",
     "text": [
      "C:\\Users\\berna\\Anaconda3\\envs\\tfginfo\\lib\\site-packages\\sklearn\\ensemble\\_gb.py:1342: FutureWarning: The parameter 'presort' is deprecated and has no effect. It will be removed in v0.24. You can suppress this warning by not passing any value to the 'presort' parameter. We also recommend using HistGradientBoosting models instead.\n",
      "  FutureWarning)\n"
     ]
    },
    {
     "name": "stdout",
     "output_type": "stream",
     "text": [
      "[30] random_holdout_set_from_training_data's score is: 0.841\n"
     ]
    },
    {
     "name": "stderr",
     "output_type": "stream",
     "text": [
      "C:\\Users\\berna\\Anaconda3\\envs\\tfginfo\\lib\\site-packages\\sklearn\\ensemble\\_gb.py:1342: FutureWarning: The parameter 'presort' is deprecated and has no effect. It will be removed in v0.24. You can suppress this warning by not passing any value to the 'presort' parameter. We also recommend using HistGradientBoosting models instead.\n",
      "  FutureWarning)\n"
     ]
    },
    {
     "name": "stdout",
     "output_type": "stream",
     "text": [
      "[31] random_holdout_set_from_training_data's score is: 0.842\n"
     ]
    },
    {
     "name": "stderr",
     "output_type": "stream",
     "text": [
      "C:\\Users\\berna\\Anaconda3\\envs\\tfginfo\\lib\\site-packages\\sklearn\\ensemble\\_gb.py:1342: FutureWarning: The parameter 'presort' is deprecated and has no effect. It will be removed in v0.24. You can suppress this warning by not passing any value to the 'presort' parameter. We also recommend using HistGradientBoosting models instead.\n",
      "  FutureWarning)\n"
     ]
    },
    {
     "name": "stdout",
     "output_type": "stream",
     "text": [
      "[32] random_holdout_set_from_training_data's score is: 0.843\n"
     ]
    },
    {
     "name": "stderr",
     "output_type": "stream",
     "text": [
      "C:\\Users\\berna\\Anaconda3\\envs\\tfginfo\\lib\\site-packages\\sklearn\\ensemble\\_gb.py:1342: FutureWarning: The parameter 'presort' is deprecated and has no effect. It will be removed in v0.24. You can suppress this warning by not passing any value to the 'presort' parameter. We also recommend using HistGradientBoosting models instead.\n",
      "  FutureWarning)\n"
     ]
    },
    {
     "name": "stdout",
     "output_type": "stream",
     "text": [
      "[33] random_holdout_set_from_training_data's score is: 0.843\n"
     ]
    },
    {
     "name": "stderr",
     "output_type": "stream",
     "text": [
      "C:\\Users\\berna\\Anaconda3\\envs\\tfginfo\\lib\\site-packages\\sklearn\\ensemble\\_gb.py:1342: FutureWarning: The parameter 'presort' is deprecated and has no effect. It will be removed in v0.24. You can suppress this warning by not passing any value to the 'presort' parameter. We also recommend using HistGradientBoosting models instead.\n",
      "  FutureWarning)\n"
     ]
    },
    {
     "name": "stdout",
     "output_type": "stream",
     "text": [
      "[34] random_holdout_set_from_training_data's score is: 0.845\n"
     ]
    },
    {
     "name": "stderr",
     "output_type": "stream",
     "text": [
      "C:\\Users\\berna\\Anaconda3\\envs\\tfginfo\\lib\\site-packages\\sklearn\\ensemble\\_gb.py:1342: FutureWarning: The parameter 'presort' is deprecated and has no effect. It will be removed in v0.24. You can suppress this warning by not passing any value to the 'presort' parameter. We also recommend using HistGradientBoosting models instead.\n",
      "  FutureWarning)\n"
     ]
    },
    {
     "name": "stdout",
     "output_type": "stream",
     "text": [
      "[35] random_holdout_set_from_training_data's score is: 0.847\n"
     ]
    },
    {
     "name": "stderr",
     "output_type": "stream",
     "text": [
      "C:\\Users\\berna\\Anaconda3\\envs\\tfginfo\\lib\\site-packages\\sklearn\\ensemble\\_gb.py:1342: FutureWarning: The parameter 'presort' is deprecated and has no effect. It will be removed in v0.24. You can suppress this warning by not passing any value to the 'presort' parameter. We also recommend using HistGradientBoosting models instead.\n",
      "  FutureWarning)\n"
     ]
    },
    {
     "name": "stdout",
     "output_type": "stream",
     "text": [
      "[36] random_holdout_set_from_training_data's score is: 0.847\n"
     ]
    },
    {
     "name": "stderr",
     "output_type": "stream",
     "text": [
      "C:\\Users\\berna\\Anaconda3\\envs\\tfginfo\\lib\\site-packages\\sklearn\\ensemble\\_gb.py:1342: FutureWarning: The parameter 'presort' is deprecated and has no effect. It will be removed in v0.24. You can suppress this warning by not passing any value to the 'presort' parameter. We also recommend using HistGradientBoosting models instead.\n",
      "  FutureWarning)\n"
     ]
    },
    {
     "name": "stdout",
     "output_type": "stream",
     "text": [
      "[37] random_holdout_set_from_training_data's score is: 0.848\n"
     ]
    },
    {
     "name": "stderr",
     "output_type": "stream",
     "text": [
      "C:\\Users\\berna\\Anaconda3\\envs\\tfginfo\\lib\\site-packages\\sklearn\\ensemble\\_gb.py:1342: FutureWarning: The parameter 'presort' is deprecated and has no effect. It will be removed in v0.24. You can suppress this warning by not passing any value to the 'presort' parameter. We also recommend using HistGradientBoosting models instead.\n",
      "  FutureWarning)\n"
     ]
    },
    {
     "name": "stdout",
     "output_type": "stream",
     "text": [
      "[38] random_holdout_set_from_training_data's score is: 0.849\n"
     ]
    },
    {
     "name": "stderr",
     "output_type": "stream",
     "text": [
      "C:\\Users\\berna\\Anaconda3\\envs\\tfginfo\\lib\\site-packages\\sklearn\\ensemble\\_gb.py:1342: FutureWarning: The parameter 'presort' is deprecated and has no effect. It will be removed in v0.24. You can suppress this warning by not passing any value to the 'presort' parameter. We also recommend using HistGradientBoosting models instead.\n",
      "  FutureWarning)\n"
     ]
    },
    {
     "name": "stdout",
     "output_type": "stream",
     "text": [
      "[39] random_holdout_set_from_training_data's score is: 0.852\n"
     ]
    },
    {
     "name": "stderr",
     "output_type": "stream",
     "text": [
      "C:\\Users\\berna\\Anaconda3\\envs\\tfginfo\\lib\\site-packages\\sklearn\\ensemble\\_gb.py:1342: FutureWarning: The parameter 'presort' is deprecated and has no effect. It will be removed in v0.24. You can suppress this warning by not passing any value to the 'presort' parameter. We also recommend using HistGradientBoosting models instead.\n",
      "  FutureWarning)\n"
     ]
    },
    {
     "name": "stdout",
     "output_type": "stream",
     "text": [
      "[40] random_holdout_set_from_training_data's score is: 0.851\n"
     ]
    },
    {
     "name": "stderr",
     "output_type": "stream",
     "text": [
      "C:\\Users\\berna\\Anaconda3\\envs\\tfginfo\\lib\\site-packages\\sklearn\\ensemble\\_gb.py:1342: FutureWarning: The parameter 'presort' is deprecated and has no effect. It will be removed in v0.24. You can suppress this warning by not passing any value to the 'presort' parameter. We also recommend using HistGradientBoosting models instead.\n",
      "  FutureWarning)\n"
     ]
    },
    {
     "name": "stdout",
     "output_type": "stream",
     "text": [
      "[41] random_holdout_set_from_training_data's score is: 0.852\n"
     ]
    },
    {
     "name": "stderr",
     "output_type": "stream",
     "text": [
      "C:\\Users\\berna\\Anaconda3\\envs\\tfginfo\\lib\\site-packages\\sklearn\\ensemble\\_gb.py:1342: FutureWarning: The parameter 'presort' is deprecated and has no effect. It will be removed in v0.24. You can suppress this warning by not passing any value to the 'presort' parameter. We also recommend using HistGradientBoosting models instead.\n",
      "  FutureWarning)\n"
     ]
    },
    {
     "name": "stdout",
     "output_type": "stream",
     "text": [
      "[42] random_holdout_set_from_training_data's score is: 0.851\n"
     ]
    },
    {
     "name": "stderr",
     "output_type": "stream",
     "text": [
      "C:\\Users\\berna\\Anaconda3\\envs\\tfginfo\\lib\\site-packages\\sklearn\\ensemble\\_gb.py:1342: FutureWarning: The parameter 'presort' is deprecated and has no effect. It will be removed in v0.24. You can suppress this warning by not passing any value to the 'presort' parameter. We also recommend using HistGradientBoosting models instead.\n",
      "  FutureWarning)\n"
     ]
    },
    {
     "name": "stdout",
     "output_type": "stream",
     "text": [
      "[43] random_holdout_set_from_training_data's score is: 0.851\n"
     ]
    },
    {
     "name": "stderr",
     "output_type": "stream",
     "text": [
      "C:\\Users\\berna\\Anaconda3\\envs\\tfginfo\\lib\\site-packages\\sklearn\\ensemble\\_gb.py:1342: FutureWarning: The parameter 'presort' is deprecated and has no effect. It will be removed in v0.24. You can suppress this warning by not passing any value to the 'presort' parameter. We also recommend using HistGradientBoosting models instead.\n",
      "  FutureWarning)\n"
     ]
    },
    {
     "name": "stdout",
     "output_type": "stream",
     "text": [
      "[44] random_holdout_set_from_training_data's score is: 0.851\n"
     ]
    },
    {
     "name": "stderr",
     "output_type": "stream",
     "text": [
      "C:\\Users\\berna\\Anaconda3\\envs\\tfginfo\\lib\\site-packages\\sklearn\\ensemble\\_gb.py:1342: FutureWarning: The parameter 'presort' is deprecated and has no effect. It will be removed in v0.24. You can suppress this warning by not passing any value to the 'presort' parameter. We also recommend using HistGradientBoosting models instead.\n",
      "  FutureWarning)\n"
     ]
    },
    {
     "name": "stdout",
     "output_type": "stream",
     "text": [
      "[45] random_holdout_set_from_training_data's score is: 0.851\n"
     ]
    },
    {
     "name": "stderr",
     "output_type": "stream",
     "text": [
      "C:\\Users\\berna\\Anaconda3\\envs\\tfginfo\\lib\\site-packages\\sklearn\\ensemble\\_gb.py:1342: FutureWarning: The parameter 'presort' is deprecated and has no effect. It will be removed in v0.24. You can suppress this warning by not passing any value to the 'presort' parameter. We also recommend using HistGradientBoosting models instead.\n",
      "  FutureWarning)\n"
     ]
    },
    {
     "name": "stdout",
     "output_type": "stream",
     "text": [
      "[46] random_holdout_set_from_training_data's score is: 0.854\n"
     ]
    },
    {
     "name": "stderr",
     "output_type": "stream",
     "text": [
      "C:\\Users\\berna\\Anaconda3\\envs\\tfginfo\\lib\\site-packages\\sklearn\\ensemble\\_gb.py:1342: FutureWarning: The parameter 'presort' is deprecated and has no effect. It will be removed in v0.24. You can suppress this warning by not passing any value to the 'presort' parameter. We also recommend using HistGradientBoosting models instead.\n",
      "  FutureWarning)\n"
     ]
    },
    {
     "name": "stdout",
     "output_type": "stream",
     "text": [
      "[47] random_holdout_set_from_training_data's score is: 0.855\n"
     ]
    },
    {
     "name": "stderr",
     "output_type": "stream",
     "text": [
      "C:\\Users\\berna\\Anaconda3\\envs\\tfginfo\\lib\\site-packages\\sklearn\\ensemble\\_gb.py:1342: FutureWarning: The parameter 'presort' is deprecated and has no effect. It will be removed in v0.24. You can suppress this warning by not passing any value to the 'presort' parameter. We also recommend using HistGradientBoosting models instead.\n",
      "  FutureWarning)\n"
     ]
    },
    {
     "name": "stdout",
     "output_type": "stream",
     "text": [
      "[48] random_holdout_set_from_training_data's score is: 0.855\n"
     ]
    },
    {
     "name": "stderr",
     "output_type": "stream",
     "text": [
      "C:\\Users\\berna\\Anaconda3\\envs\\tfginfo\\lib\\site-packages\\sklearn\\ensemble\\_gb.py:1342: FutureWarning: The parameter 'presort' is deprecated and has no effect. It will be removed in v0.24. You can suppress this warning by not passing any value to the 'presort' parameter. We also recommend using HistGradientBoosting models instead.\n",
      "  FutureWarning)\n"
     ]
    },
    {
     "name": "stdout",
     "output_type": "stream",
     "text": [
      "[49] random_holdout_set_from_training_data's score is: 0.856\n"
     ]
    },
    {
     "name": "stderr",
     "output_type": "stream",
     "text": [
      "C:\\Users\\berna\\Anaconda3\\envs\\tfginfo\\lib\\site-packages\\sklearn\\ensemble\\_gb.py:1342: FutureWarning: The parameter 'presort' is deprecated and has no effect. It will be removed in v0.24. You can suppress this warning by not passing any value to the 'presort' parameter. We also recommend using HistGradientBoosting models instead.\n",
      "  FutureWarning)\n"
     ]
    },
    {
     "name": "stdout",
     "output_type": "stream",
     "text": [
      "[50] random_holdout_set_from_training_data's score is: 0.857\n"
     ]
    },
    {
     "name": "stderr",
     "output_type": "stream",
     "text": [
      "C:\\Users\\berna\\Anaconda3\\envs\\tfginfo\\lib\\site-packages\\sklearn\\ensemble\\_gb.py:1342: FutureWarning: The parameter 'presort' is deprecated and has no effect. It will be removed in v0.24. You can suppress this warning by not passing any value to the 'presort' parameter. We also recommend using HistGradientBoosting models instead.\n",
      "  FutureWarning)\n"
     ]
    },
    {
     "name": "stdout",
     "output_type": "stream",
     "text": [
      "[52] random_holdout_set_from_training_data's score is: 0.858\n"
     ]
    },
    {
     "name": "stderr",
     "output_type": "stream",
     "text": [
      "C:\\Users\\berna\\Anaconda3\\envs\\tfginfo\\lib\\site-packages\\sklearn\\ensemble\\_gb.py:1342: FutureWarning: The parameter 'presort' is deprecated and has no effect. It will be removed in v0.24. You can suppress this warning by not passing any value to the 'presort' parameter. We also recommend using HistGradientBoosting models instead.\n",
      "  FutureWarning)\n"
     ]
    },
    {
     "name": "stdout",
     "output_type": "stream",
     "text": [
      "[54] random_holdout_set_from_training_data's score is: 0.857\n"
     ]
    },
    {
     "name": "stderr",
     "output_type": "stream",
     "text": [
      "C:\\Users\\berna\\Anaconda3\\envs\\tfginfo\\lib\\site-packages\\sklearn\\ensemble\\_gb.py:1342: FutureWarning: The parameter 'presort' is deprecated and has no effect. It will be removed in v0.24. You can suppress this warning by not passing any value to the 'presort' parameter. We also recommend using HistGradientBoosting models instead.\n",
      "  FutureWarning)\n"
     ]
    },
    {
     "name": "stdout",
     "output_type": "stream",
     "text": [
      "[56] random_holdout_set_from_training_data's score is: 0.858\n"
     ]
    },
    {
     "name": "stderr",
     "output_type": "stream",
     "text": [
      "C:\\Users\\berna\\Anaconda3\\envs\\tfginfo\\lib\\site-packages\\sklearn\\ensemble\\_gb.py:1342: FutureWarning: The parameter 'presort' is deprecated and has no effect. It will be removed in v0.24. You can suppress this warning by not passing any value to the 'presort' parameter. We also recommend using HistGradientBoosting models instead.\n",
      "  FutureWarning)\n"
     ]
    },
    {
     "name": "stdout",
     "output_type": "stream",
     "text": [
      "[58] random_holdout_set_from_training_data's score is: 0.861\n"
     ]
    },
    {
     "name": "stderr",
     "output_type": "stream",
     "text": [
      "C:\\Users\\berna\\Anaconda3\\envs\\tfginfo\\lib\\site-packages\\sklearn\\ensemble\\_gb.py:1342: FutureWarning: The parameter 'presort' is deprecated and has no effect. It will be removed in v0.24. You can suppress this warning by not passing any value to the 'presort' parameter. We also recommend using HistGradientBoosting models instead.\n",
      "  FutureWarning)\n"
     ]
    },
    {
     "name": "stdout",
     "output_type": "stream",
     "text": [
      "[60] random_holdout_set_from_training_data's score is: 0.86\n"
     ]
    },
    {
     "name": "stderr",
     "output_type": "stream",
     "text": [
      "C:\\Users\\berna\\Anaconda3\\envs\\tfginfo\\lib\\site-packages\\sklearn\\ensemble\\_gb.py:1342: FutureWarning: The parameter 'presort' is deprecated and has no effect. It will be removed in v0.24. You can suppress this warning by not passing any value to the 'presort' parameter. We also recommend using HistGradientBoosting models instead.\n",
      "  FutureWarning)\n"
     ]
    },
    {
     "name": "stdout",
     "output_type": "stream",
     "text": [
      "[62] random_holdout_set_from_training_data's score is: 0.865\n"
     ]
    },
    {
     "name": "stderr",
     "output_type": "stream",
     "text": [
      "C:\\Users\\berna\\Anaconda3\\envs\\tfginfo\\lib\\site-packages\\sklearn\\ensemble\\_gb.py:1342: FutureWarning: The parameter 'presort' is deprecated and has no effect. It will be removed in v0.24. You can suppress this warning by not passing any value to the 'presort' parameter. We also recommend using HistGradientBoosting models instead.\n",
      "  FutureWarning)\n"
     ]
    },
    {
     "name": "stdout",
     "output_type": "stream",
     "text": [
      "[64] random_holdout_set_from_training_data's score is: 0.864\n"
     ]
    },
    {
     "name": "stderr",
     "output_type": "stream",
     "text": [
      "C:\\Users\\berna\\Anaconda3\\envs\\tfginfo\\lib\\site-packages\\sklearn\\ensemble\\_gb.py:1342: FutureWarning: The parameter 'presort' is deprecated and has no effect. It will be removed in v0.24. You can suppress this warning by not passing any value to the 'presort' parameter. We also recommend using HistGradientBoosting models instead.\n",
      "  FutureWarning)\n"
     ]
    },
    {
     "name": "stdout",
     "output_type": "stream",
     "text": [
      "[66] random_holdout_set_from_training_data's score is: 0.863\n"
     ]
    },
    {
     "name": "stderr",
     "output_type": "stream",
     "text": [
      "C:\\Users\\berna\\Anaconda3\\envs\\tfginfo\\lib\\site-packages\\sklearn\\ensemble\\_gb.py:1342: FutureWarning: The parameter 'presort' is deprecated and has no effect. It will be removed in v0.24. You can suppress this warning by not passing any value to the 'presort' parameter. We also recommend using HistGradientBoosting models instead.\n",
      "  FutureWarning)\n"
     ]
    },
    {
     "name": "stdout",
     "output_type": "stream",
     "text": [
      "[68] random_holdout_set_from_training_data's score is: 0.864\n"
     ]
    },
    {
     "name": "stderr",
     "output_type": "stream",
     "text": [
      "C:\\Users\\berna\\Anaconda3\\envs\\tfginfo\\lib\\site-packages\\sklearn\\ensemble\\_gb.py:1342: FutureWarning: The parameter 'presort' is deprecated and has no effect. It will be removed in v0.24. You can suppress this warning by not passing any value to the 'presort' parameter. We also recommend using HistGradientBoosting models instead.\n",
      "  FutureWarning)\n"
     ]
    },
    {
     "name": "stdout",
     "output_type": "stream",
     "text": [
      "[70] random_holdout_set_from_training_data's score is: 0.863\n"
     ]
    },
    {
     "name": "stderr",
     "output_type": "stream",
     "text": [
      "C:\\Users\\berna\\Anaconda3\\envs\\tfginfo\\lib\\site-packages\\sklearn\\ensemble\\_gb.py:1342: FutureWarning: The parameter 'presort' is deprecated and has no effect. It will be removed in v0.24. You can suppress this warning by not passing any value to the 'presort' parameter. We also recommend using HistGradientBoosting models instead.\n",
      "  FutureWarning)\n"
     ]
    },
    {
     "name": "stdout",
     "output_type": "stream",
     "text": [
      "[72] random_holdout_set_from_training_data's score is: 0.866\n"
     ]
    },
    {
     "name": "stderr",
     "output_type": "stream",
     "text": [
      "C:\\Users\\berna\\Anaconda3\\envs\\tfginfo\\lib\\site-packages\\sklearn\\ensemble\\_gb.py:1342: FutureWarning: The parameter 'presort' is deprecated and has no effect. It will be removed in v0.24. You can suppress this warning by not passing any value to the 'presort' parameter. We also recommend using HistGradientBoosting models instead.\n",
      "  FutureWarning)\n"
     ]
    },
    {
     "name": "stdout",
     "output_type": "stream",
     "text": [
      "[74] random_holdout_set_from_training_data's score is: 0.868\n"
     ]
    },
    {
     "name": "stderr",
     "output_type": "stream",
     "text": [
      "C:\\Users\\berna\\Anaconda3\\envs\\tfginfo\\lib\\site-packages\\sklearn\\ensemble\\_gb.py:1342: FutureWarning: The parameter 'presort' is deprecated and has no effect. It will be removed in v0.24. You can suppress this warning by not passing any value to the 'presort' parameter. We also recommend using HistGradientBoosting models instead.\n",
      "  FutureWarning)\n"
     ]
    },
    {
     "name": "stdout",
     "output_type": "stream",
     "text": [
      "[76] random_holdout_set_from_training_data's score is: 0.87\n"
     ]
    },
    {
     "name": "stderr",
     "output_type": "stream",
     "text": [
      "C:\\Users\\berna\\Anaconda3\\envs\\tfginfo\\lib\\site-packages\\sklearn\\ensemble\\_gb.py:1342: FutureWarning: The parameter 'presort' is deprecated and has no effect. It will be removed in v0.24. You can suppress this warning by not passing any value to the 'presort' parameter. We also recommend using HistGradientBoosting models instead.\n",
      "  FutureWarning)\n"
     ]
    },
    {
     "name": "stdout",
     "output_type": "stream",
     "text": [
      "[78] random_holdout_set_from_training_data's score is: 0.87\n"
     ]
    },
    {
     "name": "stderr",
     "output_type": "stream",
     "text": [
      "C:\\Users\\berna\\Anaconda3\\envs\\tfginfo\\lib\\site-packages\\sklearn\\ensemble\\_gb.py:1342: FutureWarning: The parameter 'presort' is deprecated and has no effect. It will be removed in v0.24. You can suppress this warning by not passing any value to the 'presort' parameter. We also recommend using HistGradientBoosting models instead.\n",
      "  FutureWarning)\n"
     ]
    },
    {
     "name": "stdout",
     "output_type": "stream",
     "text": [
      "[80] random_holdout_set_from_training_data's score is: 0.868\n"
     ]
    },
    {
     "name": "stderr",
     "output_type": "stream",
     "text": [
      "C:\\Users\\berna\\Anaconda3\\envs\\tfginfo\\lib\\site-packages\\sklearn\\ensemble\\_gb.py:1342: FutureWarning: The parameter 'presort' is deprecated and has no effect. It will be removed in v0.24. You can suppress this warning by not passing any value to the 'presort' parameter. We also recommend using HistGradientBoosting models instead.\n",
      "  FutureWarning)\n"
     ]
    },
    {
     "name": "stdout",
     "output_type": "stream",
     "text": [
      "[82] random_holdout_set_from_training_data's score is: 0.868\n"
     ]
    },
    {
     "name": "stderr",
     "output_type": "stream",
     "text": [
      "C:\\Users\\berna\\Anaconda3\\envs\\tfginfo\\lib\\site-packages\\sklearn\\ensemble\\_gb.py:1342: FutureWarning: The parameter 'presort' is deprecated and has no effect. It will be removed in v0.24. You can suppress this warning by not passing any value to the 'presort' parameter. We also recommend using HistGradientBoosting models instead.\n",
      "  FutureWarning)\n"
     ]
    },
    {
     "name": "stdout",
     "output_type": "stream",
     "text": [
      "[84] random_holdout_set_from_training_data's score is: 0.868\n"
     ]
    },
    {
     "name": "stderr",
     "output_type": "stream",
     "text": [
      "C:\\Users\\berna\\Anaconda3\\envs\\tfginfo\\lib\\site-packages\\sklearn\\ensemble\\_gb.py:1342: FutureWarning: The parameter 'presort' is deprecated and has no effect. It will be removed in v0.24. You can suppress this warning by not passing any value to the 'presort' parameter. We also recommend using HistGradientBoosting models instead.\n",
      "  FutureWarning)\n"
     ]
    },
    {
     "name": "stdout",
     "output_type": "stream",
     "text": [
      "[86] random_holdout_set_from_training_data's score is: 0.868\n"
     ]
    },
    {
     "name": "stderr",
     "output_type": "stream",
     "text": [
      "C:\\Users\\berna\\Anaconda3\\envs\\tfginfo\\lib\\site-packages\\sklearn\\ensemble\\_gb.py:1342: FutureWarning: The parameter 'presort' is deprecated and has no effect. It will be removed in v0.24. You can suppress this warning by not passing any value to the 'presort' parameter. We also recommend using HistGradientBoosting models instead.\n",
      "  FutureWarning)\n"
     ]
    },
    {
     "name": "stdout",
     "output_type": "stream",
     "text": [
      "[88] random_holdout_set_from_training_data's score is: 0.868\n"
     ]
    },
    {
     "name": "stderr",
     "output_type": "stream",
     "text": [
      "C:\\Users\\berna\\Anaconda3\\envs\\tfginfo\\lib\\site-packages\\sklearn\\ensemble\\_gb.py:1342: FutureWarning: The parameter 'presort' is deprecated and has no effect. It will be removed in v0.24. You can suppress this warning by not passing any value to the 'presort' parameter. We also recommend using HistGradientBoosting models instead.\n",
      "  FutureWarning)\n"
     ]
    },
    {
     "name": "stdout",
     "output_type": "stream",
     "text": [
      "[90] random_holdout_set_from_training_data's score is: 0.867\n"
     ]
    },
    {
     "name": "stderr",
     "output_type": "stream",
     "text": [
      "C:\\Users\\berna\\Anaconda3\\envs\\tfginfo\\lib\\site-packages\\sklearn\\ensemble\\_gb.py:1342: FutureWarning: The parameter 'presort' is deprecated and has no effect. It will be removed in v0.24. You can suppress this warning by not passing any value to the 'presort' parameter. We also recommend using HistGradientBoosting models instead.\n",
      "  FutureWarning)\n"
     ]
    },
    {
     "name": "stdout",
     "output_type": "stream",
     "text": [
      "[92] random_holdout_set_from_training_data's score is: 0.867\n"
     ]
    },
    {
     "name": "stderr",
     "output_type": "stream",
     "text": [
      "C:\\Users\\berna\\Anaconda3\\envs\\tfginfo\\lib\\site-packages\\sklearn\\ensemble\\_gb.py:1342: FutureWarning: The parameter 'presort' is deprecated and has no effect. It will be removed in v0.24. You can suppress this warning by not passing any value to the 'presort' parameter. We also recommend using HistGradientBoosting models instead.\n",
      "  FutureWarning)\n"
     ]
    },
    {
     "name": "stdout",
     "output_type": "stream",
     "text": [
      "[94] random_holdout_set_from_training_data's score is: 0.869\n"
     ]
    },
    {
     "name": "stderr",
     "output_type": "stream",
     "text": [
      "C:\\Users\\berna\\Anaconda3\\envs\\tfginfo\\lib\\site-packages\\sklearn\\ensemble\\_gb.py:1342: FutureWarning: The parameter 'presort' is deprecated and has no effect. It will be removed in v0.24. You can suppress this warning by not passing any value to the 'presort' parameter. We also recommend using HistGradientBoosting models instead.\n",
      "  FutureWarning)\n"
     ]
    },
    {
     "name": "stdout",
     "output_type": "stream",
     "text": [
      "[96] random_holdout_set_from_training_data's score is: 0.868\n"
     ]
    },
    {
     "name": "stderr",
     "output_type": "stream",
     "text": [
      "C:\\Users\\berna\\Anaconda3\\envs\\tfginfo\\lib\\site-packages\\sklearn\\ensemble\\_gb.py:1342: FutureWarning: The parameter 'presort' is deprecated and has no effect. It will be removed in v0.24. You can suppress this warning by not passing any value to the 'presort' parameter. We also recommend using HistGradientBoosting models instead.\n",
      "  FutureWarning)\n"
     ]
    },
    {
     "name": "stdout",
     "output_type": "stream",
     "text": [
      "[98] random_holdout_set_from_training_data's score is: 0.869\n"
     ]
    },
    {
     "name": "stderr",
     "output_type": "stream",
     "text": [
      "C:\\Users\\berna\\Anaconda3\\envs\\tfginfo\\lib\\site-packages\\sklearn\\ensemble\\_gb.py:1342: FutureWarning: The parameter 'presort' is deprecated and has no effect. It will be removed in v0.24. You can suppress this warning by not passing any value to the 'presort' parameter. We also recommend using HistGradientBoosting models instead.\n",
      "  FutureWarning)\n"
     ]
    },
    {
     "name": "stdout",
     "output_type": "stream",
     "text": [
      "[100] random_holdout_set_from_training_data's score is: 0.868\n"
     ]
    },
    {
     "name": "stderr",
     "output_type": "stream",
     "text": [
      "C:\\Users\\berna\\Anaconda3\\envs\\tfginfo\\lib\\site-packages\\sklearn\\ensemble\\_gb.py:1342: FutureWarning: The parameter 'presort' is deprecated and has no effect. It will be removed in v0.24. You can suppress this warning by not passing any value to the 'presort' parameter. We also recommend using HistGradientBoosting models instead.\n",
      "  FutureWarning)\n"
     ]
    },
    {
     "name": "stdout",
     "output_type": "stream",
     "text": [
      "[103] random_holdout_set_from_training_data's score is: 0.868\n"
     ]
    },
    {
     "name": "stderr",
     "output_type": "stream",
     "text": [
      "C:\\Users\\berna\\Anaconda3\\envs\\tfginfo\\lib\\site-packages\\sklearn\\ensemble\\_gb.py:1342: FutureWarning: The parameter 'presort' is deprecated and has no effect. It will be removed in v0.24. You can suppress this warning by not passing any value to the 'presort' parameter. We also recommend using HistGradientBoosting models instead.\n",
      "  FutureWarning)\n"
     ]
    },
    {
     "name": "stdout",
     "output_type": "stream",
     "text": [
      "[106] random_holdout_set_from_training_data's score is: 0.869\n"
     ]
    },
    {
     "name": "stderr",
     "output_type": "stream",
     "text": [
      "C:\\Users\\berna\\Anaconda3\\envs\\tfginfo\\lib\\site-packages\\sklearn\\ensemble\\_gb.py:1342: FutureWarning: The parameter 'presort' is deprecated and has no effect. It will be removed in v0.24. You can suppress this warning by not passing any value to the 'presort' parameter. We also recommend using HistGradientBoosting models instead.\n",
      "  FutureWarning)\n"
     ]
    },
    {
     "name": "stdout",
     "output_type": "stream",
     "text": [
      "[109] random_holdout_set_from_training_data's score is: 0.869\n"
     ]
    },
    {
     "name": "stderr",
     "output_type": "stream",
     "text": [
      "C:\\Users\\berna\\Anaconda3\\envs\\tfginfo\\lib\\site-packages\\sklearn\\ensemble\\_gb.py:1342: FutureWarning: The parameter 'presort' is deprecated and has no effect. It will be removed in v0.24. You can suppress this warning by not passing any value to the 'presort' parameter. We also recommend using HistGradientBoosting models instead.\n",
      "  FutureWarning)\n"
     ]
    },
    {
     "name": "stdout",
     "output_type": "stream",
     "text": [
      "[112] random_holdout_set_from_training_data's score is: 0.869\n"
     ]
    },
    {
     "name": "stderr",
     "output_type": "stream",
     "text": [
      "C:\\Users\\berna\\Anaconda3\\envs\\tfginfo\\lib\\site-packages\\sklearn\\ensemble\\_gb.py:1342: FutureWarning: The parameter 'presort' is deprecated and has no effect. It will be removed in v0.24. You can suppress this warning by not passing any value to the 'presort' parameter. We also recommend using HistGradientBoosting models instead.\n",
      "  FutureWarning)\n"
     ]
    },
    {
     "name": "stdout",
     "output_type": "stream",
     "text": [
      "[115] random_holdout_set_from_training_data's score is: 0.873\n"
     ]
    },
    {
     "name": "stderr",
     "output_type": "stream",
     "text": [
      "C:\\Users\\berna\\Anaconda3\\envs\\tfginfo\\lib\\site-packages\\sklearn\\ensemble\\_gb.py:1342: FutureWarning: The parameter 'presort' is deprecated and has no effect. It will be removed in v0.24. You can suppress this warning by not passing any value to the 'presort' parameter. We also recommend using HistGradientBoosting models instead.\n",
      "  FutureWarning)\n"
     ]
    },
    {
     "name": "stdout",
     "output_type": "stream",
     "text": [
      "[118] random_holdout_set_from_training_data's score is: 0.874\n"
     ]
    },
    {
     "name": "stderr",
     "output_type": "stream",
     "text": [
      "C:\\Users\\berna\\Anaconda3\\envs\\tfginfo\\lib\\site-packages\\sklearn\\ensemble\\_gb.py:1342: FutureWarning: The parameter 'presort' is deprecated and has no effect. It will be removed in v0.24. You can suppress this warning by not passing any value to the 'presort' parameter. We also recommend using HistGradientBoosting models instead.\n",
      "  FutureWarning)\n"
     ]
    },
    {
     "name": "stdout",
     "output_type": "stream",
     "text": [
      "[121] random_holdout_set_from_training_data's score is: 0.873\n"
     ]
    },
    {
     "name": "stderr",
     "output_type": "stream",
     "text": [
      "C:\\Users\\berna\\Anaconda3\\envs\\tfginfo\\lib\\site-packages\\sklearn\\ensemble\\_gb.py:1342: FutureWarning: The parameter 'presort' is deprecated and has no effect. It will be removed in v0.24. You can suppress this warning by not passing any value to the 'presort' parameter. We also recommend using HistGradientBoosting models instead.\n",
      "  FutureWarning)\n"
     ]
    },
    {
     "name": "stdout",
     "output_type": "stream",
     "text": [
      "[124] random_holdout_set_from_training_data's score is: 0.874\n"
     ]
    },
    {
     "name": "stderr",
     "output_type": "stream",
     "text": [
      "C:\\Users\\berna\\Anaconda3\\envs\\tfginfo\\lib\\site-packages\\sklearn\\ensemble\\_gb.py:1342: FutureWarning: The parameter 'presort' is deprecated and has no effect. It will be removed in v0.24. You can suppress this warning by not passing any value to the 'presort' parameter. We also recommend using HistGradientBoosting models instead.\n",
      "  FutureWarning)\n"
     ]
    },
    {
     "name": "stdout",
     "output_type": "stream",
     "text": [
      "[127] random_holdout_set_from_training_data's score is: 0.874\n"
     ]
    },
    {
     "name": "stderr",
     "output_type": "stream",
     "text": [
      "C:\\Users\\berna\\Anaconda3\\envs\\tfginfo\\lib\\site-packages\\sklearn\\ensemble\\_gb.py:1342: FutureWarning: The parameter 'presort' is deprecated and has no effect. It will be removed in v0.24. You can suppress this warning by not passing any value to the 'presort' parameter. We also recommend using HistGradientBoosting models instead.\n",
      "  FutureWarning)\n"
     ]
    },
    {
     "name": "stdout",
     "output_type": "stream",
     "text": [
      "[130] random_holdout_set_from_training_data's score is: 0.875\n"
     ]
    },
    {
     "name": "stderr",
     "output_type": "stream",
     "text": [
      "C:\\Users\\berna\\Anaconda3\\envs\\tfginfo\\lib\\site-packages\\sklearn\\ensemble\\_gb.py:1342: FutureWarning: The parameter 'presort' is deprecated and has no effect. It will be removed in v0.24. You can suppress this warning by not passing any value to the 'presort' parameter. We also recommend using HistGradientBoosting models instead.\n",
      "  FutureWarning)\n"
     ]
    },
    {
     "name": "stdout",
     "output_type": "stream",
     "text": [
      "[133] random_holdout_set_from_training_data's score is: 0.874\n"
     ]
    },
    {
     "name": "stderr",
     "output_type": "stream",
     "text": [
      "C:\\Users\\berna\\Anaconda3\\envs\\tfginfo\\lib\\site-packages\\sklearn\\ensemble\\_gb.py:1342: FutureWarning: The parameter 'presort' is deprecated and has no effect. It will be removed in v0.24. You can suppress this warning by not passing any value to the 'presort' parameter. We also recommend using HistGradientBoosting models instead.\n",
      "  FutureWarning)\n"
     ]
    },
    {
     "name": "stdout",
     "output_type": "stream",
     "text": [
      "[136] random_holdout_set_from_training_data's score is: 0.875\n"
     ]
    },
    {
     "name": "stderr",
     "output_type": "stream",
     "text": [
      "C:\\Users\\berna\\Anaconda3\\envs\\tfginfo\\lib\\site-packages\\sklearn\\ensemble\\_gb.py:1342: FutureWarning: The parameter 'presort' is deprecated and has no effect. It will be removed in v0.24. You can suppress this warning by not passing any value to the 'presort' parameter. We also recommend using HistGradientBoosting models instead.\n",
      "  FutureWarning)\n"
     ]
    },
    {
     "name": "stdout",
     "output_type": "stream",
     "text": [
      "[139] random_holdout_set_from_training_data's score is: 0.875\n"
     ]
    },
    {
     "name": "stderr",
     "output_type": "stream",
     "text": [
      "C:\\Users\\berna\\Anaconda3\\envs\\tfginfo\\lib\\site-packages\\sklearn\\ensemble\\_gb.py:1342: FutureWarning: The parameter 'presort' is deprecated and has no effect. It will be removed in v0.24. You can suppress this warning by not passing any value to the 'presort' parameter. We also recommend using HistGradientBoosting models instead.\n",
      "  FutureWarning)\n"
     ]
    },
    {
     "name": "stdout",
     "output_type": "stream",
     "text": [
      "[142] random_holdout_set_from_training_data's score is: 0.872\n"
     ]
    },
    {
     "name": "stderr",
     "output_type": "stream",
     "text": [
      "C:\\Users\\berna\\Anaconda3\\envs\\tfginfo\\lib\\site-packages\\sklearn\\ensemble\\_gb.py:1342: FutureWarning: The parameter 'presort' is deprecated and has no effect. It will be removed in v0.24. You can suppress this warning by not passing any value to the 'presort' parameter. We also recommend using HistGradientBoosting models instead.\n",
      "  FutureWarning)\n"
     ]
    },
    {
     "name": "stdout",
     "output_type": "stream",
     "text": [
      "[145] random_holdout_set_from_training_data's score is: 0.873\n"
     ]
    },
    {
     "name": "stderr",
     "output_type": "stream",
     "text": [
      "C:\\Users\\berna\\Anaconda3\\envs\\tfginfo\\lib\\site-packages\\sklearn\\ensemble\\_gb.py:1342: FutureWarning: The parameter 'presort' is deprecated and has no effect. It will be removed in v0.24. You can suppress this warning by not passing any value to the 'presort' parameter. We also recommend using HistGradientBoosting models instead.\n",
      "  FutureWarning)\n"
     ]
    },
    {
     "name": "stdout",
     "output_type": "stream",
     "text": [
      "[148] random_holdout_set_from_training_data's score is: 0.873\n"
     ]
    },
    {
     "name": "stderr",
     "output_type": "stream",
     "text": [
      "C:\\Users\\berna\\Anaconda3\\envs\\tfginfo\\lib\\site-packages\\sklearn\\ensemble\\_gb.py:1342: FutureWarning: The parameter 'presort' is deprecated and has no effect. It will be removed in v0.24. You can suppress this warning by not passing any value to the 'presort' parameter. We also recommend using HistGradientBoosting models instead.\n",
      "  FutureWarning)\n"
     ]
    },
    {
     "name": "stdout",
     "output_type": "stream",
     "text": [
      "[151] random_holdout_set_from_training_data's score is: 0.873\n"
     ]
    },
    {
     "name": "stderr",
     "output_type": "stream",
     "text": [
      "C:\\Users\\berna\\Anaconda3\\envs\\tfginfo\\lib\\site-packages\\sklearn\\ensemble\\_gb.py:1342: FutureWarning: The parameter 'presort' is deprecated and has no effect. It will be removed in v0.24. You can suppress this warning by not passing any value to the 'presort' parameter. We also recommend using HistGradientBoosting models instead.\n",
      "  FutureWarning)\n"
     ]
    },
    {
     "name": "stdout",
     "output_type": "stream",
     "text": [
      "[154] random_holdout_set_from_training_data's score is: 0.873\n"
     ]
    },
    {
     "name": "stderr",
     "output_type": "stream",
     "text": [
      "C:\\Users\\berna\\Anaconda3\\envs\\tfginfo\\lib\\site-packages\\sklearn\\ensemble\\_gb.py:1342: FutureWarning: The parameter 'presort' is deprecated and has no effect. It will be removed in v0.24. You can suppress this warning by not passing any value to the 'presort' parameter. We also recommend using HistGradientBoosting models instead.\n",
      "  FutureWarning)\n"
     ]
    },
    {
     "name": "stdout",
     "output_type": "stream",
     "text": [
      "[157] random_holdout_set_from_training_data's score is: 0.874\n"
     ]
    },
    {
     "name": "stderr",
     "output_type": "stream",
     "text": [
      "C:\\Users\\berna\\Anaconda3\\envs\\tfginfo\\lib\\site-packages\\sklearn\\ensemble\\_gb.py:1342: FutureWarning: The parameter 'presort' is deprecated and has no effect. It will be removed in v0.24. You can suppress this warning by not passing any value to the 'presort' parameter. We also recommend using HistGradientBoosting models instead.\n",
      "  FutureWarning)\n"
     ]
    },
    {
     "name": "stdout",
     "output_type": "stream",
     "text": [
      "[160] random_holdout_set_from_training_data's score is: 0.873\n"
     ]
    },
    {
     "name": "stderr",
     "output_type": "stream",
     "text": [
      "C:\\Users\\berna\\Anaconda3\\envs\\tfginfo\\lib\\site-packages\\sklearn\\ensemble\\_gb.py:1342: FutureWarning: The parameter 'presort' is deprecated and has no effect. It will be removed in v0.24. You can suppress this warning by not passing any value to the 'presort' parameter. We also recommend using HistGradientBoosting models instead.\n",
      "  FutureWarning)\n"
     ]
    },
    {
     "name": "stdout",
     "output_type": "stream",
     "text": [
      "[163] random_holdout_set_from_training_data's score is: 0.872\n"
     ]
    },
    {
     "name": "stderr",
     "output_type": "stream",
     "text": [
      "C:\\Users\\berna\\Anaconda3\\envs\\tfginfo\\lib\\site-packages\\sklearn\\ensemble\\_gb.py:1342: FutureWarning: The parameter 'presort' is deprecated and has no effect. It will be removed in v0.24. You can suppress this warning by not passing any value to the 'presort' parameter. We also recommend using HistGradientBoosting models instead.\n",
      "  FutureWarning)\n"
     ]
    },
    {
     "name": "stdout",
     "output_type": "stream",
     "text": [
      "[166] random_holdout_set_from_training_data's score is: 0.872\n"
     ]
    },
    {
     "name": "stderr",
     "output_type": "stream",
     "text": [
      "C:\\Users\\berna\\Anaconda3\\envs\\tfginfo\\lib\\site-packages\\sklearn\\ensemble\\_gb.py:1342: FutureWarning: The parameter 'presort' is deprecated and has no effect. It will be removed in v0.24. You can suppress this warning by not passing any value to the 'presort' parameter. We also recommend using HistGradientBoosting models instead.\n",
      "  FutureWarning)\n"
     ]
    },
    {
     "name": "stdout",
     "output_type": "stream",
     "text": [
      "[169] random_holdout_set_from_training_data's score is: 0.872\n"
     ]
    },
    {
     "name": "stderr",
     "output_type": "stream",
     "text": [
      "C:\\Users\\berna\\Anaconda3\\envs\\tfginfo\\lib\\site-packages\\sklearn\\ensemble\\_gb.py:1342: FutureWarning: The parameter 'presort' is deprecated and has no effect. It will be removed in v0.24. You can suppress this warning by not passing any value to the 'presort' parameter. We also recommend using HistGradientBoosting models instead.\n",
      "  FutureWarning)\n"
     ]
    },
    {
     "name": "stdout",
     "output_type": "stream",
     "text": [
      "[172] random_holdout_set_from_training_data's score is: 0.872\n"
     ]
    },
    {
     "name": "stderr",
     "output_type": "stream",
     "text": [
      "C:\\Users\\berna\\Anaconda3\\envs\\tfginfo\\lib\\site-packages\\sklearn\\ensemble\\_gb.py:1342: FutureWarning: The parameter 'presort' is deprecated and has no effect. It will be removed in v0.24. You can suppress this warning by not passing any value to the 'presort' parameter. We also recommend using HistGradientBoosting models instead.\n",
      "  FutureWarning)\n"
     ]
    },
    {
     "name": "stdout",
     "output_type": "stream",
     "text": [
      "[175] random_holdout_set_from_training_data's score is: 0.872\n"
     ]
    },
    {
     "name": "stderr",
     "output_type": "stream",
     "text": [
      "C:\\Users\\berna\\Anaconda3\\envs\\tfginfo\\lib\\site-packages\\sklearn\\ensemble\\_gb.py:1342: FutureWarning: The parameter 'presort' is deprecated and has no effect. It will be removed in v0.24. You can suppress this warning by not passing any value to the 'presort' parameter. We also recommend using HistGradientBoosting models instead.\n",
      "  FutureWarning)\n"
     ]
    },
    {
     "name": "stdout",
     "output_type": "stream",
     "text": [
      "[178] random_holdout_set_from_training_data's score is: 0.873\n"
     ]
    },
    {
     "name": "stderr",
     "output_type": "stream",
     "text": [
      "C:\\Users\\berna\\Anaconda3\\envs\\tfginfo\\lib\\site-packages\\sklearn\\ensemble\\_gb.py:1342: FutureWarning: The parameter 'presort' is deprecated and has no effect. It will be removed in v0.24. You can suppress this warning by not passing any value to the 'presort' parameter. We also recommend using HistGradientBoosting models instead.\n",
      "  FutureWarning)\n"
     ]
    },
    {
     "name": "stdout",
     "output_type": "stream",
     "text": [
      "[181] random_holdout_set_from_training_data's score is: 0.874\n"
     ]
    },
    {
     "name": "stderr",
     "output_type": "stream",
     "text": [
      "C:\\Users\\berna\\Anaconda3\\envs\\tfginfo\\lib\\site-packages\\sklearn\\ensemble\\_gb.py:1342: FutureWarning: The parameter 'presort' is deprecated and has no effect. It will be removed in v0.24. You can suppress this warning by not passing any value to the 'presort' parameter. We also recommend using HistGradientBoosting models instead.\n",
      "  FutureWarning)\n"
     ]
    },
    {
     "name": "stdout",
     "output_type": "stream",
     "text": [
      "[184] random_holdout_set_from_training_data's score is: 0.873\n"
     ]
    },
    {
     "name": "stderr",
     "output_type": "stream",
     "text": [
      "C:\\Users\\berna\\Anaconda3\\envs\\tfginfo\\lib\\site-packages\\sklearn\\ensemble\\_gb.py:1342: FutureWarning: The parameter 'presort' is deprecated and has no effect. It will be removed in v0.24. You can suppress this warning by not passing any value to the 'presort' parameter. We also recommend using HistGradientBoosting models instead.\n",
      "  FutureWarning)\n"
     ]
    },
    {
     "name": "stdout",
     "output_type": "stream",
     "text": [
      "[187] random_holdout_set_from_training_data's score is: 0.873\n"
     ]
    },
    {
     "name": "stderr",
     "output_type": "stream",
     "text": [
      "C:\\Users\\berna\\Anaconda3\\envs\\tfginfo\\lib\\site-packages\\sklearn\\ensemble\\_gb.py:1342: FutureWarning: The parameter 'presort' is deprecated and has no effect. It will be removed in v0.24. You can suppress this warning by not passing any value to the 'presort' parameter. We also recommend using HistGradientBoosting models instead.\n",
      "  FutureWarning)\n"
     ]
    },
    {
     "name": "stdout",
     "output_type": "stream",
     "text": [
      "[190] random_holdout_set_from_training_data's score is: 0.874\n",
      "The number of estimators that were the best for this training dataset: 130\n",
      "The best score on the holdout set: 0.875\n",
      "Finished training the pipeline!\n",
      "Total training time:\n",
      "0:12:47\n",
      "\n",
      "\n",
      "Here are the results from our GradientBoostingClassifier\n",
      "predicting clase\n",
      "Calculating feature responses, for advanced analytics.\n",
      "The printed list will only contain at most the top 100 features.\n",
      "+----+------------------+--------------+---------+-------------------+-------------------+-----------+-----------+-----------+-----------+\n",
      "|    | Feature Name     |   Importance |   Delta |   FR_Decrementing |   FR_Incrementing |   FRD_abs |   FRI_abs |   FRD_MAD |   FRI_MAD |\n",
      "|----+------------------+--------------+---------+-------------------+-------------------+-----------+-----------+-----------+-----------|\n",
      "| 34 | emprego          |       0.0013 |  0.0046 |            0.0000 |           -0.0000 |    0.0000 |    0.0000 |    0.0000 |    0.0000 |\n",
      "| 10 | candidatos       |       0.0013 |  0.0130 |            0.0000 |           -0.0008 |    0.0000 |    0.0008 |    0.0000 |    0.0000 |\n",
      "| 41 | evento           |       0.0013 |  0.0115 |            0.0001 |            0.0000 |    0.0001 |    0.0000 |    0.0000 |    0.0000 |\n",
      "| 37 | ensina           |       0.0013 |  0.0029 |            0.0000 |            0.0000 |    0.0000 |    0.0000 |    0.0000 |    0.0000 |\n",
      "|  1 | aluno            |       0.0013 |  0.0072 |            0.0000 |           -0.0000 |    0.0000 |    0.0000 |    0.0000 |    0.0000 |\n",
      "| 61 | m²               |       0.0013 |  0.0135 |            0.0000 |           -0.0000 |    0.0000 |    0.0000 |    0.0000 |    0.0000 |\n",
      "| 45 | fonte            |       0.0014 |  0.0052 |            0.0000 |            0.0000 |    0.0000 |    0.0000 |    0.0000 |    0.0000 |\n",
      "| 49 | gastronomia      |       0.0014 |  0.0083 |            0.0000 |           -0.0000 |    0.0000 |    0.0000 |    0.0000 |    0.0000 |\n",
      "| 51 | hospital         |       0.0015 |  0.0086 |            0.0001 |           -0.0001 |    0.0001 |    0.0001 |    0.0000 |    0.0000 |\n",
      "|  3 | ambiental        |       0.0015 |  0.0060 |            0.0001 |           -0.0000 |    0.0001 |    0.0000 |    0.0000 |    0.0000 |\n",
      "| 42 | facebook         |       0.0015 |  0.0154 |            0.0001 |           -0.0000 |    0.0001 |    0.0000 |    0.0000 |    0.0000 |\n",
      "| 26 | diz              |       0.0015 |  0.0119 |           -0.0000 |            0.0001 |    0.0001 |    0.0002 |    0.0000 |    0.0000 |\n",
      "|  0 | afirma           |       0.0015 |  0.0088 |            0.0001 |            0.0000 |    0.0002 |    0.0002 |    0.0000 |    0.0000 |\n",
      "| 97 | viagens          |       0.0015 |  0.0076 |            0.0000 |            0.0000 |    0.0000 |    0.0000 |    0.0000 |    0.0000 |\n",
      "| 27 | dna              |       0.0015 |  0.0081 |           -0.0001 |            0.0000 |    0.0001 |    0.0000 |    0.0000 |    0.0000 |\n",
      "| 63 | organização      |       0.0016 |  0.0082 |            0.0000 |           -0.0000 |    0.0000 |    0.0000 |    0.0000 |    0.0000 |\n",
      "| 46 | food             |       0.0016 |  0.0051 |            0.0000 |           -0.0000 |    0.0000 |    0.0000 |    0.0000 |    0.0000 |\n",
      "| 76 | receitas         |       0.0017 |  0.0057 |            0.0001 |           -0.0000 |    0.0001 |    0.0000 |    0.0000 |    0.0000 |\n",
      "| 86 | trabalho         |       0.0017 |  0.0092 |            0.0000 |            0.0001 |    0.0000 |    0.0001 |    0.0000 |    0.0000 |\n",
      "| 21 | câncer           |       0.0018 |  0.0130 |            0.0001 |           -0.0001 |    0.0001 |    0.0001 |    0.0000 |    0.0000 |\n",
      "| 54 | infecção         |       0.0018 |  0.0061 |            0.0001 |           -0.0006 |    0.0001 |    0.0006 |    0.0000 |    0.0000 |\n",
      "| 65 | paciente         |       0.0018 |  0.0078 |            0.0000 |           -0.0031 |    0.0000 |    0.0031 |    0.0000 |    0.0001 |\n",
      "| 93 | usuário          |       0.0019 |  0.0071 |            0.0000 |           -0.0031 |    0.0000 |    0.0031 |    0.0000 |    0.0003 |\n",
      "| 80 | smartphones      |       0.0019 |  0.0089 |            0.0000 |           -0.0011 |    0.0000 |    0.0012 |    0.0000 |    0.0001 |\n",
      "| 58 | microsoft        |       0.0020 |  0.0131 |            0.0001 |           -0.0021 |    0.0001 |    0.0021 |    0.0000 |    0.0002 |\n",
      "| 33 | empreendedorismo |       0.0020 |  0.0097 |            0.0000 |           -0.0000 |    0.0000 |    0.0000 |    0.0000 |    0.0000 |\n",
      "|  5 | apartamento      |       0.0021 |  0.0049 |            0.0000 |           -0.0000 |    0.0000 |    0.0000 |    0.0000 |    0.0000 |\n",
      "| 55 | iniciativas      |       0.0021 |  0.0071 |            0.0000 |           -0.0000 |    0.0000 |    0.0000 |    0.0000 |    0.0000 |\n",
      "| 36 | enem             |       0.0021 |  0.0165 |            0.0000 |           -0.0006 |    0.0000 |    0.0006 |    0.0000 |    0.0000 |\n",
      "| 72 | praia            |       0.0022 |  0.0108 |            0.0000 |           -0.0000 |    0.0000 |    0.0000 |    0.0000 |    0.0000 |\n",
      "| 24 | destinos         |       0.0022 |  0.0047 |            0.0000 |           -0.0000 |    0.0000 |    0.0000 |    0.0000 |    0.0000 |\n",
      "| 99 | zaremba          |       0.0023 |  0.0024 |            0.0000 |            0.0000 |    0.0000 |    0.0000 |    0.0000 |    0.0000 |\n",
      "| 92 | us               |       0.0023 |  0.0174 |            0.0003 |           -0.0001 |    0.0003 |    0.0001 |    0.0000 |    0.0000 |\n",
      "| 19 | conservação      |       0.0024 |  0.0064 |            0.0000 |            0.0000 |    0.0000 |    0.0000 |    0.0000 |    0.0000 |\n",
      "| 84 | tecnologia       |       0.0024 |  0.0111 |            0.0001 |           -0.0001 |    0.0002 |    0.0001 |    0.0000 |    0.0000 |\n",
      "| 20 | cozinha          |       0.0025 |  0.0110 |            0.0000 |           -0.0000 |    0.0000 |    0.0000 |    0.0000 |    0.0000 |\n",
      "| 59 | molho            |       0.0025 |  0.0039 |            0.0000 |            0.0000 |    0.0000 |    0.0000 |    0.0000 |    0.0000 |\n",
      "| 22 | descoberta       |       0.0025 |  0.0048 |           -0.0002 |            0.0002 |    0.0002 |    0.0002 |    0.0000 |    0.0000 |\n",
      "| 25 | disse            |       0.0026 |  0.0122 |            0.0002 |           -0.0001 |    0.0003 |    0.0006 |    0.0000 |    0.0000 |\n",
      "| 89 | turista          |       0.0026 |  0.0044 |            0.0000 |           -0.0000 |    0.0000 |    0.0000 |    0.0000 |    0.0000 |\n",
      "| 53 | hotéis           |       0.0026 |  0.0073 |            0.0000 |           -0.0020 |    0.0000 |    0.0020 |    0.0000 |    0.0001 |\n",
      "| 48 | games            |       0.0026 |  0.0103 |            0.0000 |           -0.0000 |    0.0000 |    0.0000 |    0.0000 |    0.0000 |\n",
      "| 91 | universidade     |       0.0026 |  0.0129 |           -0.0007 |            0.0016 |    0.0010 |    0.0017 |    0.0000 |    0.0004 |\n",
      "| 75 | rangel           |       0.0027 |  0.0021 |            0.0000 |            0.0000 |    0.0000 |    0.0000 |    0.0000 |    0.0000 |\n",
      "| 15 | científica       |       0.0027 |  0.0048 |           -0.0003 |            0.0000 |    0.0003 |    0.0000 |    0.0000 |    0.0000 |\n",
      "|  8 | atrações         |       0.0028 |  0.0055 |            0.0000 |           -0.0016 |    0.0000 |    0.0016 |    0.0000 |    0.0001 |\n",
      "|  9 | biodiversidade   |       0.0028 |  0.0047 |            0.0000 |           -0.0069 |    0.0000 |    0.0069 |    0.0000 |    0.0003 |\n",
      "| 23 | desmatamento     |       0.0029 |  0.0102 |            0.0000 |           -0.0102 |    0.0000 |    0.0106 |    0.0000 |    0.0003 |\n",
      "| 74 | prêmio           |       0.0029 |  0.0128 |           -0.0000 |            0.0017 |    0.0000 |    0.0017 |    0.0000 |    0.0000 |\n",
      "|  7 | aquecimento      |       0.0029 |  0.0071 |            0.0000 |            0.0000 |    0.0000 |    0.0000 |    0.0000 |    0.0000 |\n",
      "| 16 | ciência          |       0.0030 |  0.0117 |           -0.0006 |            0.0005 |    0.0006 |    0.0005 |    0.0000 |    0.0000 |\n",
      "| 67 | party            |       0.0034 |  0.0063 |            0.0000 |           -0.0001 |    0.0000 |    0.0001 |    0.0000 |    0.0000 |\n",
      "| 12 | chefs            |       0.0036 |  0.0099 |            0.0000 |           -0.0005 |    0.0000 |    0.0006 |    0.0000 |    0.0000 |\n",
      "| 69 | passeio          |       0.0037 |  0.0054 |            0.0000 |           -0.0031 |    0.0000 |    0.0031 |    0.0000 |    0.0002 |\n",
      "| 62 | médico           |       0.0038 |  0.0076 |            0.0002 |           -0.0001 |    0.0002 |    0.0001 |    0.0000 |    0.0000 |\n",
      "| 57 | leia             |       0.0039 |  0.0107 |           -0.0012 |            0.0003 |    0.0012 |    0.0003 |    0.0000 |    0.0000 |\n",
      "| 68 | passageiros      |       0.0039 |  0.0073 |            0.0001 |           -0.0000 |    0.0001 |    0.0000 |    0.0000 |    0.0000 |\n",
      "| 64 | organizações     |       0.0040 |  0.0078 |            0.0003 |           -0.0001 |    0.0003 |    0.0001 |    0.0000 |    0.0000 |\n",
      "|  4 | anvisa           |       0.0040 |  0.0086 |            0.0000 |           -0.0001 |    0.0000 |    0.0001 |    0.0000 |    0.0000 |\n",
      "| 13 | cidade           |       0.0041 |  0.0107 |            0.0003 |           -0.0002 |    0.0003 |    0.0003 |    0.0000 |    0.0000 |\n",
      "| 78 | sabor            |       0.0043 |  0.0043 |            0.0000 |           -0.0001 |    0.0000 |    0.0001 |    0.0000 |    0.0000 |\n",
      "| 85 | tel              |       0.0044 |  0.0091 |            0.0001 |           -0.0000 |    0.0001 |    0.0000 |    0.0000 |    0.0000 |\n",
      "| 77 | restaurante      |       0.0045 |  0.0118 |            0.0001 |           -0.0001 |    0.0001 |    0.0001 |    0.0000 |    0.0000 |\n",
      "| 87 | tratamento       |       0.0045 |  0.0089 |            0.0002 |           -0.0000 |    0.0002 |    0.0000 |    0.0000 |    0.0000 |\n",
      "| 47 | game             |       0.0045 |  0.0068 |            0.0000 |           -0.0000 |    0.0000 |    0.0000 |    0.0000 |    0.0000 |\n",
      "| 60 | museu            |       0.0048 |  0.0107 |            0.0002 |           -0.0002 |    0.0002 |    0.0002 |    0.0000 |    0.0000 |\n",
      "| 83 | tec              |       0.0051 |  0.0118 |            0.0000 |            0.0000 |    0.0000 |    0.0000 |    0.0000 |    0.0000 |\n",
      "| 18 | companhia        |       0.0055 |  0.0108 |            0.0003 |           -0.0002 |    0.0003 |    0.0002 |    0.0000 |    0.0000 |\n",
      "| 32 | empreendedores   |       0.0056 |  0.0082 |            0.0001 |            0.0000 |    0.0001 |    0.0000 |    0.0000 |    0.0000 |\n",
      "| 98 | visitantes       |       0.0057 |  0.0071 |           -0.0000 |           -0.0000 |    0.0001 |    0.0000 |    0.0000 |    0.0000 |\n",
      "| 82 | sodré            |       0.0060 |  0.0029 |            0.0000 |            0.0000 |    0.0000 |    0.0000 |    0.0000 |    0.0000 |\n",
      "| 29 | doenças          |       0.0064 |  0.0062 |            0.0000 |           -0.0043 |    0.0000 |    0.0044 |    0.0000 |    0.0001 |\n",
      "| 44 | folha            |       0.0065 |  0.0097 |            0.0010 |            0.0002 |    0.0013 |    0.0004 |    0.0000 |    0.0000 |\n",
      "| 56 | internet         |       0.0067 |  0.0104 |            0.0003 |           -0.0002 |    0.0003 |    0.0002 |    0.0000 |    0.0000 |\n",
      "| 40 | estudantes       |       0.0069 |  0.0131 |            0.0003 |           -0.0002 |    0.0003 |    0.0002 |    0.0000 |    0.0000 |\n",
      "| 28 | doença           |       0.0080 |  0.0098 |            0.0001 |           -0.0001 |    0.0002 |    0.0001 |    0.0000 |    0.0000 |\n",
      "| 95 | vestibular       |       0.0087 |  0.0136 |            0.0000 |           -0.0000 |    0.0000 |    0.0000 |    0.0000 |    0.0000 |\n",
      "| 43 | feira            |       0.0087 |  0.0101 |            0.0004 |            0.0015 |    0.0004 |    0.0028 |    0.0000 |    0.0000 |\n",
      "| 52 | hotel            |       0.0088 |  0.0109 |            0.0001 |           -0.0020 |    0.0001 |    0.0020 |    0.0000 |    0.0001 |\n",
      "| 71 | pesquisadores    |       0.0097 |  0.0080 |           -0.0006 |            0.0000 |    0.0006 |    0.0000 |    0.0000 |    0.0000 |\n",
      "| 66 | pacientes        |       0.0098 |  0.0099 |            0.0001 |           -0.0004 |    0.0001 |    0.0016 |    0.0000 |    0.0001 |\n",
      "| 96 | viagem           |       0.0102 |  0.0076 |            0.0002 |           -0.0042 |    0.0002 |    0.0042 |    0.0000 |    0.0003 |\n",
      "| 50 | google           |       0.0113 |  0.0178 |            0.0002 |           -0.0010 |    0.0002 |    0.0012 |    0.0000 |    0.0001 |\n",
      "| 39 | espacial         |       0.0121 |  0.0110 |           -0.0007 |            0.0183 |    0.0007 |    0.0192 |    0.0000 |    0.0077 |\n",
      "| 73 | professores      |       0.0138 |  0.0162 |            0.0004 |           -0.0000 |    0.0004 |    0.0001 |    0.0000 |    0.0000 |\n",
      "|  2 | alunos           |       0.0141 |  0.0168 |            0.0004 |           -0.0001 |    0.0004 |    0.0003 |    0.0000 |    0.0000 |\n",
      "| 81 | social           |       0.0143 |  0.0162 |            0.0004 |           -0.0016 |    0.0005 |    0.0024 |    0.0000 |    0.0002 |\n",
      "| 35 | empresa          |       0.0149 |  0.0135 |            0.0006 |           -0.0004 |    0.0006 |    0.0005 |    0.0000 |    0.0000 |\n",
      "| 70 | paulo            |       0.0166 |  0.0107 |            0.0011 |           -0.0002 |    0.0012 |    0.0008 |    0.0000 |    0.0000 |\n",
      "|  6 | apple            |       0.0187 |  0.0190 |            0.0000 |           -0.0035 |    0.0001 |    0.0035 |    0.0000 |    0.0002 |\n",
      "| 30 | educação         |       0.0206 |  0.0181 |            0.0005 |           -0.0039 |    0.0009 |    0.0044 |    0.0000 |    0.0003 |\n",
      "| 11 | chef             |       0.0207 |  0.0107 |            0.0000 |           -0.0001 |    0.0000 |    0.0001 |    0.0000 |    0.0000 |\n",
      "| 79 | saúde            |       0.0240 |  0.0139 |            0.0010 |           -0.0017 |    0.0011 |    0.0034 |    0.0000 |    0.0001 |\n",
      "| 14 | cientistas       |       0.0241 |  0.0095 |           -0.0004 |            0.0797 |    0.0004 |    0.0804 |    0.0000 |    0.0426 |\n",
      "| 17 | colaboração      |       0.0249 |  0.0042 |            0.0001 |           -0.0002 |    0.0001 |    0.0002 |    0.0000 |    0.0000 |\n",
      "| 88 | turismo          |       0.0271 |  0.0102 |            0.0000 |           -0.0154 |    0.0000 |    0.0163 |    0.0000 |    0.0016 |\n",
      "| 31 | empreendedor     |       0.0286 |  0.0116 |            0.0001 |            0.0002 |    0.0001 |    0.0003 |    0.0000 |    0.0000 |\n",
      "| 90 | turistas         |       0.0428 |  0.0095 |            0.0004 |            0.0003 |    0.0004 |    0.0006 |    0.0000 |    0.0000 |\n",
      "| 94 | usuários         |       0.0429 |  0.0153 |            0.0005 |           -0.0070 |    0.0005 |    0.0070 |    0.0000 |    0.0004 |\n",
      "| 38 | ensino           |       0.0974 |  0.0186 |            0.0006 |           -0.0033 |    0.0006 |    0.0034 |    0.0000 |    0.0002 |\n",
      "+----+------------------+--------------+---------+-------------------+-------------------+-----------+-----------+-----------+-----------+\n",
      "\n",
      "\n",
      "*******\n",
      "Legend:\n",
      "Importance = Feature Importance\n",
      "     Explanation: A weighted measure of how much of the variance the model is able to explain is due to this column\n",
      "FR_delta = Feature Response Delta Amount\n",
      "     Explanation: Amount this column was incremented or decremented by to calculate the feature reponses\n",
      "FR_Decrementing = Feature Response From Decrementing Values In This Column By One FR_delta\n",
      "     Explanation: Represents how much the predicted output values respond to subtracting one FR_delta amount from every value in this column\n",
      "FR_Incrementing = Feature Response From Incrementing Values In This Column By One FR_delta\n",
      "     Explanation: Represents how much the predicted output values respond to adding one FR_delta amount to every value in this column\n",
      "FRD_MAD = Feature Response From Decrementing- Median Absolute Delta\n",
      "     Explanation: Takes the absolute value of all changes in predictions, then takes the median of those. Useful for seeing if decrementing this feature provokes strong changes that are both positive and negative\n",
      "FRI_MAD = Feature Response From Incrementing- Median Absolute Delta\n",
      "     Explanation: Takes the absolute value of all changes in predictions, then takes the median of those. Useful for seeing if incrementing this feature provokes strong changes that are both positive and negative\n",
      "FRD_abs = Feature Response From Decrementing Avg Absolute Change\n",
      "     Explanation: What is the average absolute change in predicted output values to subtracting one FR_delta amount to every value in this column. Useful for seeing if output is sensitive to a feature, but not in a uniformly positive or negative way\n",
      "FRI_abs = Feature Response From Incrementing Avg Absolute Change\n",
      "     Explanation: What is the average absolute change in predicted output values to adding one FR_delta amount to every value in this column. Useful for seeing if output is sensitive to a feature, but not in a uniformly positive or negative way\n",
      "*******\n",
      "\n"
     ]
    },
    {
     "name": "stderr",
     "output_type": "stream",
     "text": [
      "C:\\Users\\berna\\Anaconda3\\envs\\tfginfo\\lib\\site-packages\\sklearn\\base.py:197: FutureWarning: From version 0.24, get_params will raise an AttributeError if a parameter cannot be retrieved as an instance attribute. Previously it would return None.\n",
      "  FutureWarning)\n"
     ]
    },
    {
     "data": {
      "text/plain": [
       "<auto_ml.predictor.Predictor at 0x158eacded88>"
      ]
     },
     "execution_count": 12,
     "metadata": {},
     "output_type": "execute_result"
    }
   ],
   "source": [
    "ml_predictor.train(X_train)"
   ]
  },
  {
   "cell_type": "code",
   "execution_count": 14,
   "metadata": {},
   "outputs": [],
   "source": [
    "# Score the model on test data\n",
    "test_score = ml_predictor.score(X_val, X_val.clase)"
   ]
  },
  {
   "cell_type": "code",
   "execution_count": 15,
   "metadata": {},
   "outputs": [
    {
     "data": {
      "text/plain": [
       "0.8480243161094225"
      ]
     },
     "execution_count": 15,
     "metadata": {},
     "output_type": "execute_result"
    }
   ],
   "source": [
    "test_score"
   ]
  },
  {
   "cell_type": "code",
   "execution_count": 17,
   "metadata": {},
   "outputs": [
    {
     "name": "stdout",
     "output_type": "stream",
     "text": [
      "\n",
      "\n",
      "We have saved the trained pipeline to a filed called \"auto_ml_saved_pipeline.dill\"\n",
      "It is saved in the directory: \n",
      "C:\\Users\\berna\\Documents\\kaggle_notebooks\n",
      "To use it to get predictions, please follow the following flow (adjusting for your own uses as necessary:\n",
      "\n",
      "\n",
      "`from auto_ml.utils_models import load_ml_model\n",
      "`trained_ml_pipeline = load_ml_model(\"auto_ml_saved_pipeline.dill\")\n",
      "`trained_ml_pipeline.predict(data)`\n",
      "\n",
      "\n",
      "Note that this pickle/dill file can only be loaded in an environment with the same modules installed, and running the same Python version.\n",
      "This version of Python is:\n",
      "sys.version_info(major=3, minor=7, micro=6, releaselevel='final', serial=0)\n",
      "\n",
      "\n",
      "When passing in new data to get predictions on, columns that were not present (or were not found to be useful) in the training data will be silently ignored.\n",
      "It is worthwhile to make sure that you feed in all the most useful data points though, to make sure you can get the highest quality predictions.\n"
     ]
    }
   ],
   "source": [
    "from auto_ml.utils_models import load_ml_model\n",
    "\n",
    "file_name = ml_predictor.save()\n",
    "\n",
    "trained_model = load_ml_model(file_name)"
   ]
  },
  {
   "cell_type": "code",
   "execution_count": 21,
   "metadata": {},
   "outputs": [
    {
     "name": "stdout",
     "output_type": "stream",
     "text": [
      "['educacao', 'turismo', 'turismo', 'ciencia', 'empreendedorsocial', 'turismo', 'tec', 'ciencia', 'turismo', 'sobretudo', 'turismo', 'turismo', 'equilibrioesaude', 'tec', 'turismo', 'tec', 'turismo', 'turismo', 'ciencia', 'educacao', 'turismo', 'comida', 'ciencia', 'turismo', 'comida', 'equilibrioesaude', 'tec', 'empreendedorsocial', 'empreendedorsocial', 'ciencia', 'equilibrioesaude', 'educacao', 'educacao', 'sobretudo', 'ciencia', 'tec', 'educacao', 'equilibrioesaude', 'educacao', 'comida', 'tec', 'sobretudo', 'tec', 'comida', 'sobretudo', 'educacao', 'equilibrioesaude', 'turismo', 'comida', 'equilibrioesaude', 'empreendedorsocial', 'educacao', 'tec', 'educacao', 'empreendedorsocial', 'turismo', 'educacao', 'turismo', 'tec', 'educacao', 'tec', 'turismo', 'ciencia', 'turismo', 'turismo', 'turismo', 'comida', 'turismo', 'ciencia', 'ciencia', 'educacao', 'ciencia', 'tec', 'turismo', 'tec', 'turismo', 'tec', 'turismo', 'ambiente', 'ciencia', 'tec', 'turismo', 'turismo', 'turismo', 'educacao', 'educacao', 'empreendedorsocial', 'tec', 'equilibrioesaude', 'ciencia', 'turismo', 'sobretudo', 'empreendedorsocial', 'comida', 'educacao', 'equilibrioesaude', 'turismo', 'equilibrioesaude', 'tec', 'turismo', 'turismo', 'turismo', 'educacao', 'educacao', 'ciencia', 'empreendedorsocial', 'comida', 'ciencia', 'tec', 'ambiente', 'equilibrioesaude', 'tec', 'turismo', 'ciencia', 'educacao', 'comida', 'turismo', 'educacao', 'equilibrioesaude', 'tec', 'empreendedorsocial', 'sobretudo', 'turismo', 'equilibrioesaude', 'comida', 'turismo', 'equilibrioesaude', 'turismo', 'tec', 'ciencia', 'educacao', 'educacao', 'comida', 'educacao', 'ciencia', 'sobretudo', 'ciencia', 'tec', 'turismo', 'educacao', 'ciencia', 'turismo', 'turismo', 'ciencia', 'educacao', 'ciencia', 'turismo', 'educacao', 'ciencia', 'educacao', 'educacao', 'educacao', 'educacao', 'turismo', 'tec', 'turismo', 'tec', 'comida', 'tec', 'educacao', 'tec', 'tec', 'educacao', 'ciencia', 'comida', 'empreendedorsocial', 'empreendedorsocial', 'comida', 'tec', 'turismo', 'ciencia', 'educacao', 'equilibrioesaude', 'sobretudo', 'tec', 'educacao', 'comida', 'sobretudo', 'sobretudo', 'empreendedorsocial', 'sobretudo', 'ciencia', 'equilibrioesaude', 'ciencia', 'tec', 'sobretudo', 'educacao', 'educacao', 'educacao', 'educacao', 'ciencia', 'ciencia', 'sobretudo', 'sobretudo', 'turismo', 'educacao', 'tec', 'tec', 'ciencia', 'equilibrioesaude', 'sobretudo', 'comida', 'equilibrioesaude', 'turismo', 'sobretudo', 'equilibrioesaude', 'sobretudo', 'equilibrioesaude', 'tec', 'educacao', 'ciencia', 'educacao', 'educacao', 'equilibrioesaude', 'sobretudo', 'sobretudo', 'sobretudo', 'tec', 'turismo', 'turismo', 'ciencia', 'ciencia', 'equilibrioesaude', 'comida', 'equilibrioesaude', 'ambiente', 'educacao', 'ciencia', 'ciencia', 'turismo', 'equilibrioesaude', 'turismo', 'educacao', 'tec', 'turismo', 'turismo', 'tec', 'educacao', 'ciencia', 'ambiente', 'educacao', 'turismo', 'empreendedorsocial', 'ciencia', 'tec', 'ambiente', 'empreendedorsocial', 'turismo', 'turismo', 'equilibrioesaude', 'sobretudo', 'equilibrioesaude', 'ambiente', 'equilibrioesaude', 'ciencia', 'tec', 'tec', 'turismo', 'turismo', 'turismo', 'sobretudo', 'educacao', 'ambiente', 'turismo', 'educacao', 'tec', 'turismo', 'ciencia', 'turismo', 'comida', 'turismo', 'tec', 'educacao', 'educacao', 'tec', 'comida', 'equilibrioesaude', 'tec', 'educacao', 'ciencia', 'tec', 'ambiente', 'educacao', 'educacao', 'equilibrioesaude', 'educacao', 'ciencia', 'ciencia', 'turismo', 'tec', 'tec', 'tec', 'tec', 'educacao', 'tec', 'educacao', 'equilibrioesaude', 'ambiente', 'ciencia', 'educacao', 'tec', 'tec', 'tec', 'empreendedorsocial', 'educacao', 'ciencia', 'turismo', 'sobretudo', 'educacao', 'educacao', 'ciencia', 'tec', 'turismo', 'tec', 'turismo', 'ciencia', 'turismo', 'sobretudo', 'equilibrioesaude', 'ciencia', 'tec', 'ciencia', 'educacao', 'sobretudo', 'educacao', 'ciencia', 'ciencia', 'turismo', 'tec', 'tec', 'empreendedorsocial', 'turismo', 'equilibrioesaude', 'ciencia', 'tec', 'educacao', 'tec', 'equilibrioesaude', 'ciencia', 'turismo', 'tec', 'equilibrioesaude', 'turismo', 'ciencia', 'ambiente', 'ciencia', 'turismo', 'empreendedorsocial', 'tec', 'ciencia', 'educacao', 'tec', 'sobretudo', 'turismo', 'turismo', 'sobretudo', 'ciencia', 'tec', 'ciencia', 'ciencia', 'ambiente', 'turismo', 'tec', 'educacao', 'sobretudo', 'tec', 'tec', 'tec', 'tec', 'tec', 'educacao', 'equilibrioesaude', 'turismo', 'ciencia', 'sobretudo', 'empreendedorsocial', 'comida', 'turismo', 'ciencia', 'educacao', 'ciencia', 'tec', 'tec', 'turismo', 'turismo', 'educacao', 'ciencia', 'ciencia', 'sobretudo', 'tec', 'turismo', 'comida', 'turismo', 'ciencia', 'ciencia', 'tec', 'turismo', 'turismo', 'turismo', 'tec', 'sobretudo', 'ambiente', 'sobretudo', 'equilibrioesaude', 'turismo', 'educacao', 'equilibrioesaude', 'educacao', 'ciencia', 'ciencia', 'empreendedorsocial', 'sobretudo', 'equilibrioesaude', 'ciencia', 'educacao', 'equilibrioesaude', 'comida', 'empreendedorsocial', 'tec', 'comida', 'tec', 'sobretudo', 'tec', 'turismo', 'empreendedorsocial', 'educacao', 'educacao', 'equilibrioesaude', 'turismo', 'tec', 'tec', 'tec', 'equilibrioesaude', 'ciencia', 'turismo', 'educacao', 'comida', 'ciencia', 'equilibrioesaude', 'ciencia', 'tec', 'sobretudo', 'tec', 'turismo', 'tec', 'tec', 'educacao', 'educacao', 'educacao', 'empreendedorsocial', 'sobretudo', 'educacao', 'empreendedorsocial', 'empreendedorsocial', 'tec', 'ambiente', 'educacao', 'sobretudo', 'tec', 'comida', 'sobretudo', 'turismo', 'educacao', 'equilibrioesaude', 'turismo', 'turismo', 'equilibrioesaude', 'ciencia', 'sobretudo', 'tec', 'sobretudo', 'ciencia', 'sobretudo', 'educacao', 'tec', 'empreendedorsocial', 'empreendedorsocial', 'equilibrioesaude', 'sobretudo', 'turismo', 'tec', 'sobretudo', 'tec', 'educacao', 'turismo', 'educacao', 'educacao', 'tec', 'sobretudo', 'ciencia', 'turismo', 'tec', 'educacao', 'turismo', 'ciencia', 'ciencia', 'empreendedorsocial', 'ciencia', 'comida', 'educacao', 'equilibrioesaude', 'ciencia', 'tec', 'sobretudo', 'tec', 'comida', 'educacao', 'ciencia', 'sobretudo', 'educacao', 'ciencia', 'empreendedorsocial', 'tec', 'sobretudo', 'comida', 'tec', 'sobretudo', 'turismo', 'tec', 'educacao', 'educacao', 'sobretudo', 'equilibrioesaude', 'tec', 'ciencia', 'ciencia', 'tec', 'tec', 'equilibrioesaude', 'tec', 'ciencia', 'educacao', 'equilibrioesaude', 'ciencia', 'ciencia', 'tec', 'tec', 'turismo', 'educacao', 'educacao', 'comida', 'turismo', 'comida', 'tec', 'empreendedorsocial', 'empreendedorsocial', 'turismo', 'sobretudo', 'educacao', 'educacao', 'tec', 'turismo', 'educacao', 'educacao', 'educacao', 'equilibrioesaude', 'tec', 'tec', 'ciencia', 'tec', 'ciencia', 'turismo', 'ciencia', 'tec', 'tec', 'educacao', 'comida', 'turismo', 'turismo', 'equilibrioesaude', 'turismo', 'ciencia', 'equilibrioesaude', 'tec', 'tec', 'ciencia', 'sobretudo', 'ambiente', 'comida', 'empreendedorsocial', 'equilibrioesaude', 'ciencia', 'sobretudo', 'sobretudo', 'educacao', 'ciencia', 'tec', 'sobretudo', 'comida', 'sobretudo', 'equilibrioesaude', 'turismo', 'empreendedorsocial', 'educacao', 'educacao', 'educacao', 'sobretudo', 'empreendedorsocial', 'educacao', 'equilibrioesaude', 'equilibrioesaude', 'sobretudo', 'tec', 'educacao', 'turismo', 'ambiente', 'tec', 'tec', 'ciencia', 'tec', 'tec', 'equilibrioesaude', 'tec', 'tec', 'educacao', 'educacao', 'comida', 'sobretudo', 'sobretudo', 'tec', 'tec', 'sobretudo', 'tec', 'ambiente', 'sobretudo', 'ciencia', 'educacao', 'tec', 'turismo', 'tec', 'equilibrioesaude', 'comida', 'tec', 'educacao', 'ciencia', 'sobretudo', 'tec', 'empreendedorsocial', 'educacao', 'ciencia', 'educacao', 'comida', 'turismo', 'empreendedorsocial', 'comida', 'tec', 'educacao', 'comida', 'turismo', 'turismo', 'tec', 'educacao', 'empreendedorsocial', 'ambiente', 'turismo', 'tec', 'tec', 'sobretudo', 'tec', 'turismo', 'ciencia', 'turismo', 'sobretudo', 'empreendedorsocial', 'tec', 'educacao', 'comida', 'ciencia', 'empreendedorsocial', 'ciencia', 'turismo', 'sobretudo', 'empreendedorsocial', 'empreendedorsocial', 'sobretudo', 'tec', 'educacao', 'tec', 'ciencia', 'turismo', 'ciencia', 'ciencia', 'educacao', 'sobretudo', 'educacao', 'ciencia', 'equilibrioesaude', 'tec', 'tec', 'turismo', 'ciencia', 'educacao', 'ciencia', 'educacao', 'educacao', 'sobretudo', 'educacao', 'ciencia', 'equilibrioesaude', 'educacao', 'comida', 'equilibrioesaude', 'educacao', 'comida', 'tec', 'tec', 'ciencia', 'educacao', 'educacao', 'tec', 'comida', 'ciencia', 'tec', 'ciencia', 'turismo', 'equilibrioesaude', 'educacao', 'tec', 'tec', 'equilibrioesaude', 'educacao', 'ciencia', 'empreendedorsocial', 'turismo', 'equilibrioesaude', 'turismo', 'ciencia', 'ciencia', 'educacao', 'empreendedorsocial', 'educacao', 'sobretudo', 'comida', 'sobretudo', 'ciencia', 'empreendedorsocial', 'tec', 'tec', 'equilibrioesaude', 'turismo', 'comida', 'tec', 'turismo', 'educacao', 'ambiente', 'sobretudo', 'equilibrioesaude', 'comida', 'ciencia', 'turismo', 'turismo', 'turismo', 'turismo', 'turismo', 'ciencia', 'turismo', 'sobretudo', 'turismo', 'empreendedorsocial', 'tec', 'ambiente', 'turismo', 'empreendedorsocial', 'sobretudo', 'tec', 'comida', 'educacao', 'educacao', 'tec', 'comida', 'turismo', 'empreendedorsocial', 'ciencia', 'tec', 'educacao', 'turismo', 'tec', 'turismo', 'ciencia', 'equilibrioesaude', 'equilibrioesaude', 'empreendedorsocial', 'comida', 'educacao', 'comida', 'educacao', 'ciencia', 'turismo', 'turismo', 'educacao', 'ciencia', 'tec', 'educacao', 'turismo', 'ciencia', 'educacao', 'ciencia', 'tec', 'sobretudo', 'turismo', 'tec', 'turismo', 'equilibrioesaude', 'educacao', 'equilibrioesaude', 'ciencia', 'educacao', 'educacao', 'turismo', 'sobretudo', 'turismo', 'ciencia', 'tec', 'tec', 'equilibrioesaude', 'tec', 'equilibrioesaude', 'turismo', 'turismo', 'educacao', 'comida', 'comida', 'turismo', 'educacao', 'educacao', 'ciencia', 'educacao', 'turismo', 'ciencia', 'sobretudo', 'educacao', 'educacao', 'ciencia', 'educacao', 'ambiente', 'equilibrioesaude', 'tec', 'ambiente', 'empreendedorsocial', 'comida', 'tec', 'tec', 'tec', 'educacao', 'turismo', 'ciencia', 'tec', 'tec', 'equilibrioesaude', 'sobretudo', 'tec', 'turismo', 'educacao', 'comida', 'turismo', 'comida', 'sobretudo', 'turismo', 'turismo', 'comida', 'ambiente', 'equilibrioesaude', 'turismo', 'equilibrioesaude', 'educacao', 'empreendedorsocial', 'ciencia', 'equilibrioesaude', 'ciencia', 'turismo', 'turismo', 'educacao', 'ambiente', 'tec', 'turismo', 'equilibrioesaude', 'sobretudo', 'ciencia', 'tec', 'equilibrioesaude', 'equilibrioesaude', 'empreendedorsocial', 'tec', 'empreendedorsocial', 'tec', 'ciencia', 'ambiente', 'sobretudo', 'empreendedorsocial', 'tec', 'comida', 'sobretudo', 'tec', 'educacao', 'educacao', 'tec', 'turismo', 'tec', 'turismo', 'equilibrioesaude', 'turismo', 'tec', 'educacao', 'turismo', 'tec', 'tec', 'turismo', 'tec', 'empreendedorsocial', 'sobretudo', 'ciencia', 'tec', 'turismo', 'tec', 'ciencia', 'turismo', 'tec', 'empreendedorsocial', 'tec', 'ambiente', 'equilibrioesaude', 'turismo', 'tec', 'equilibrioesaude', 'ciencia', 'tec', 'equilibrioesaude', 'tec', 'educacao', 'turismo', 'educacao', 'educacao', 'equilibrioesaude', 'comida', 'educacao', 'turismo', 'turismo', 'educacao', 'turismo', 'turismo', 'tec', 'educacao', 'equilibrioesaude', 'tec', 'sobretudo', 'tec', 'educacao', 'ciencia', 'sobretudo', 'educacao', 'sobretudo', 'tec', 'empreendedorsocial', 'empreendedorsocial', 'sobretudo', 'educacao', 'sobretudo', 'educacao', 'turismo', 'empreendedorsocial', 'comida', 'ciencia', 'tec', 'educacao', 'turismo', 'tec', 'ciencia', 'tec', 'ciencia', 'tec', 'educacao', 'tec', 'tec', 'comida', 'turismo', 'empreendedorsocial', 'sobretudo', 'empreendedorsocial', 'sobretudo', 'comida', 'ciencia', 'tec', 'tec', 'educacao', 'ciencia', 'educacao', 'comida', 'ciencia', 'comida', 'turismo', 'ciencia', 'educacao', 'sobretudo', 'equilibrioesaude', 'tec', 'empreendedorsocial', 'turismo', 'educacao', 'educacao', 'equilibrioesaude', 'turismo', 'empreendedorsocial', 'sobretudo', 'tec', 'empreendedorsocial', 'ciencia', 'empreendedorsocial', 'sobretudo', 'educacao', 'empreendedorsocial', 'tec', 'equilibrioesaude', 'comida', 'turismo', 'empreendedorsocial', 'educacao', 'tec', 'ciencia', 'ciencia', 'empreendedorsocial', 'ciencia', 'educacao', 'tec', 'turismo', 'tec', 'tec', 'tec', 'educacao', 'equilibrioesaude', 'empreendedorsocial', 'turismo', 'tec', 'educacao', 'tec', 'empreendedorsocial', 'tec', 'ciencia', 'turismo', 'ciencia', 'turismo', 'sobretudo', 'tec', 'comida', 'empreendedorsocial', 'empreendedorsocial', 'turismo', 'educacao', 'educacao', 'tec', 'equilibrioesaude', 'equilibrioesaude', 'tec', 'sobretudo', 'turismo', 'empreendedorsocial', 'comida', 'ciencia', 'equilibrioesaude', 'empreendedorsocial', 'turismo', 'empreendedorsocial', 'equilibrioesaude', 'tec', 'ciencia', 'comida', 'ambiente', 'turismo', 'educacao', 'tec', 'comida', 'comida', 'ciencia', 'educacao', 'turismo', 'empreendedorsocial', 'turismo', 'tec', 'turismo', 'ciencia', 'empreendedorsocial', 'ciencia', 'educacao', 'educacao', 'empreendedorsocial', 'turismo', 'empreendedorsocial', 'educacao', 'equilibrioesaude', 'equilibrioesaude', 'equilibrioesaude', 'empreendedorsocial', 'turismo', 'tec', 'comida', 'equilibrioesaude', 'ciencia', 'turismo', 'educacao', 'ciencia', 'ciencia', 'sobretudo', 'equilibrioesaude', 'educacao', 'ciencia', 'tec', 'empreendedorsocial', 'tec', 'sobretudo', 'equilibrioesaude', 'equilibrioesaude', 'comida', 'comida', 'tec', 'educacao', 'equilibrioesaude', 'comida', 'tec', 'sobretudo', 'empreendedorsocial', 'tec', 'equilibrioesaude', 'turismo', 'turismo', 'tec', 'tec', 'ciencia', 'educacao', 'tec', 'tec', 'empreendedorsocial', 'turismo', 'sobretudo', 'tec', 'ciencia', 'turismo', 'ciencia', 'ambiente', 'tec', 'tec', 'ambiente', 'sobretudo', 'equilibrioesaude', 'educacao', 'ambiente', 'tec', 'turismo', 'ciencia', 'comida', 'equilibrioesaude', 'equilibrioesaude', 'tec', 'equilibrioesaude', 'equilibrioesaude', 'educacao', 'educacao', 'tec', 'educacao', 'comida', 'educacao', 'comida', 'turismo', 'turismo', 'sobretudo', 'tec', 'educacao', 'turismo', 'empreendedorsocial', 'ciencia', 'educacao', 'educacao', 'tec', 'turismo', 'educacao', 'turismo', 'turismo', 'sobretudo', 'turismo', 'empreendedorsocial', 'ciencia', 'turismo', 'educacao', 'comida', 'sobretudo', 'equilibrioesaude', 'ciencia', 'educacao', 'ambiente', 'educacao', 'educacao', 'empreendedorsocial', 'tec', 'ambiente', 'equilibrioesaude', 'educacao', 'sobretudo', 'tec', 'comida', 'ciencia', 'equilibrioesaude', 'equilibrioesaude', 'sobretudo', 'ciencia', 'ciencia', 'comida', 'ambiente', 'ciencia', 'comida', 'comida', 'turismo', 'comida', 'tec', 'turismo', 'ambiente', 'educacao', 'turismo', 'educacao', 'ciencia', 'empreendedorsocial', 'ciencia', 'educacao', 'sobretudo', 'ambiente', 'educacao', 'tec', 'tec', 'educacao', 'turismo', 'tec', 'sobretudo', 'equilibrioesaude', 'tec', 'tec', 'tec', 'equilibrioesaude', 'turismo', 'sobretudo', 'ciencia', 'ciencia', 'comida', 'equilibrioesaude', 'educacao', 'turismo', 'tec', 'equilibrioesaude', 'tec', 'turismo', 'tec', 'tec', 'turismo', 'ciencia', 'educacao', 'equilibrioesaude', 'turismo', 'comida', 'comida', 'turismo', 'equilibrioesaude', 'empreendedorsocial', 'tec', 'educacao', 'sobretudo', 'ambiente', 'sobretudo', 'tec', 'sobretudo', 'turismo', 'tec', 'educacao', 'comida', 'empreendedorsocial', 'empreendedorsocial', 'turismo', 'educacao', 'tec', 'empreendedorsocial', 'tec', 'turismo', 'tec', 'educacao', 'equilibrioesaude', 'comida', 'turismo', 'tec', 'educacao', 'educacao', 'turismo', 'tec', 'tec', 'comida', 'educacao', 'equilibrioesaude', 'sobretudo', 'turismo', 'equilibrioesaude', 'tec', 'equilibrioesaude', 'ciencia', 'ambiente', 'turismo', 'educacao', 'educacao', 'tec', 'ciencia', 'tec', 'educacao', 'tec', 'sobretudo', 'ciencia', 'tec', 'ciencia', 'educacao', 'equilibrioesaude', 'tec', 'educacao', 'tec', 'turismo', 'ciencia', 'comida', 'turismo', 'tec', 'turismo', 'turismo', 'tec', 'educacao', 'ciencia', 'turismo', 'tec', 'turismo', 'equilibrioesaude', 'tec', 'educacao', 'turismo', 'equilibrioesaude', 'equilibrioesaude', 'turismo', 'tec', 'educacao', 'empreendedorsocial', 'sobretudo', 'educacao', 'ciencia', 'tec', 'equilibrioesaude', 'empreendedorsocial', 'equilibrioesaude', 'turismo', 'tec', 'equilibrioesaude', 'equilibrioesaude', 'tec', 'educacao', 'educacao', 'educacao', 'sobretudo', 'tec', 'tec', 'educacao', 'tec', 'tec', 'equilibrioesaude', 'comida', 'tec', 'educacao', 'turismo', 'turismo', 'ambiente', 'educacao', 'ciencia', 'ciencia', 'ciencia', 'sobretudo', 'educacao', 'tec', 'sobretudo', 'educacao', 'tec', 'tec', 'comida', 'equilibrioesaude', 'empreendedorsocial', 'turismo', 'equilibrioesaude', 'tec', 'turismo', 'ciencia', 'ciencia', 'educacao', 'tec', 'comida', 'equilibrioesaude', 'empreendedorsocial', 'educacao', 'educacao', 'empreendedorsocial', 'turismo', 'turismo', 'tec', 'sobretudo', 'ciencia', 'turismo', 'equilibrioesaude', 'turismo', 'sobretudo', 'tec', 'turismo', 'sobretudo', 'tec', 'tec', 'ciencia', 'tec', 'tec', 'educacao', 'turismo', 'educacao', 'equilibrioesaude', 'equilibrioesaude', 'ciencia', 'sobretudo', 'ciencia', 'educacao', 'tec', 'comida', 'educacao', 'sobretudo', 'tec', 'tec', 'ciencia', 'equilibrioesaude', 'turismo', 'sobretudo', 'tec', 'empreendedorsocial', 'educacao', 'educacao', 'tec', 'ciencia', 'tec', 'tec', 'educacao', 'turismo', 'tec', 'educacao', 'tec', 'educacao', 'turismo', 'turismo', 'equilibrioesaude', 'turismo', 'equilibrioesaude', 'comida', 'sobretudo', 'educacao', 'tec', 'tec', 'sobretudo', 'ciencia', 'tec', 'ciencia', 'tec', 'turismo', 'equilibrioesaude', 'turismo', 'tec', 'educacao', 'sobretudo', 'educacao', 'sobretudo', 'educacao', 'tec', 'turismo', 'sobretudo', 'equilibrioesaude', 'comida', 'equilibrioesaude', 'comida', 'turismo', 'empreendedorsocial', 'equilibrioesaude', 'turismo', 'empreendedorsocial', 'empreendedorsocial', 'educacao', 'turismo', 'educacao', 'equilibrioesaude', 'equilibrioesaude', 'comida', 'tec', 'comida', 'comida', 'educacao', 'turismo', 'turismo', 'educacao', 'tec', 'empreendedorsocial', 'comida', 'turismo', 'empreendedorsocial', 'tec', 'turismo', 'educacao', 'turismo', 'turismo', 'sobretudo', 'educacao', 'educacao', 'turismo', 'educacao', 'tec', 'tec', 'educacao', 'educacao', 'tec', 'educacao', 'educacao', 'sobretudo', 'ciencia', 'tec', 'educacao', 'equilibrioesaude', 'comida', 'tec', 'comida', 'educacao', 'turismo', 'sobretudo', 'educacao', 'turismo', 'turismo', 'educacao', 'tec', 'empreendedorsocial', 'tec', 'comida', 'educacao', 'tec', 'tec', 'turismo', 'ciencia', 'turismo', 'comida', 'sobretudo', 'educacao', 'ciencia', 'ciencia', 'equilibrioesaude', 'turismo', 'sobretudo', 'tec', 'turismo', 'educacao', 'ciencia', 'equilibrioesaude', 'tec', 'turismo', 'equilibrioesaude', 'tec', 'tec', 'equilibrioesaude', 'sobretudo', 'turismo', 'tec', 'tec', 'ciencia', 'sobretudo', 'tec', 'turismo', 'turismo', 'equilibrioesaude', 'turismo', 'tec', 'empreendedorsocial', 'turismo', 'sobretudo', 'educacao', 'educacao', 'ambiente', 'turismo', 'equilibrioesaude', 'tec', 'educacao', 'tec', 'turismo', 'educacao', 'sobretudo', 'turismo', 'ciencia', 'educacao', 'tec', 'turismo', 'comida', 'ciencia', 'tec', 'educacao', 'educacao', 'turismo', 'comida', 'turismo', 'educacao', 'ciencia', 'ciencia', 'tec', 'educacao', 'tec', 'educacao', 'educacao', 'empreendedorsocial', 'empreendedorsocial', 'turismo', 'sobretudo', 'tec', 'empreendedorsocial', 'comida', 'equilibrioesaude', 'ciencia', 'educacao', 'equilibrioesaude', 'sobretudo', 'equilibrioesaude', 'ciencia', 'sobretudo', 'ciencia', 'comida', 'ciencia', 'equilibrioesaude', 'ciencia', 'tec', 'ciencia', 'turismo', 'tec', 'tec', 'educacao', 'sobretudo', 'tec', 'tec', 'turismo', 'empreendedorsocial', 'empreendedorsocial', 'ciencia', 'equilibrioesaude', 'turismo', 'turismo', 'tec', 'educacao', 'ciencia', 'ambiente', 'empreendedorsocial', 'comida', 'equilibrioesaude', 'ciencia', 'educacao', 'educacao', 'tec', 'tec', 'tec', 'turismo', 'tec', 'sobretudo', 'equilibrioesaude', 'equilibrioesaude', 'turismo', 'tec', 'ambiente', 'turismo', 'turismo', 'tec', 'ciencia', 'tec', 'educacao', 'educacao', 'empreendedorsocial', 'educacao', 'turismo', 'tec', 'tec', 'equilibrioesaude', 'empreendedorsocial', 'ciencia', 'tec', 'educacao', 'tec', 'tec', 'tec', 'educacao', 'equilibrioesaude', 'turismo', 'turismo', 'turismo', 'educacao', 'tec', 'ambiente', 'empreendedorsocial', 'equilibrioesaude', 'educacao', 'tec', 'tec', 'ciencia', 'turismo', 'educacao', 'tec', 'turismo', 'ambiente', 'educacao', 'turismo', 'tec', 'ciencia', 'tec', 'educacao', 'educacao', 'equilibrioesaude', 'tec', 'sobretudo', 'empreendedorsocial', 'educacao', 'equilibrioesaude', 'ciencia', 'tec', 'educacao', 'turismo', 'ciencia', 'tec', 'tec', 'educacao', 'turismo', 'educacao', 'equilibrioesaude', 'tec', 'tec', 'empreendedorsocial', 'tec', 'tec', 'ciencia', 'equilibrioesaude', 'educacao', 'empreendedorsocial', 'turismo', 'turismo', 'equilibrioesaude', 'ciencia', 'tec', 'sobretudo', 'educacao', 'empreendedorsocial', 'educacao', 'ambiente', 'ciencia', 'ciencia', 'sobretudo', 'tec', 'sobretudo', 'tec', 'equilibrioesaude', 'tec', 'educacao', 'educacao', 'tec', 'ciencia', 'tec', 'equilibrioesaude', 'equilibrioesaude', 'turismo', 'turismo', 'turismo', 'tec', 'educacao', 'educacao', 'turismo', 'comida', 'educacao', 'tec', 'equilibrioesaude', 'turismo', 'educacao', 'turismo', 'sobretudo', 'ambiente', 'turismo', 'tec', 'tec', 'empreendedorsocial', 'educacao', 'turismo', 'equilibrioesaude', 'turismo', 'turismo', 'educacao', 'sobretudo', 'sobretudo', 'equilibrioesaude', 'tec', 'turismo', 'tec', 'empreendedorsocial', 'educacao', 'tec', 'tec', 'educacao', 'comida', 'turismo', 'sobretudo', 'ciencia', 'comida', 'educacao', 'tec', 'sobretudo', 'ciencia', 'tec', 'ciencia', 'ciencia', 'empreendedorsocial', 'sobretudo', 'ciencia', 'ambiente', 'tec', 'equilibrioesaude', 'tec', 'turismo', 'turismo', 'tec', 'ciencia', 'ambiente', 'sobretudo', 'turismo', 'sobretudo', 'sobretudo', 'ciencia', 'turismo', 'tec', 'tec', 'tec', 'ciencia', 'tec', 'empreendedorsocial', 'sobretudo', 'turismo', 'ciencia', 'turismo', 'sobretudo', 'educacao', 'ciencia', 'comida', 'tec', 'ambiente', 'turismo', 'tec', 'ciencia', 'sobretudo', 'tec', 'tec', 'comida', 'comida', 'educacao', 'sobretudo', 'educacao', 'educacao', 'turismo', 'empreendedorsocial', 'turismo', 'educacao', 'ciencia', 'educacao', 'turismo', 'turismo', 'equilibrioesaude', 'ciencia', 'sobretudo', 'educacao', 'educacao', 'comida', 'educacao', 'equilibrioesaude', 'educacao', 'educacao', 'tec', 'educacao', 'empreendedorsocial', 'educacao', 'educacao', 'turismo', 'sobretudo', 'educacao', 'comida', 'turismo', 'tec', 'empreendedorsocial', 'turismo', 'educacao', 'tec', 'turismo', 'empreendedorsocial', 'empreendedorsocial', 'sobretudo', 'sobretudo', 'tec', 'educacao', 'tec', 'ciencia', 'ciencia', 'educacao', 'sobretudo', 'educacao', 'sobretudo', 'ciencia', 'tec', 'turismo', 'equilibrioesaude', 'educacao', 'educacao', 'turismo', 'turismo', 'empreendedorsocial', 'ciencia', 'comida', 'ciencia', 'ambiente', 'turismo', 'educacao', 'turismo', 'ciencia', 'sobretudo', 'ciencia', 'tec', 'equilibrioesaude', 'turismo', 'educacao', 'sobretudo', 'ciencia', 'tec', 'turismo', 'equilibrioesaude', 'tec', 'ciencia', 'educacao', 'educacao', 'ciencia', 'equilibrioesaude', 'ciencia', 'comida', 'tec', 'equilibrioesaude', 'sobretudo', 'sobretudo', 'equilibrioesaude', 'empreendedorsocial', 'turismo', 'comida', 'educacao', 'comida', 'sobretudo', 'ciencia', 'educacao', 'educacao', 'comida', 'educacao', 'educacao', 'educacao', 'ciencia', 'comida', 'tec', 'sobretudo', 'educacao', 'tec', 'sobretudo', 'turismo', 'tec', 'comida', 'ambiente', 'empreendedorsocial', 'educacao', 'turismo', 'ciencia', 'empreendedorsocial', 'ciencia', 'empreendedorsocial', 'educacao', 'ambiente', 'turismo', 'empreendedorsocial', 'sobretudo', 'turismo', 'turismo', 'ciencia', 'equilibrioesaude', 'turismo', 'ciencia', 'educacao', 'turismo', 'turismo', 'educacao', 'educacao', 'ciencia', 'ambiente', 'educacao', 'turismo', 'empreendedorsocial', 'tec', 'ciencia', 'educacao', 'tec', 'sobretudo', 'tec', 'turismo', 'educacao', 'educacao', 'educacao', 'equilibrioesaude', 'educacao', 'turismo', 'sobretudo', 'educacao', 'ambiente', 'sobretudo', 'tec', 'tec', 'educacao', 'educacao', 'equilibrioesaude', 'tec', 'ciencia', 'ciencia', 'educacao', 'educacao', 'turismo', 'tec', 'tec', 'turismo', 'tec', 'sobretudo', 'educacao', 'tec', 'tec', 'empreendedorsocial', 'ciencia', 'educacao', 'ciencia', 'comida', 'tec', 'sobretudo', 'educacao', 'educacao', 'tec', 'turismo', 'comida', 'tec', 'equilibrioesaude', 'turismo', 'educacao', 'ciencia', 'turismo', 'empreendedorsocial', 'tec', 'educacao', 'tec', 'ambiente', 'sobretudo', 'turismo', 'ciencia', 'tec', 'educacao', 'empreendedorsocial', 'educacao', 'tec', 'tec', 'ciencia', 'tec', 'turismo', 'ciencia', 'turismo', 'turismo', 'tec', 'turismo', 'educacao', 'educacao', 'turismo', 'equilibrioesaude', 'educacao', 'tec', 'comida', 'educacao', 'equilibrioesaude', 'educacao', 'educacao', 'equilibrioesaude', 'ambiente', 'ambiente', 'equilibrioesaude', 'comida', 'tec', 'empreendedorsocial', 'tec', 'equilibrioesaude', 'tec', 'turismo', 'ambiente', 'equilibrioesaude', 'empreendedorsocial', 'ciencia', 'empreendedorsocial', 'turismo', 'comida', 'ciencia', 'turismo', 'tec', 'equilibrioesaude', 'tec', 'empreendedorsocial', 'tec', 'tec', 'comida', 'sobretudo', 'equilibrioesaude', 'turismo', 'equilibrioesaude', 'educacao', 'empreendedorsocial', 'educacao', 'ciencia', 'tec', 'tec', 'educacao', 'educacao', 'ciencia', 'turismo', 'turismo', 'sobretudo', 'tec', 'tec', 'educacao', 'educacao', 'tec', 'tec', 'tec', 'turismo', 'educacao', 'educacao', 'tec', 'tec', 'tec', 'turismo', 'turismo', 'ciencia', 'ciencia', 'ambiente', 'sobretudo', 'educacao', 'sobretudo', 'comida', 'equilibrioesaude', 'ciencia', 'turismo', 'empreendedorsocial', 'comida', 'tec', 'educacao', 'ciencia', 'turismo', 'ciencia', 'ciencia', 'turismo', 'comida', 'educacao', 'comida', 'turismo', 'turismo', 'educacao', 'tec', 'equilibrioesaude', 'educacao', 'empreendedorsocial', 'educacao', 'tec', 'empreendedorsocial', 'ciencia', 'tec', 'turismo', 'educacao', 'sobretudo', 'tec', 'ambiente', 'educacao', 'turismo', 'turismo', 'educacao', 'educacao', 'educacao', 'ciencia', 'turismo', 'turismo', 'ciencia', 'sobretudo', 'educacao', 'comida', 'tec', 'educacao', 'tec', 'ciencia', 'ciencia', 'equilibrioesaude', 'equilibrioesaude', 'tec', 'educacao', 'turismo', 'educacao', 'turismo', 'educacao', 'equilibrioesaude', 'tec', 'tec', 'ciencia', 'educacao', 'educacao', 'comida', 'tec', 'educacao', 'educacao', 'educacao', 'educacao', 'turismo', 'educacao', 'turismo', 'ciencia', 'educacao', 'sobretudo', 'ciencia', 'ciencia', 'educacao', 'educacao', 'sobretudo', 'ciencia', 'tec', 'sobretudo', 'tec', 'comida', 'comida', 'empreendedorsocial', 'tec', 'turismo', 'turismo', 'turismo', 'equilibrioesaude', 'tec', 'equilibrioesaude', 'educacao', 'turismo', 'equilibrioesaude', 'ciencia', 'turismo', 'comida', 'turismo', 'ciencia', 'tec', 'tec', 'turismo', 'equilibrioesaude', 'sobretudo', 'educacao', 'tec', 'educacao', 'comida', 'ciencia', 'educacao', 'tec', 'educacao', 'empreendedorsocial', 'tec', 'turismo', 'educacao', 'sobretudo', 'equilibrioesaude', 'ciencia', 'turismo', 'tec', 'educacao', 'tec', 'ambiente', 'turismo', 'tec', 'equilibrioesaude', 'tec', 'turismo', 'ciencia', 'ciencia', 'empreendedorsocial', 'equilibrioesaude', 'educacao', 'tec', 'educacao', 'turismo', 'ciencia', 'comida', 'educacao', 'equilibrioesaude', 'equilibrioesaude', 'tec', 'equilibrioesaude', 'tec', 'turismo', 'educacao', 'educacao', 'educacao', 'educacao', 'comida', 'educacao', 'educacao', 'turismo', 'ciencia', 'sobretudo', 'educacao', 'tec', 'comida', 'turismo', 'equilibrioesaude', 'equilibrioesaude', 'turismo', 'educacao', 'empreendedorsocial', 'equilibrioesaude', 'ciencia', 'sobretudo', 'turismo', 'educacao', 'ciencia', 'turismo', 'comida', 'tec', 'ciencia', 'ciencia', 'sobretudo', 'sobretudo', 'turismo', 'equilibrioesaude', 'educacao', 'tec', 'turismo', 'tec', 'equilibrioesaude', 'tec', 'tec', 'tec', 'tec', 'tec', 'ciencia', 'educacao', 'turismo', 'comida', 'tec', 'sobretudo', 'tec', 'sobretudo', 'tec', 'sobretudo', 'ciencia', 'ciencia', 'ciencia', 'tec', 'educacao', 'ciencia', 'turismo', 'turismo', 'empreendedorsocial', 'educacao', 'educacao', 'ciencia', 'educacao', 'tec', 'turismo', 'comida', 'empreendedorsocial', 'comida', 'comida', 'ambiente', 'comida', 'ciencia', 'educacao', 'tec', 'educacao', 'ciencia', 'tec', 'educacao', 'educacao', 'empreendedorsocial', 'turismo', 'ambiente', 'equilibrioesaude', 'comida', 'educacao', 'ciencia', 'tec', 'turismo', 'ciencia', 'tec', 'ciencia', 'turismo', 'comida', 'sobretudo', 'equilibrioesaude', 'educacao', 'ciencia', 'educacao', 'turismo', 'sobretudo', 'tec', 'tec', 'tec', 'turismo', 'ciencia', 'educacao', 'turismo', 'comida', 'tec', 'educacao', 'comida', 'educacao', 'ambiente', 'empreendedorsocial', 'educacao', 'ciencia', 'educacao', 'sobretudo', 'turismo', 'empreendedorsocial', 'equilibrioesaude', 'comida', 'turismo', 'tec', 'turismo', 'equilibrioesaude', 'ciencia', 'tec', 'equilibrioesaude', 'equilibrioesaude', 'educacao', 'ciencia', 'turismo', 'comida', 'empreendedorsocial', 'sobretudo', 'tec', 'educacao', 'sobretudo', 'ambiente', 'empreendedorsocial', 'comida', 'equilibrioesaude', 'ciencia', 'educacao', 'turismo', 'turismo', 'sobretudo', 'educacao', 'turismo', 'turismo', 'tec', 'tec', 'educacao', 'tec', 'ciencia', 'tec', 'turismo', 'tec', 'sobretudo', 'empreendedorsocial', 'turismo', 'educacao', 'sobretudo', 'turismo', 'comida', 'sobretudo', 'ambiente', 'equilibrioesaude', 'sobretudo', 'tec', 'equilibrioesaude', 'equilibrioesaude', 'tec', 'tec', 'educacao', 'sobretudo', 'empreendedorsocial', 'sobretudo', 'educacao', 'turismo', 'tec', 'turismo', 'tec', 'turismo', 'turismo', 'ciencia', 'tec', 'equilibrioesaude', 'educacao', 'educacao', 'educacao', 'tec', 'ciencia', 'tec', 'turismo', 'educacao', 'tec', 'ciencia', 'educacao', 'ciencia', 'sobretudo', 'turismo', 'turismo', 'sobretudo', 'educacao', 'empreendedorsocial', 'tec', 'educacao', 'sobretudo', 'turismo', 'equilibrioesaude', 'tec', 'turismo', 'turismo', 'turismo', 'ciencia', 'turismo', 'ciencia', 'sobretudo', 'equilibrioesaude', 'ciencia', 'educacao', 'tec', 'tec', 'educacao', 'ciencia', 'turismo', 'turismo', 'educacao', 'educacao', 'sobretudo', 'educacao', 'empreendedorsocial', 'turismo', 'ciencia', 'educacao', 'tec', 'comida', 'tec', 'turismo', 'educacao', 'tec', 'tec', 'comida', 'turismo', 'comida', 'tec', 'tec', 'comida', 'educacao', 'tec', 'tec', 'comida', 'sobretudo', 'tec', 'turismo', 'educacao', 'turismo', 'tec', 'tec', 'ciencia', 'sobretudo', 'turismo', 'educacao', 'sobretudo', 'equilibrioesaude', 'equilibrioesaude', 'sobretudo', 'tec', 'equilibrioesaude', 'tec', 'educacao', 'turismo', 'tec', 'turismo', 'comida', 'equilibrioesaude', 'sobretudo', 'educacao', 'tec', 'ciencia', 'educacao', 'educacao', 'empreendedorsocial', 'comida', 'educacao', 'tec', 'tec', 'educacao', 'tec', 'educacao', 'sobretudo', 'sobretudo', 'turismo', 'tec', 'equilibrioesaude', 'tec', 'equilibrioesaude', 'comida', 'tec', 'tec', 'comida', 'equilibrioesaude', 'tec', 'tec', 'equilibrioesaude', 'tec', 'sobretudo', 'tec', 'ciencia', 'sobretudo', 'tec', 'tec', 'empreendedorsocial', 'ciencia', 'ciencia', 'equilibrioesaude', 'equilibrioesaude', 'sobretudo', 'ciencia', 'tec', 'ciencia', 'empreendedorsocial', 'comida', 'comida', 'educacao', 'equilibrioesaude', 'equilibrioesaude', 'empreendedorsocial', 'ciencia', 'empreendedorsocial', 'sobretudo', 'comida', 'tec', 'equilibrioesaude', 'comida', 'ambiente', 'educacao', 'tec', 'educacao', 'comida', 'tec', 'ambiente', 'sobretudo', 'educacao', 'equilibrioesaude', 'tec', 'equilibrioesaude', 'ciencia', 'ciencia', 'turismo', 'turismo', 'ambiente', 'ciencia', 'turismo', 'comida', 'ciencia', 'ciencia', 'educacao', 'equilibrioesaude', 'comida', 'comida', 'ciencia', 'educacao', 'turismo', 'tec', 'educacao', 'empreendedorsocial', 'empreendedorsocial', 'empreendedorsocial', 'empreendedorsocial', 'ciencia', 'turismo', 'educacao', 'turismo', 'comida', 'educacao', 'comida', 'ciencia', 'turismo', 'educacao', 'turismo', 'turismo', 'educacao', 'ciencia', 'turismo', 'tec', 'turismo', 'tec', 'educacao', 'sobretudo', 'tec', 'ciencia', 'equilibrioesaude', 'turismo', 'educacao', 'equilibrioesaude', 'sobretudo', 'tec', 'empreendedorsocial', 'sobretudo', 'ciencia', 'sobretudo', 'tec', 'ciencia', 'equilibrioesaude', 'educacao', 'turismo', 'equilibrioesaude', 'comida', 'tec', 'turismo', 'tec', 'ciencia', 'ciencia', 'sobretudo', 'equilibrioesaude', 'ambiente', 'sobretudo', 'equilibrioesaude', 'turismo', 'tec', 'tec', 'educacao', 'ambiente', 'equilibrioesaude', 'empreendedorsocial', 'ciencia', 'turismo', 'ciencia', 'sobretudo', 'sobretudo', 'ciencia', 'comida', 'equilibrioesaude', 'equilibrioesaude', 'educacao', 'equilibrioesaude', 'tec', 'equilibrioesaude', 'sobretudo', 'sobretudo', 'educacao', 'educacao', 'educacao', 'tec', 'turismo', 'comida', 'turismo', 'educacao', 'educacao', 'educacao', 'tec', 'turismo', 'equilibrioesaude', 'ambiente', 'equilibrioesaude', 'equilibrioesaude', 'educacao', 'sobretudo', 'equilibrioesaude', 'educacao', 'educacao', 'sobretudo', 'turismo', 'ciencia', 'tec', 'tec', 'sobretudo', 'turismo', 'ciencia', 'turismo', 'turismo', 'comida', 'sobretudo', 'ciencia', 'turismo', 'empreendedorsocial', 'ciencia', 'equilibrioesaude', 'turismo', 'empreendedorsocial', 'educacao', 'tec', 'sobretudo', 'educacao', 'educacao', 'tec', 'tec', 'equilibrioesaude', 'tec', 'educacao', 'tec', 'educacao', 'turismo', 'educacao', 'equilibrioesaude', 'educacao', 'tec', 'ciencia', 'turismo', 'turismo', 'equilibrioesaude', 'equilibrioesaude', 'turismo', 'educacao', 'turismo', 'educacao', 'educacao', 'equilibrioesaude', 'turismo', 'educacao', 'educacao', 'turismo', 'comida', 'equilibrioesaude', 'educacao', 'ciencia', 'turismo', 'empreendedorsocial', 'ciencia', 'equilibrioesaude', 'educacao', 'tec', 'equilibrioesaude', 'sobretudo', 'tec', 'equilibrioesaude', 'educacao', 'educacao', 'ciencia', 'educacao', 'tec', 'turismo', 'educacao', 'ciencia', 'tec', 'sobretudo', 'turismo', 'ambiente', 'sobretudo', 'educacao', 'tec', 'equilibrioesaude', 'educacao', 'equilibrioesaude', 'sobretudo', 'comida', 'turismo', 'empreendedorsocial', 'tec', 'turismo', 'equilibrioesaude', 'comida', 'comida', 'turismo', 'equilibrioesaude', 'tec', 'educacao', 'tec', 'tec', 'turismo', 'empreendedorsocial', 'educacao', 'ciencia', 'equilibrioesaude', 'turismo', 'turismo', 'tec', 'empreendedorsocial', 'turismo', 'equilibrioesaude', 'tec', 'empreendedorsocial', 'turismo', 'tec', 'turismo', 'comida', 'turismo', 'educacao', 'educacao', 'empreendedorsocial', 'tec', 'turismo', 'tec', 'tec', 'turismo', 'tec', 'educacao', 'tec', 'ciencia', 'ambiente', 'tec', 'turismo', 'equilibrioesaude', 'turismo', 'comida', 'empreendedorsocial', 'turismo', 'sobretudo', 'tec', 'educacao', 'tec', 'educacao', 'educacao', 'sobretudo', 'educacao', 'turismo', 'empreendedorsocial', 'sobretudo', 'tec', 'educacao', 'tec', 'ciencia', 'turismo', 'turismo', 'ciencia', 'sobretudo', 'educacao', 'educacao', 'sobretudo', 'comida', 'empreendedorsocial', 'educacao', 'educacao', 'ciencia', 'educacao', 'comida', 'ciencia', 'turismo', 'educacao', 'sobretudo', 'tec', 'tec', 'ciencia', 'equilibrioesaude', 'equilibrioesaude', 'ciencia', 'comida', 'ciencia', 'turismo', 'educacao', 'ambiente', 'ciencia', 'turismo', 'tec', 'turismo', 'equilibrioesaude', 'turismo', 'educacao', 'educacao', 'tec', 'tec', 'empreendedorsocial', 'equilibrioesaude', 'ciencia', 'sobretudo', 'ciencia', 'sobretudo', 'equilibrioesaude', 'sobretudo', 'educacao', 'equilibrioesaude', 'equilibrioesaude', 'ambiente', 'turismo', 'turismo', 'educacao', 'equilibrioesaude', 'empreendedorsocial', 'educacao', 'educacao', 'equilibrioesaude', 'equilibrioesaude', 'educacao', 'tec', 'educacao', 'equilibrioesaude', 'tec', 'tec', 'ciencia', 'tec', 'sobretudo', 'sobretudo', 'turismo', 'sobretudo', 'comida', 'educacao', 'educacao', 'educacao', 'turismo', 'ambiente', 'sobretudo', 'ciencia', 'comida', 'turismo', 'tec', 'educacao', 'sobretudo', 'educacao', 'ciencia', 'empreendedorsocial', 'equilibrioesaude', 'educacao', 'educacao', 'comida', 'tec', 'tec', 'tec', 'turismo', 'equilibrioesaude', 'ciencia', 'equilibrioesaude', 'educacao', 'turismo', 'ambiente', 'empreendedorsocial', 'tec', 'sobretudo', 'equilibrioesaude', 'ciencia', 'educacao', 'educacao', 'equilibrioesaude', 'empreendedorsocial', 'educacao', 'educacao', 'sobretudo', 'tec', 'equilibrioesaude', 'comida', 'ciencia', 'comida', 'equilibrioesaude', 'sobretudo', 'equilibrioesaude', 'tec', 'turismo', 'tec', 'tec', 'sobretudo', 'turismo', 'equilibrioesaude', 'comida', 'educacao', 'turismo', 'educacao', 'tec', 'sobretudo', 'sobretudo', 'tec', 'ciencia', 'sobretudo', 'equilibrioesaude', 'educacao', 'turismo', 'educacao', 'turismo', 'comida', 'comida', 'tec', 'ciencia', 'educacao', 'turismo', 'tec', 'tec', 'tec', 'empreendedorsocial', 'ciencia', 'educacao', 'turismo', 'educacao', 'ciencia', 'turismo', 'equilibrioesaude', 'equilibrioesaude', 'educacao', 'turismo', 'educacao', 'turismo', 'ciencia', 'sobretudo', 'ciencia', 'empreendedorsocial', 'sobretudo', 'tec', 'sobretudo', 'tec', 'ciencia', 'comida', 'equilibrioesaude', 'sobretudo', 'equilibrioesaude', 'turismo', 'sobretudo', 'ciencia', 'educacao', 'comida', 'ciencia', 'equilibrioesaude', 'educacao', 'tec', 'equilibrioesaude', 'turismo', 'tec', 'ciencia', 'equilibrioesaude', 'turismo', 'sobretudo', 'ciencia', 'empreendedorsocial', 'educacao', 'empreendedorsocial', 'sobretudo', 'educacao', 'educacao', 'ciencia', 'empreendedorsocial', 'educacao', 'ciencia', 'educacao', 'tec', 'equilibrioesaude', 'ciencia', 'empreendedorsocial', 'ambiente', 'comida', 'empreendedorsocial', 'educacao', 'educacao', 'turismo', 'tec', 'turismo', 'equilibrioesaude', 'tec', 'ciencia', 'comida', 'turismo', 'equilibrioesaude', 'tec', 'ciencia', 'tec', 'educacao', 'equilibrioesaude', 'turismo', 'educacao', 'turismo', 'empreendedorsocial', 'turismo', 'tec', 'sobretudo', 'equilibrioesaude', 'equilibrioesaude', 'educacao', 'turismo', 'sobretudo', 'equilibrioesaude', 'equilibrioesaude', 'educacao', 'educacao', 'ciencia', 'educacao', 'ciencia', 'empreendedorsocial', 'ciencia', 'turismo', 'educacao', 'empreendedorsocial', 'turismo', 'ciencia', 'ciencia', 'educacao', 'tec', 'educacao', 'empreendedorsocial', 'educacao', 'empreendedorsocial', 'equilibrioesaude', 'educacao', 'turismo', 'equilibrioesaude', 'equilibrioesaude', 'tec', 'comida', 'equilibrioesaude', 'tec', 'equilibrioesaude', 'equilibrioesaude', 'empreendedorsocial', 'turismo', 'tec', 'tec', 'tec', 'educacao', 'comida', 'tec', 'empreendedorsocial', 'equilibrioesaude', 'turismo', 'empreendedorsocial', 'ciencia', 'ciencia', 'educacao', 'equilibrioesaude', 'comida', 'sobretudo', 'educacao', 'tec', 'comida', 'turismo', 'turismo', 'sobretudo', 'tec', 'turismo', 'empreendedorsocial', 'tec', 'educacao', 'tec', 'educacao', 'tec', 'empreendedorsocial', 'tec', 'turismo', 'tec', 'turismo', 'tec', 'tec', 'tec', 'ciencia', 'tec', 'educacao', 'tec', 'tec', 'turismo', 'educacao', 'sobretudo', 'equilibrioesaude', 'turismo', 'educacao', 'sobretudo', 'ciencia', 'tec', 'turismo', 'sobretudo', 'tec', 'empreendedorsocial', 'turismo', 'equilibrioesaude', 'tec', 'equilibrioesaude', 'ciencia', 'comida', 'sobretudo', 'empreendedorsocial', 'educacao', 'empreendedorsocial', 'comida', 'educacao', 'sobretudo', 'turismo', 'tec', 'ciencia', 'turismo', 'educacao', 'ciencia', 'comida', 'tec', 'educacao', 'tec', 'educacao', 'turismo', 'tec', 'equilibrioesaude', 'tec', 'sobretudo', 'turismo', 'educacao', 'empreendedorsocial', 'ambiente', 'sobretudo', 'educacao', 'tec', 'turismo', 'educacao', 'turismo', 'turismo', 'comida', 'ambiente', 'educacao', 'turismo', 'educacao', 'educacao', 'educacao', 'tec', 'equilibrioesaude', 'turismo', 'tec', 'turismo', 'educacao', 'sobretudo', 'empreendedorsocial', 'tec', 'educacao', 'turismo', 'equilibrioesaude', 'tec', 'sobretudo', 'equilibrioesaude', 'equilibrioesaude', 'comida', 'empreendedorsocial', 'tec', 'turismo', 'educacao', 'turismo', 'equilibrioesaude', 'tec', 'tec', 'equilibrioesaude', 'sobretudo', 'ambiente', 'tec', 'educacao', 'tec', 'sobretudo', 'equilibrioesaude', 'ciencia', 'ciencia', 'educacao', 'ciencia', 'equilibrioesaude', 'ambiente', 'tec', 'educacao', 'educacao', 'turismo', 'equilibrioesaude', 'educacao', 'turismo', 'equilibrioesaude', 'tec', 'sobretudo', 'empreendedorsocial', 'turismo', 'ciencia', 'empreendedorsocial', 'educacao', 'comida', 'tec', 'educacao', 'educacao', 'equilibrioesaude', 'equilibrioesaude', 'turismo', 'educacao', 'educacao', 'sobretudo', 'sobretudo', 'empreendedorsocial', 'tec', 'educacao', 'equilibrioesaude', 'equilibrioesaude', 'ambiente', 'educacao', 'comida', 'empreendedorsocial', 'tec', 'tec', 'equilibrioesaude', 'sobretudo', 'educacao', 'ciencia', 'empreendedorsocial', 'turismo', 'educacao', 'turismo', 'tec', 'equilibrioesaude', 'empreendedorsocial', 'tec', 'tec', 'tec', 'turismo', 'turismo', 'sobretudo', 'empreendedorsocial', 'tec', 'turismo', 'tec', 'tec', 'educacao', 'turismo', 'comida', 'ciencia', 'turismo', 'educacao', 'turismo', 'tec', 'ciencia', 'comida', 'tec', 'educacao', 'turismo', 'educacao', 'comida', 'empreendedorsocial', 'tec', 'ciencia', 'tec', 'equilibrioesaude', 'empreendedorsocial', 'ciencia', 'tec', 'comida', 'empreendedorsocial', 'equilibrioesaude', 'sobretudo', 'turismo', 'educacao', 'educacao', 'sobretudo', 'tec', 'turismo', 'tec', 'sobretudo', 'educacao', 'equilibrioesaude', 'tec', 'turismo', 'turismo', 'tec', 'equilibrioesaude', 'educacao', 'turismo', 'comida', 'equilibrioesaude', 'ciencia', 'ciencia', 'sobretudo', 'educacao', 'turismo', 'ciencia', 'sobretudo', 'equilibrioesaude', 'tec', 'comida', 'turismo', 'sobretudo', 'empreendedorsocial', 'educacao', 'empreendedorsocial', 'turismo', 'educacao', 'educacao', 'sobretudo', 'turismo', 'empreendedorsocial', 'educacao', 'equilibrioesaude', 'tec', 'tec', 'equilibrioesaude', 'equilibrioesaude', 'equilibrioesaude', 'turismo', 'ciencia', 'tec', 'sobretudo', 'turismo', 'empreendedorsocial', 'tec', 'tec', 'tec', 'comida', 'tec', 'tec', 'turismo', 'educacao', 'tec', 'educacao', 'ambiente', 'sobretudo', 'turismo', 'educacao', 'equilibrioesaude', 'turismo', 'sobretudo', 'turismo', 'empreendedorsocial', 'ciencia', 'educacao', 'educacao', 'ambiente', 'ambiente', 'equilibrioesaude', 'equilibrioesaude', 'turismo', 'equilibrioesaude', 'comida', 'turismo', 'tec', 'turismo', 'educacao', 'empreendedorsocial', 'turismo', 'comida', 'turismo', 'ciencia', 'turismo', 'turismo', 'educacao', 'ciencia', 'equilibrioesaude', 'educacao', 'turismo', 'tec', 'tec', 'turismo', 'turismo', 'comida', 'turismo', 'sobretudo', 'empreendedorsocial', 'equilibrioesaude', 'turismo', 'ciencia', 'ciencia', 'equilibrioesaude', 'ciencia', 'tec', 'tec', 'ciencia', 'tec', 'sobretudo', 'turismo', 'tec', 'tec', 'turismo', 'tec', 'educacao', 'comida', 'educacao', 'sobretudo', 'comida', 'equilibrioesaude', 'sobretudo', 'equilibrioesaude', 'educacao', 'sobretudo', 'comida', 'educacao', 'ciencia', 'turismo', 'tec', 'educacao', 'sobretudo', 'educacao', 'educacao', 'sobretudo', 'educacao', 'comida', 'tec', 'educacao', 'turismo', 'empreendedorsocial', 'turismo', 'comida', 'equilibrioesaude', 'tec', 'tec', 'educacao', 'comida', 'tec', 'tec', 'tec', 'empreendedorsocial', 'tec', 'equilibrioesaude', 'turismo', 'tec', 'comida', 'turismo', 'equilibrioesaude', 'educacao', 'ciencia', 'tec', 'tec', 'ciencia', 'tec', 'turismo', 'empreendedorsocial', 'comida', 'turismo', 'equilibrioesaude', 'ciencia', 'turismo', 'educacao', 'tec', 'equilibrioesaude', 'turismo', 'tec', 'ciencia', 'equilibrioesaude', 'ciencia', 'turismo', 'equilibrioesaude', 'empreendedorsocial', 'turismo', 'equilibrioesaude', 'empreendedorsocial', 'turismo', 'comida', 'educacao', 'equilibrioesaude', 'equilibrioesaude', 'educacao', 'turismo', 'ciencia', 'educacao', 'equilibrioesaude', 'tec', 'tec', 'turismo', 'ciencia', 'ciencia', 'ciencia', 'turismo', 'educacao', 'tec', 'comida', 'tec', 'equilibrioesaude', 'educacao', 'equilibrioesaude', 'tec', 'equilibrioesaude', 'ciencia', 'ciencia', 'educacao', 'equilibrioesaude', 'educacao', 'turismo', 'tec', 'turismo', 'tec', 'ambiente', 'ciencia', 'educacao', 'equilibrioesaude', 'turismo', 'turismo', 'tec', 'tec', 'ciencia', 'equilibrioesaude', 'comida', 'sobretudo', 'turismo', 'educacao', 'comida', 'comida', 'turismo', 'equilibrioesaude', 'tec', 'ambiente', 'educacao', 'educacao', 'tec', 'educacao', 'sobretudo', 'tec', 'equilibrioesaude', 'tec', 'educacao', 'educacao', 'tec', 'sobretudo', 'sobretudo', 'turismo', 'tec', 'turismo', 'sobretudo', 'ciencia', 'tec', 'educacao', 'turismo', 'educacao', 'turismo', 'tec', 'ambiente', 'empreendedorsocial', 'tec', 'comida', 'educacao', 'empreendedorsocial', 'educacao', 'ciencia', 'turismo', 'tec', 'ciencia', 'tec', 'turismo', 'turismo', 'educacao', 'turismo', 'empreendedorsocial', 'tec', 'sobretudo', 'empreendedorsocial', 'tec', 'educacao', 'turismo', 'equilibrioesaude', 'ciencia', 'educacao', 'equilibrioesaude', 'educacao', 'tec', 'equilibrioesaude', 'comida', 'sobretudo', 'equilibrioesaude', 'tec', 'tec', 'equilibrioesaude', 'tec', 'sobretudo', 'equilibrioesaude', 'equilibrioesaude', 'educacao', 'ciencia', 'sobretudo', 'turismo', 'ciencia', 'turismo', 'equilibrioesaude', 'tec', 'empreendedorsocial', 'educacao', 'educacao', 'equilibrioesaude', 'ciencia', 'educacao', 'comida', 'tec', 'ciencia', 'tec', 'educacao', 'comida', 'tec', 'equilibrioesaude', 'tec', 'tec', 'ciencia', 'turismo', 'comida', 'turismo', 'educacao', 'equilibrioesaude', 'empreendedorsocial', 'tec', 'empreendedorsocial', 'turismo', 'turismo', 'educacao', 'ambiente', 'turismo', 'sobretudo', 'ciencia', 'equilibrioesaude', 'equilibrioesaude', 'comida', 'turismo', 'tec', 'equilibrioesaude', 'turismo', 'empreendedorsocial', 'equilibrioesaude', 'equilibrioesaude', 'turismo', 'tec', 'sobretudo', 'tec', 'tec', 'educacao', 'equilibrioesaude', 'tec', 'educacao', 'equilibrioesaude', 'educacao', 'tec', 'tec', 'turismo', 'ciencia', 'tec', 'tec', 'tec', 'educacao', 'educacao', 'sobretudo', 'turismo', 'educacao', 'ciencia', 'tec', 'sobretudo', 'educacao', 'turismo', 'empreendedorsocial', 'turismo', 'turismo', 'tec', 'educacao', 'tec', 'ciencia', 'educacao', 'ciencia', 'sobretudo', 'tec', 'turismo', 'educacao', 'ciencia', 'comida', 'tec', 'ciencia', 'educacao', 'tec', 'educacao', 'equilibrioesaude', 'turismo', 'educacao', 'comida', 'comida', 'educacao', 'turismo', 'equilibrioesaude', 'ciencia', 'sobretudo', 'equilibrioesaude', 'tec', 'turismo', 'educacao', 'comida', 'equilibrioesaude', 'turismo', 'turismo', 'tec', 'educacao', 'tec', 'educacao', 'equilibrioesaude', 'ciencia', 'tec', 'tec', 'ciencia', 'tec', 'educacao', 'sobretudo', 'ciencia', 'turismo', 'tec', 'ciencia', 'tec', 'educacao', 'ciencia', 'turismo', 'educacao', 'ciencia', 'sobretudo', 'ciencia', 'turismo', 'educacao', 'ciencia', 'empreendedorsocial', 'educacao', 'tec', 'equilibrioesaude', 'sobretudo', 'tec', 'ciencia', 'empreendedorsocial', 'empreendedorsocial', 'tec', 'tec', 'comida', 'equilibrioesaude', 'tec', 'turismo', 'empreendedorsocial', 'educacao', 'turismo', 'sobretudo', 'educacao', 'turismo', 'turismo', 'educacao', 'tec', 'tec', 'tec', 'equilibrioesaude', 'tec', 'educacao', 'equilibrioesaude', 'tec', 'tec', 'ciencia', 'tec', 'equilibrioesaude', 'equilibrioesaude', 'educacao', 'sobretudo', 'sobretudo', 'ciencia', 'tec', 'empreendedorsocial', 'educacao', 'tec', 'tec', 'turismo', 'educacao', 'turismo', 'ambiente', 'ciencia', 'turismo', 'tec', 'equilibrioesaude', 'tec', 'tec', 'educacao', 'tec', 'tec', 'educacao', 'educacao', 'educacao', 'sobretudo', 'educacao', 'turismo', 'equilibrioesaude', 'ciencia', 'turismo', 'turismo', 'ambiente', 'turismo', 'educacao', 'equilibrioesaude', 'tec', 'turismo', 'equilibrioesaude', 'turismo', 'turismo', 'equilibrioesaude', 'sobretudo', 'turismo', 'ciencia', 'educacao', 'equilibrioesaude', 'sobretudo', 'educacao', 'tec', 'equilibrioesaude', 'tec', 'educacao', 'educacao', 'educacao', 'turismo', 'sobretudo', 'educacao', 'tec', 'turismo', 'equilibrioesaude', 'empreendedorsocial', 'empreendedorsocial', 'educacao', 'equilibrioesaude', 'equilibrioesaude', 'tec', 'educacao', 'equilibrioesaude', 'turismo', 'turismo', 'sobretudo', 'sobretudo', 'tec', 'educacao', 'educacao', 'turismo', 'equilibrioesaude', 'ciencia', 'sobretudo', 'ciencia', 'turismo', 'ciencia', 'sobretudo', 'turismo', 'ambiente', 'educacao', 'sobretudo', 'sobretudo', 'turismo', 'tec', 'comida', 'educacao', 'ciencia', 'sobretudo', 'equilibrioesaude', 'comida', 'equilibrioesaude', 'comida', 'turismo', 'educacao', 'comida', 'turismo', 'comida', 'tec', 'educacao', 'educacao', 'educacao', 'tec', 'equilibrioesaude', 'sobretudo', 'empreendedorsocial', 'educacao', 'ciencia', 'tec', 'tec', 'equilibrioesaude', 'turismo', 'tec', 'comida', 'equilibrioesaude', 'educacao', 'tec', 'educacao', 'tec', 'ciencia', 'tec', 'educacao', 'sobretudo', 'turismo', 'ambiente', 'educacao', 'educacao', 'empreendedorsocial', 'ambiente', 'ciencia', 'turismo', 'turismo', 'empreendedorsocial', 'tec', 'educacao', 'empreendedorsocial', 'turismo', 'turismo', 'ciencia', 'educacao', 'educacao', 'sobretudo', 'empreendedorsocial', 'ciencia', 'equilibrioesaude', 'educacao', 'turismo', 'turismo', 'equilibrioesaude', 'educacao', 'turismo', 'ciencia', 'ciencia', 'ambiente', 'equilibrioesaude', 'ciencia', 'ciencia', 'ambiente', 'sobretudo', 'tec', 'educacao', 'educacao', 'ciencia', 'ciencia', 'sobretudo', 'sobretudo', 'educacao', 'sobretudo', 'tec', 'empreendedorsocial', 'ciencia', 'equilibrioesaude', 'empreendedorsocial', 'sobretudo', 'ciencia', 'equilibrioesaude', 'tec', 'tec', 'educacao', 'sobretudo', 'empreendedorsocial', 'ambiente', 'sobretudo', 'ciencia', 'educacao', 'ciencia', 'equilibrioesaude', 'empreendedorsocial', 'tec', 'tec', 'ambiente', 'tec', 'tec', 'tec', 'comida', 'equilibrioesaude', 'turismo', 'educacao', 'ciencia', 'educacao', 'turismo', 'educacao', 'equilibrioesaude', 'sobretudo', 'equilibrioesaude', 'turismo', 'empreendedorsocial', 'ciencia', 'ciencia', 'educacao', 'equilibrioesaude', 'equilibrioesaude', 'tec', 'equilibrioesaude', 'educacao', 'educacao', 'turismo', 'empreendedorsocial', 'educacao', 'ciencia', 'sobretudo', 'turismo', 'equilibrioesaude', 'educacao', 'educacao', 'ciencia', 'turismo', 'turismo', 'sobretudo', 'equilibrioesaude', 'equilibrioesaude', 'sobretudo', 'comida', 'ciencia', 'ciencia', 'tec', 'equilibrioesaude', 'equilibrioesaude', 'comida', 'tec', 'turismo', 'educacao', 'ciencia', 'tec', 'equilibrioesaude', 'equilibrioesaude', 'equilibrioesaude', 'turismo', 'equilibrioesaude', 'sobretudo', 'ambiente', 'turismo', 'sobretudo', 'turismo', 'tec', 'tec', 'equilibrioesaude', 'equilibrioesaude', 'turismo', 'tec', 'empreendedorsocial', 'educacao', 'tec', 'educacao', 'turismo', 'comida', 'tec', 'turismo', 'turismo', 'ciencia', 'equilibrioesaude', 'equilibrioesaude', 'sobretudo', 'tec', 'ciencia', 'turismo', 'tec', 'tec', 'turismo', 'ciencia', 'tec', 'ciencia', 'tec', 'sobretudo', 'turismo', 'educacao', 'tec', 'equilibrioesaude', 'tec', 'tec', 'comida', 'tec', 'ciencia', 'tec', 'educacao', 'equilibrioesaude', 'turismo', 'educacao', 'turismo', 'equilibrioesaude', 'ciencia', 'sobretudo', 'equilibrioesaude', 'ciencia', 'educacao', 'comida', 'educacao', 'tec', 'ciencia', 'turismo', 'empreendedorsocial', 'sobretudo', 'empreendedorsocial', 'equilibrioesaude', 'ambiente', 'ciencia', 'tec', 'tec', 'sobretudo', 'turismo', 'educacao', 'educacao', 'turismo', 'equilibrioesaude', 'turismo', 'educacao', 'empreendedorsocial', 'tec', 'sobretudo', 'ciencia', 'empreendedorsocial', 'ciencia', 'tec']\n"
     ]
    }
   ],
   "source": [
    "predictions = trained_model.predict(df2)\n",
    "print(predictions)"
   ]
  },
  {
   "cell_type": "code",
   "execution_count": 24,
   "metadata": {},
   "outputs": [
    {
     "data": {
      "text/html": [
       "<div>\n",
       "<style scoped>\n",
       "    .dataframe tbody tr th:only-of-type {\n",
       "        vertical-align: middle;\n",
       "    }\n",
       "\n",
       "    .dataframe tbody tr th {\n",
       "        vertical-align: top;\n",
       "    }\n",
       "\n",
       "    .dataframe thead th {\n",
       "        text-align: right;\n",
       "    }\n",
       "</style>\n",
       "<table border=\"1\" class=\"dataframe\">\n",
       "  <thead>\n",
       "    <tr style=\"text-align: right;\">\n",
       "      <th></th>\n",
       "      <th>article_id</th>\n",
       "      <th>category</th>\n",
       "    </tr>\n",
       "  </thead>\n",
       "  <tbody>\n",
       "    <tr>\n",
       "      <th>0</th>\n",
       "      <td>4763</td>\n",
       "      <td>educacao</td>\n",
       "    </tr>\n",
       "    <tr>\n",
       "      <th>1</th>\n",
       "      <td>52</td>\n",
       "      <td>turismo</td>\n",
       "    </tr>\n",
       "    <tr>\n",
       "      <th>2</th>\n",
       "      <td>7682</td>\n",
       "      <td>turismo</td>\n",
       "    </tr>\n",
       "    <tr>\n",
       "      <th>3</th>\n",
       "      <td>10292</td>\n",
       "      <td>ciencia</td>\n",
       "    </tr>\n",
       "    <tr>\n",
       "      <th>4</th>\n",
       "      <td>7435</td>\n",
       "      <td>empreendedorsocial</td>\n",
       "    </tr>\n",
       "    <tr>\n",
       "      <th>...</th>\n",
       "      <td>...</td>\n",
       "      <td>...</td>\n",
       "    </tr>\n",
       "    <tr>\n",
       "      <th>4246</th>\n",
       "      <td>1455</td>\n",
       "      <td>sobretudo</td>\n",
       "    </tr>\n",
       "    <tr>\n",
       "      <th>4247</th>\n",
       "      <td>8349</td>\n",
       "      <td>ciencia</td>\n",
       "    </tr>\n",
       "    <tr>\n",
       "      <th>4248</th>\n",
       "      <td>2616</td>\n",
       "      <td>empreendedorsocial</td>\n",
       "    </tr>\n",
       "    <tr>\n",
       "      <th>4249</th>\n",
       "      <td>10956</td>\n",
       "      <td>ciencia</td>\n",
       "    </tr>\n",
       "    <tr>\n",
       "      <th>4250</th>\n",
       "      <td>11289</td>\n",
       "      <td>tec</td>\n",
       "    </tr>\n",
       "  </tbody>\n",
       "</table>\n",
       "<p>4251 rows × 2 columns</p>\n",
       "</div>"
      ],
      "text/plain": [
       "      article_id            category\n",
       "0           4763            educacao\n",
       "1             52             turismo\n",
       "2           7682             turismo\n",
       "3          10292             ciencia\n",
       "4           7435  empreendedorsocial\n",
       "...          ...                 ...\n",
       "4246        1455           sobretudo\n",
       "4247        8349             ciencia\n",
       "4248        2616  empreendedorsocial\n",
       "4249       10956             ciencia\n",
       "4250       11289                 tec\n",
       "\n",
       "[4251 rows x 2 columns]"
      ]
     },
     "execution_count": 24,
     "metadata": {},
     "output_type": "execute_result"
    }
   ],
   "source": [
    "submission['category'] = predictions\n",
    "submission"
   ]
  },
  {
   "cell_type": "code",
   "execution_count": 25,
   "metadata": {},
   "outputs": [],
   "source": [
    "submission.to_csv('submission.csv', index=False)"
   ]
  },
  {
   "cell_type": "code",
   "execution_count": null,
   "metadata": {},
   "outputs": [],
   "source": []
  }
 ],
 "metadata": {
  "kernelspec": {
   "display_name": "Python 3",
   "language": "python",
   "name": "python3"
  },
  "language_info": {
   "codemirror_mode": {
    "name": "ipython",
    "version": 3
   },
   "file_extension": ".py",
   "mimetype": "text/x-python",
   "name": "python",
   "nbconvert_exporter": "python",
   "pygments_lexer": "ipython3",
   "version": "3.7.6"
  }
 },
 "nbformat": 4,
 "nbformat_minor": 4
}
